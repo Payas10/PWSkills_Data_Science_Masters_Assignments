{
 "cells": [
  {
   "cell_type": "markdown",
   "id": "8494cfb8-b16c-4936-ad6d-f29e7895ed72",
   "metadata": {},
   "source": [
    "# Assignment 35 - Mar 11' 23 - Statistics Advance 4"
   ]
  },
  {
   "cell_type": "markdown",
   "id": "114551c3-d18c-43f4-9ea9-ef66214437c9",
   "metadata": {},
   "source": [
    "### Q1. What is the difference between a t-test and a z-test? Provide an example scenario where you would use each type of test."
   ]
  },
  {
   "cell_type": "markdown",
   "id": "237a0934-8b08-4a35-9017-f19d7a7fbcac",
   "metadata": {},
   "source": [
    "| Parameters | T-Test | Z-Test |\n",
    "| --- | --- | --- |\n",
    "| Assumption about population standard deviation | Unknown, estimated from sample data | Known |\n",
    "| Sample size | Small (typically < 30) | Large (typically > 30) |\n",
    "| Use when comparing | Means of two groups | Means of two groups |\n",
    "| Example scenario | Comparing the average height of men and women | Testing the effectiveness of a new medical treatment |\n",
    "| Formula | $t = \\frac{\\bar{x}_1 - \\bar{x}_2}{s_{pooled}\\sqrt{\\frac{1}{n_1}+\\frac{1}{n_2}}}$ | $z = \\frac{\\bar{x}_1 - \\bar{x}_2}{\\sqrt{\\frac{\\sigma_1^2}{n_1}+\\frac{\\sigma_2^2}{n_2}}}$ |\n",
    "| Degrees of freedom | $df = n_1 + n_2 - 2$ | Not applicable |\n",
    "| Critical values | Look up in t-distribution table with degrees of freedom | Look up in standard normal distribution table |\n",
    "| Hypothesis testing | $H_0$: $\\mu_1 = \\mu_2$; $H_1$: $\\mu_1 \\neq \\mu_2$ | $H_0$: $\\mu_1 = \\mu_2$; $H_1$: $\\mu_1 \\neq \\mu_2$ |\n",
    "| Confidence interval | $\\bar{x}_1 - \\bar{x}_2 \\pm t_{\\alpha/2, df} \\times s_{pooled}\\sqrt{\\frac{1}{n_1}+\\frac{1}{n_2}}$ | $\\bar{x}_1 - \\bar{x}_2 \\pm z_{\\alpha/2}\\times \\sqrt{\\frac{\\sigma_1^2}{n_1}+\\frac{\\sigma_2^2}{n_2}}$ |"
   ]
  },
  {
   "cell_type": "markdown",
   "id": "fbbcbf86-d4ec-4541-a345-178137f9ce9e",
   "metadata": {},
   "source": [
    "* For T-test s_pooled is given as below :\n",
    "$$ s_{pooled} = \\sqrt{\\frac{(n_1-1)s_1^2 + (n_2-1)s_2^2}{n_1+n_2-2}} $$"
   ]
  },
  {
   "cell_type": "markdown",
   "id": "86cb6f5e-1b51-4cc0-b5f5-f31b2d51a070",
   "metadata": {},
   "source": [
    "* For T-test s_pooled is given as below :\n",
    "$$ s_{pooled} = \\sqrt{\\frac{(n_1-1)s_1^2 + (n_2-1)s_2^2}{n_1+n_2-2}} $$"
   ]
  },
  {
   "cell_type": "markdown",
   "id": "421bbdac-4a39-4b3e-96a1-d6d39278a231",
   "metadata": {},
   "source": [
    "![t-test vs z-test](https://sixsigmastudyguide.com/wp-content/uploads/2021/08/tz10.png)"
   ]
  },
  {
   "cell_type": "markdown",
   "id": "111b937c-14c1-4375-8e58-ff6fd6a2f38e",
   "metadata": {},
   "source": [
    "#### Example for T- Test :\n",
    "For example, suppose you want to compare the average test scores of two groups of students who took different types of classes. A t-test would be used to determine whether there is a significant difference between the two groups.\n",
    "    \n",
    "\n",
    "#### Example for Z-Test :\n",
    "suppose you want to compare the average heights of two groups of people from different countries. A z-test would be used to determine whether there is a significant difference between the two groups. Here Sample size >30 and population variance MUST BE KNOWN."
   ]
  },
  {
   "cell_type": "markdown",
   "id": "d5025fde-5a33-47f7-9f0a-595b37190ba8",
   "metadata": {},
   "source": [
    "### Q2: Differentiate between one-tailed and two-tailed tests."
   ]
  },
  {
   "cell_type": "markdown",
   "id": "b1b79774-3931-4a68-95df-20f39cb3326c",
   "metadata": {},
   "source": [
    "|         | One-tailed Test | Two-tailed Test |\n",
    "|---------|----------------|----------------|\n",
    "| Definition | A statistical test in which the alternative hypothesis specifies the direction of the effect (either positive or negative) | A statistical test in which the alternative hypothesis does not specify the direction of the effect |\n",
    "| Directionality | The alternative hypothesis is formulated in a specific direction | The alternative hypothesis is formulated in both directions |\n",
    "| Hypotheses | Null hypothesis and one-tailed alternative hypothesis | Null hypothesis and two-tailed alternative hypothesis |\n",
    "| Appropriate Use | When there is prior knowledge or a strong theoretical justification for the direction of the effect | When there is no prior knowledge or theoretical justification for the direction of the effect |\n",
    "| Example | Testing whether a new drug increases blood pressure | Testing whether a new drug has any effect on blood pressure, regardless of whether it increases or decreases it |"
   ]
  },
  {
   "cell_type": "markdown",
   "id": "9942fb6c-8825-4487-a6f2-0848bbf2ed09",
   "metadata": {},
   "source": [
    "![One vs Two tailed](https://cdn.wallstreetmojo.com/wp-content/uploads/2022/01/One-Tailed-Test-Explained.jpg)"
   ]
  },
  {
   "cell_type": "markdown",
   "id": "c137db66-6a0b-4e6f-b22f-0a34b7ee6300",
   "metadata": {},
   "source": [
    "### Q3: Explain the concept of Type 1 and Type 2 errors in hypothesis testing. Provide an example scenario for each type of error."
   ]
  },
  {
   "cell_type": "markdown",
   "id": "01f380b1-36ac-4ad9-b15e-eb9975d2e134",
   "metadata": {},
   "source": [
    "In hypothesis testing, there are two types of errors that can occur: \n",
    "> 1. Type I error\n",
    "> 2. Type II error.\n",
    "\n",
    "#### Type I error \n",
    "Type I error occurs when the null hypothesis is rejected even though it is actually true. This means that the researcher concludes that there is a significant effect or difference between two groups when in reality there is not. The probability of making a Type I error is denoted as alpha (α) and is set by the researcher prior to conducting the test. A smaller alpha level means a lower probability of making a Type I error.\n",
    "\n",
    "#### Type II error\n",
    "Type II error, on the other hand, occurs when the null hypothesis is not rejected even though it is actually false. This means that the researcher concludes that there is no significant effect or difference between two groups when in reality there is. The probability of making a Type II error is denoted as beta (β). The probability of making a Type II error depends on several factors such as the sample size, effect size, and the alpha level.\n",
    "\n",
    "#### Example\n",
    "\n",
    "* **Type I error**: Suppose a company produces a batch of 10,000 pens and claims that the average weight of each pen is 5 grams. A researcher randomly selects a sample of 50 pens and finds that the average weight is 5.2 grams with a standard deviation of 0.5 grams. The researcher conducts a hypothesis test with a significance level of 0.05 and concludes that the average weight of the pens is significantly greater than 5 grams. However, in reality, the average weight of the pens is actually 5 grams, and the researcher has made a Type I error by rejecting the null hypothesis.\n",
    "\n",
    "* **Type II error**: Consider a clinical trial testing the effectiveness of a new drug for treating a certain disease. The null hypothesis is that the drug has no effect on the disease, while the alternative hypothesis is that the drug does have an effect. If the clinical trial fails to reject the null hypothesis, it could be due to the drug having no effect, or it could be due to a Type II error, where the drug actually does have an effect but it was not detected in the study. In this scenario, a Type II error would occur if the new drug is effective, but the clinical trial fails to detect its effectiveness due to a small sample size or other limitations of the study."
   ]
  },
  {
   "cell_type": "markdown",
   "id": "41cd87a9-3c08-4439-b2fa-caecbcb49ec4",
   "metadata": {},
   "source": [
    "![Type 1 and 2](https://datasciencedojo.com/wp-content/uploads/Hypothesis-Testing-Outcomes.png)"
   ]
  },
  {
   "cell_type": "markdown",
   "id": "2ae806cc-ce21-4dcf-b569-f2d91b47e3b9",
   "metadata": {},
   "source": [
    "### Q4:  Explain Bayes's theorem with an example."
   ]
  },
  {
   "cell_type": "markdown",
   "id": "556361d4-3a74-4897-9214-7501d5c09130",
   "metadata": {},
   "source": [
    "Bayes's theorem is a mathematical formula that provides a way to update the probability of an event occurring based on new information. It is named after Thomas Bayes, an 18th-century British statistician.\n",
    "\n",
    "Bayes's theorem can be expressed as follows:\n",
    "\n",
    "$$P(A|B) = \\frac{P(B|A) \\times P(A)}{P(B)}$$\n",
    "\n",
    "where:\n",
    "\n",
    "* P(A|B) is the probability of event A occurring given that event B has occurred\n",
    "* P(B|A) is the probability of event B occurring given that event A has occurred\n",
    "* P(A) is the prior probability of event A occurring\n",
    "* P(B) is the prior probability of event B occurring"
   ]
  },
  {
   "cell_type": "markdown",
   "id": "232ab5ef-2979-4de0-b71d-57a601c3b393",
   "metadata": {},
   "source": [
    "#### Example\n",
    "Suppose there is a medical test for a certain disease that affects 1% of the population. The test has a 95% accuracy rate, meaning that it correctly identifies 95% of people who have the disease and correctly identifies 95% of people who do not have the disease. If a person tests positive for the disease, what is the probability that they actually have the disease?\n",
    "\n",
    "#### Using Bayes's theorem, we can calculate the probability as follows:\n",
    "\n",
    "1. Let A be the event that a person has the disease (prior probability = 0.01)\n",
    "\n",
    "2. Let B be the event that a person tests positive for the disease (prior probability = 0.01 x 0.95 + 0.99 x 0.05 = 0.058)\n",
    "\n",
    "3. P(A|B) = P(B|A) x P(A) / P(B)\n",
    "\n",
    "4. P(A|B) = 0.95 x 0.01 / 0.058\n",
    "\n",
    "5. P(A|B) = 0.163\n",
    "\n",
    "Therefore, the probability that a person who tests positive for the disease actually has the disease is approximately 16.3%. This calculation shows that even though the test has a high accuracy rate, there is still a significant chance of a false positive result, and additional testing or confirmation may be necessary to confirm a diagnosis."
   ]
  },
  {
   "cell_type": "markdown",
   "id": "2f920fc6-9bd3-4854-93fc-9897981a8c45",
   "metadata": {},
   "source": [
    "### Q5: What is a confidence interval? How to calculate the confidence interval, explain with an example."
   ]
  },
  {
   "cell_type": "markdown",
   "id": "1d4dd200-65eb-403a-a601-df3486bc9cab",
   "metadata": {},
   "source": [
    "* A confidence interval is a range of values that is likely to contain a population parameter, such as a mean or proportion, with a certain level of confidence. It is a way of quantifying the uncertainty of an estimate based on a sample of data.\n",
    "\n",
    "* The confidence interval is typically expressed as an interval estimate, such as \"95% confidence interval for the mean is between 3.2 and 5.8\". This means that if we were to repeat the sampling process many times, 95% of the time the true population mean would be within this range.\n",
    "\n",
    "* To calculate a confidence interval, we need to know the sample size, the sample mean, and the standard error of the mean (SEM), which is a measure of the variation in the sample means. The confidence interval is based on the standard normal distribution or t-distribution, depending on the sample size and whether the population standard deviation is known."
   ]
  },
  {
   "cell_type": "markdown",
   "id": "76c63802-b22f-4802-a7e7-c9f8220da6d6",
   "metadata": {},
   "source": [
    "#### Here is an example of how to calculate a confidence interval:\n",
    "\n",
    "* Suppose we want to estimate the mean weight of a certain population of adults. We take a random sample of 100 people and measure their weights, and find that the sample mean is 72.5 kilograms and the sample standard deviation is 10.3 kilograms. We want to calculate a 99% confidence interval for the population mean weight.\n",
    "\n",
    "* Since the sample size is greater than 30 and the population standard deviation is unknown, we use the t-distribution. The degrees of freedom is n-1, which is 99 in this case.\n",
    "\n",
    "* First, we calculate the standard error of the mean:\n",
    "\n",
    "    1. SEM = s / sqrt(n) = 10.3 / sqrt(100) = 1.03\n",
    "\n",
    "    2. Next, we find the t-value for a 99% confidence level and 99 degrees of freedom using a t-table or calculator. The value is approximately 2.63.\n",
    "\n",
    "    3. The lower and upper bounds of the confidence interval are calculated as:\n",
    "        * Lower bound = sample mean - t-value x SEM = 72.5 - 2.63 x 1.03 = 69.8\n",
    "        * Upper bound = sample mean + t-value x SEM = 72.5 + 2.63 x 1.03 = 75.2\n",
    "\n",
    "* Therefore, the 99% confidence interval for the population mean weight is between 69.8 and 75.2 kilograms. This means that we are 99% confident that the true population mean weight lies within this range."
   ]
  },
  {
   "cell_type": "code",
   "execution_count": 2,
   "id": "5b6b4983-7e88-4d19-9afd-683972a9637b",
   "metadata": {},
   "outputs": [
    {
     "name": "stdout",
     "output_type": "stream",
     "text": [
      "t_value for 100 samples with significance level of 0.01 is : 2.63\n",
      "The 99% confidence interval for population mean is (69.8, 75.2)\n"
     ]
    }
   ],
   "source": [
    "# Verifying above with python code\n",
    "from math import sqrt\n",
    "import scipy.stats as stats\n",
    "\n",
    "# Given Below data\n",
    "sample_mean = 72.5\n",
    "sample_std = 10.3\n",
    "n = 100\n",
    "\n",
    "# Calculating SEM\n",
    "SEM  = sample_std/sqrt(n)\n",
    "\n",
    "# Defining the significance level \n",
    "alpha = 0.01\n",
    "\n",
    "# Calculating the t value\n",
    "t_value = stats.t.ppf(1-alpha/2, df=n-1)\n",
    "print(f't_value for {n} samples with significance level of {alpha} is : {t_value:.2f}')\n",
    "\n",
    "# Calculate the confidence interval\n",
    "lower_bound = sample_mean - t_value * SEM\n",
    "upper_bound = sample_mean + t_value * SEM\n",
    "\n",
    "# Printing the results\n",
    "print(f\"The 99% confidence interval for population mean is ({lower_bound:.1f}, {upper_bound:.1f})\")"
   ]
  },
  {
   "cell_type": "markdown",
   "id": "5019cd59-4aea-4322-a8e4-291dfb24bff4",
   "metadata": {},
   "source": [
    "### Q6. Use Bayes' Theorem to calculate the probability of an event occurring given prior knowledge of the event's probability and new evidence. Provide a sample problem and solution."
   ]
  },
  {
   "cell_type": "markdown",
   "id": "2f1409fc-fdc7-43b3-8411-6890f79a957b",
   "metadata": {},
   "source": [
    "**Suppose a company manufactures a certain type of product that has a defect rate of 2%. The company uses a quality control process that is 95% effective in catching defective products, and 99% effective in passing non-defective products. If a product passes the quality control process, what is the probability that it is actually defect-free?**\n",
    "\n",
    "\n",
    "To solve this problem using Bayes' theorem, we first define the following events:\n",
    "\n",
    "1. D: the product is defective\n",
    "2. ~D: the product is not defective\n",
    "3. P: the product passes the quality control process\n",
    "\n",
    "**Solution :**\n",
    "~~~\n",
    "P(~D|P) = P(P|~D) * P(~D) / P(P)\n",
    "P(P) = P(P|D) * P(D) + P(P|~D) * P(~D)\n",
    "\n",
    "P(D) = 0.02\n",
    "P(~D) = 0.98\n",
    "P(P|D) = 0.05\n",
    "P(P|~D) = 0.99\n",
    "\n",
    "P(P) = P(P|D) * P(D) + P(P|~D) * P(~D)\n",
    "     = 0.05 * 0.02 + 0.99 * 0.98\n",
    "     = 0.9756\n",
    "\n",
    "P(~D|P) = P(P|~D) * P(~D) / P(P)\n",
    "        = 0.99 * 0.98 / 0.9756\n",
    "        = 0.9990\n",
    "~~~\n",
    "\n",
    "\n",
    "**Therefore, the probability that a product is not defective given that it passes the quality control process is approximately 0.9990, or 99.90%. This result indicates that if a product passes the quality control process, it is highly likely to be defect-free. However, it is important to note that no quality control process is perfect, and some defective products may still slip through.**"
   ]
  },
  {
   "cell_type": "code",
   "execution_count": 3,
   "id": "bed25f00-9289-4bc5-9639-93a389814e08",
   "metadata": {},
   "outputs": [
    {
     "name": "stdout",
     "output_type": "stream",
     "text": [
      "The probability of the product being defect-free given it passed the quality control process is 0.9990\n"
     ]
    }
   ],
   "source": [
    "# Solution for above with python\n",
    "\n",
    "# Define the prior probabilities and conditional probabilities\n",
    "p_defect = 0.02\n",
    "p_pass_given_defect = 0.05\n",
    "p_not_defect = 0.98\n",
    "p_pass_given_not_defect = 0.99\n",
    "\n",
    "# Calculate the total probability of passing the quality control process\n",
    "p_pass = p_pass_given_defect * p_defect + p_pass_given_not_defect * p_not_defect\n",
    "\n",
    "# Calculate the probability of the product being defect-free given it passed the quality control process\n",
    "p_not_defect_given_pass = (p_pass_given_not_defect * p_not_defect) / p_pass\n",
    "\n",
    "# Print the result\n",
    "print(f\"The probability of the product being defect-free given it passed the quality control process is {p_not_defect_given_pass:.4f}\")"
   ]
  },
  {
   "cell_type": "markdown",
   "id": "be5c1c7f-a757-4816-9fe4-62a7e9c69a84",
   "metadata": {},
   "source": [
    "### Q7. Calculate the 95% confidence interval for a sample of data with a mean of 50 and a standard deviation of 5. Interpret the results."
   ]
  },
  {
   "cell_type": "markdown",
   "id": "3d75549d-2d95-4c1a-ab0c-febf002dd794",
   "metadata": {},
   "source": [
    "#### Assuming sample size of 30 "
   ]
  },
  {
   "cell_type": "code",
   "execution_count": 4,
   "id": "1a2c07fb-15c4-47bc-92a6-5be1297bad27",
   "metadata": {},
   "outputs": [
    {
     "name": "stdout",
     "output_type": "stream",
     "text": [
      "t statistic for significance level 0.05 , sample size of 30 is : 2.05\n",
      "The 95% confidence interval is (48.13, 51.87)\n"
     ]
    }
   ],
   "source": [
    "import math\n",
    "import scipy.stats as stats\n",
    "\n",
    "# Define the sample mean, standard deviation, and sample size\n",
    "sample_mean = 50\n",
    "sample_std_dev = 5\n",
    "sample_size = 30\n",
    "\n",
    "# Signficance Level\n",
    "alpha = 0.05\n",
    "\n",
    "# Calculate the critical value for a 95% confidence interval\n",
    "t_crit = stats.t.ppf(1-alpha/2, df=sample_size-1)\n",
    "print(f't statistic for significance level {alpha} , sample size of {sample_size} is : {t_crit:.2f}')\n",
    "\n",
    "# Calculate the standard error\n",
    "std_error = sample_std_dev / math.sqrt(sample_size)\n",
    "\n",
    "# Calculate the lower and upper bounds of the confidence interval\n",
    "lower_bound = sample_mean - t_crit * std_error\n",
    "upper_bound = sample_mean + t_crit * std_error\n",
    "\n",
    "# Print the results\n",
    "print(f\"The 95% confidence interval is ({lower_bound:.2f}, {upper_bound:.2f})\")\n"
   ]
  },
  {
   "cell_type": "markdown",
   "id": "6c6fc84d-6c91-4c44-bf66-61f02eb1bda7",
   "metadata": {},
   "source": [
    "#### Interpretation \n",
    "From above results we can say with **95% condfidence** that the **POPULATION MEAN** Lies in between **48.13 and 51.87**."
   ]
  },
  {
   "cell_type": "markdown",
   "id": "d8d640fa-492d-4f05-8288-91121a406403",
   "metadata": {},
   "source": [
    "### Q8. What is the margin of error in a confidence interval? How does sample size affect the margin of error? Provide an example of a scenario where a larger sample size would result in a smaller margin of error. "
   ]
  },
  {
   "cell_type": "markdown",
   "id": "ce617a0e-7719-444b-b09c-462fa855f9f1",
   "metadata": {},
   "source": [
    "* The margin of error in a confidence interval is the range of values around the sample statistic (such as the sample mean) within which we expect the true population parameter (such as the population mean) to lie with a certain level of confidence. \n",
    "* The margin of error is affected by the sample size, level of confidence, and standard deviation of the population.\n",
    "* As the sample size increases, the margin of error decreases because larger samples provide more information about the population, and hence the sample statistics are more likely to be representative of the population. \n",
    "* The decrease in margin of error with an increase in sample size follows the square root law, which states that the margin of error decreases by the square root of the sample size."
   ]
  },
  {
   "cell_type": "markdown",
   "id": "2f5a986e-afba-43ad-aea1-794b7d82a10d",
   "metadata": {},
   "source": [
    "**For example, suppose we want to estimate the average height of all students in a university using a random sample of students. We take a sample of 50 students and calculate their average height to be 170 cm with a standard deviation of 5 cm. We want to calculate a 95% confidence interval for the true population mean height.**\n",
    "\n",
    "1. Using the formula for the margin of error for a confidence interval, we get:\n",
    "~~~\n",
    "Margin of error = z-value * (standard deviation / sqrt(sample size))\n",
    "~~~\n",
    "\n",
    "2. For a 95% confidence interval, the critical z-value is 1.96. So, plugging in the values, we get:\n",
    "~~~\n",
    "Margin of error = 1.96 * (5 / sqrt(50)) = 1.38 cm\n",
    "~~~\n",
    "\n",
    "3. This means that we are 95% confident that the true population mean height is within 1.38 cm of our sample mean of 170 cm. If we had taken a larger sample size of 200 students, the margin of error would have been:\n",
    "~~~\n",
    "Margin of error = 1.96 * (5 / sqrt(200)) = 0.98 cm\n",
    "~~~\n",
    "\n",
    "**So, a larger sample size would result in a smaller margin of error, making our estimate of the true population mean height more precise.**"
   ]
  },
  {
   "cell_type": "markdown",
   "id": "0d2948ad-8633-43b4-b061-6ee329fc6699",
   "metadata": {},
   "source": [
    "### Q9. Calculate the z-score for a data point with a value of 75, a population mean of 70, and a population standard deviation of 5. Interpret the results."
   ]
  },
  {
   "cell_type": "code",
   "execution_count": 5,
   "id": "f59c6538-e43e-4666-8fcf-ed062cf1937e",
   "metadata": {},
   "outputs": [
    {
     "name": "stdout",
     "output_type": "stream",
     "text": [
      "The z-score is: 1.0\n"
     ]
    }
   ],
   "source": [
    "# Define the values\n",
    "x = 75  # Data point value\n",
    "mu = 70  # Population mean\n",
    "sigma = 5  # Population standard deviation\n",
    "\n",
    "# Calculate the z-score\n",
    "z = (x - mu) / sigma\n",
    "\n",
    "print(f\"The z-score is: {z}\")"
   ]
  },
  {
   "cell_type": "markdown",
   "id": "0390a805-4770-4d78-9a1d-a7143ce7c7ec",
   "metadata": {},
   "source": [
    "#### Interpretation\n",
    "* This means that the data point is 1 standard deviation above the population mean. \n",
    "* A positive z-score indicates that the data point is above the mean, while a negative z-score indicates that it is below the mean. \n",
    "* The magnitude of the z-score tells us how far away the data point is from the mean in terms of standard deviations."
   ]
  },
  {
   "cell_type": "code",
   "execution_count": 6,
   "id": "624b8adf-d461-4568-9be6-1e363834f24b",
   "metadata": {},
   "outputs": [
    {
     "name": "stdout",
     "output_type": "stream",
     "text": [
      "The percentage of values below a z-score of 1 is: 84.13%\n"
     ]
    }
   ],
   "source": [
    "from scipy.stats import norm\n",
    "\n",
    "# Calculate the percentage of values below a z-score of 1\n",
    "percent_below = norm.cdf(z) * 100\n",
    "\n",
    "print(f\"The percentage of values below a z-score of 1 is: {percent_below:.2f}%\")"
   ]
  },
  {
   "cell_type": "markdown",
   "id": "8a91ac7a-6a8b-4123-9c8b-0db16485705a",
   "metadata": {},
   "source": [
    "#### Interpretation\n",
    "* A z-score of 1 corresponds to approximately 84.13% of values being below this value in a standard normal distribution."
   ]
  },
  {
   "cell_type": "markdown",
   "id": "591773de-1d47-42e8-8668-5680059f014f",
   "metadata": {},
   "source": [
    "### Q10. In a study of the effectiveness of a new weight loss drug, a sample of 50 participants lost an average of 6 pounds with a standard deviation of 2.5 pounds. Conduct a hypothesis test to determine if the drug is significantly effective at a 95% confidence level using a t-test."
   ]
  },
  {
   "cell_type": "code",
   "execution_count": 8,
   "id": "48d68759-aa65-414d-a1c4-9e9fc2076cdb",
   "metadata": {},
   "outputs": [
    {
     "name": "stdout",
     "output_type": "stream",
     "text": [
      "t-statistic: 16.9706\n",
      "p-value: 0.0\n",
      "Reject the null hypothesis. the drug is significantly effective.\n"
     ]
    }
   ],
   "source": [
    "import numpy as np\n",
    "from scipy.stats import t\n",
    "\n",
    "# Null hypothesis: the drug is not significantly effective\n",
    "# Alternative hypothesis: the drug is significantly effective\n",
    "alpha = 0.05  # significance level\n",
    "null_hypothesis = \"the drug is not significantly effective\"\n",
    "alternative_hypothesis = \"the drug is significantly effective\"\n",
    "\n",
    "mu = 0\n",
    "sample_mean = 6\n",
    "sample_std = 2.5\n",
    "n = 50\n",
    "df = n - 1  # degrees of freedom\n",
    "\n",
    "# Calculate the t-score and p-value\n",
    "t_score = (sample_mean - mu) / (sample_std / np.sqrt(n))\n",
    "p_value = 2 * (1 - t.cdf(abs(t_score), df))  # or stats.t.ppf(1 - alpha/2, dof)  # two-tailed t-value\n",
    "\n",
    "# Compare p-value with alpha and make a conclusion\n",
    "print(f\"t-statistic: {t_score:.4f}\")\n",
    "print(f\"p-value: {p_value}\")\n",
    "if p_value < alpha:\n",
    "    print(f\"Reject the null hypothesis. {alternative_hypothesis}.\")\n",
    "else:\n",
    "    print(f\"Fail to reject the null hypothesis. {null_hypothesis}.\")"
   ]
  },
  {
   "cell_type": "markdown",
   "id": "2f90f0c1-5ecd-41b6-ad05-3db8d57abc75",
   "metadata": {},
   "source": [
    "### Q11. In a survey of 500 people, 65% reported being satisfied with their current job. Calculate the 95% confidence interval for the true proportion of people who are satisfied with their job."
   ]
  },
  {
   "cell_type": "code",
   "execution_count": 9,
   "id": "3abe7ff8-2195-4108-bf27-013843d78835",
   "metadata": {},
   "outputs": [
    {
     "name": "stdout",
     "output_type": "stream",
     "text": [
      "The 95% confidence interval for the proportion of people who are satisfied with their job is (60.82%, 69.18%)\n"
     ]
    }
   ],
   "source": [
    "import math\n",
    "\n",
    "p = 0.65  # sample proportion\n",
    "n = 500  # sample size\n",
    "ci = 0.95\n",
    "alpha = 1-ci # 1-0.95 = 0.05\n",
    "z_alpha = 1.96  # z-score for 95% confidence level\n",
    "\n",
    "# Calculate the standard error\n",
    "se = math.sqrt((p * (1 - p)) / n)\n",
    "\n",
    "# Calculate the margin of error\n",
    "me = z_alpha * se\n",
    "\n",
    "# Calculate the confidence interval\n",
    "lower_bound = p - me\n",
    "upper_bound = p + me\n",
    "\n",
    "# Print the results\n",
    "print(f\"The 95% confidence interval for the proportion of people who are satisfied with their job is ({lower_bound*100:.2f}%, {upper_bound*100:.2f}%)\")"
   ]
  },
  {
   "cell_type": "markdown",
   "id": "3fa854dd-a5d4-47ff-af1c-36913a5fb2e6",
   "metadata": {},
   "source": [
    "### Q12. A researcher is testing the effectiveness of two different teaching methods on student performance. Sample A has a mean score of 85 with a standard deviation of 6, while sample B has a mean score of 82 with a standard deviation of 5. Conduct a hypothesis test to determine if the two teaching methods have a significant difference in student performance using a t-test with a significance level of 0.01."
   ]
  },
  {
   "cell_type": "code",
   "execution_count": 13,
   "id": "206f415e-0d84-41e4-8184-901d07c4ea57",
   "metadata": {},
   "outputs": [
    {
     "name": "stdout",
     "output_type": "stream",
     "text": [
      "t-statistic: 2.104\n",
      "Degrees of freedom: 58\n",
      "Critical t-value: 2.663\n",
      "p-value: 0.040\n",
      "Since, t_stat < t_crit i.e. 2.104 < 2.663 : Fail to reject null hypothesis.\n",
      "mu1 = mu2 (the means are equal)\n"
     ]
    }
   ],
   "source": [
    "import numpy as np\n",
    "from scipy.stats import t\n",
    "\n",
    "# Sample A\n",
    "x1 = 85\n",
    "s1 = 6\n",
    "n1 = 30\n",
    "\n",
    "# Sample B\n",
    "x2 = 82\n",
    "s2 = 5\n",
    "n2 = 30\n",
    "\n",
    "# Set up null and alternative hypotheses\n",
    "# H0: mu1 = mu2 (the means are equal)\n",
    "# Ha: mu1 != mu2 (the means are not equal)\n",
    "alpha = 0.01\n",
    "null_hypothesis = \"mu1 = mu2 (the means are equal)\"\n",
    "alternative_hypothesis = \"mu1 != mu2 (the means are not equal)\"\n",
    "\n",
    "# Calculate pooled standard deviation\n",
    "sp = np.sqrt(((n1 - 1) * s1 ** 2 + (n2 - 1) * s2 ** 2) / (n1 + n2 - 2))\n",
    "\n",
    "# Calculate t-statistic\n",
    "t_stat = (x1 - x2) / (sp * np.sqrt(1 / n1 + 1 / n2))\n",
    "\n",
    "# Calculate degrees of freedom\n",
    "df = n1 + n2 - 2\n",
    "\n",
    "# Calculate critical t-value\n",
    "t_crit = t.ppf(1-alpha / 2, df)\n",
    "\n",
    "# Calculate p-value\n",
    "p_value = 2 * (1 - t.cdf(abs(t_stat), df))\n",
    "\n",
    "# Print results\n",
    "print(f\"t-statistic: {t_stat:.3f}\")\n",
    "print(f\"Degrees of freedom: {df}\")\n",
    "print(f\"Critical t-value: {t_crit:.3f}\")\n",
    "print(f\"p-value: {p_value:.3f}\")\n",
    "\n",
    "if abs(t_stat) > t_crit:\n",
    "    print(f\"Since, t_stat > t_crit i.e. {t_stat:.3f} > {t_crit:.3f} : Reject null hypothesis.\")\n",
    "    print(alternative_hypothesis)\n",
    "else:\n",
    "    print(f\"Since, t_stat < t_crit i.e. {t_stat:.3f} < {t_crit:.3f} : Fail to reject null hypothesis.\")\n",
    "    print(null_hypothesis)"
   ]
  },
  {
   "cell_type": "markdown",
   "id": "a23f6964-6930-4b4e-8fe6-046f358c9b16",
   "metadata": {},
   "source": [
    "### Q13. A population has a mean of 60 and a standard deviation of 8. A sample of 50 observations has a mean of 65. Calculate the 90% confidence interval for the true population mean."
   ]
  },
  {
   "cell_type": "code",
   "execution_count": 14,
   "id": "052fef72-50d2-46f8-a931-c081804edbd2",
   "metadata": {},
   "outputs": [
    {
     "name": "stdout",
     "output_type": "stream",
     "text": [
      "t statistic for 50 samples with 90% confidence is : 1.6766\n",
      "The 90% confidence interval for the true population mean is (63.103, 66.897)\n"
     ]
    }
   ],
   "source": [
    "import math\n",
    "from scipy.stats import t\n",
    "\n",
    "pop_mean = 60\n",
    "pop_std = 8\n",
    "n = 50\n",
    "sample_mean = 65\n",
    "confidence_level = 0.90\n",
    "alpha = 1 - confidence_level # 1-0.90 = 0.1\n",
    "\n",
    "# Calculate the t-score\n",
    "t_score = (sample_mean - pop_mean) / (pop_std / math.sqrt(n))\n",
    "\n",
    "# Find the critical t-value\n",
    "df = n - 1\n",
    "t_crit = t.ppf((1+confidence_level)/2, df)  # or t.ppf(1- alpha/2, df)\n",
    "print(f't statistic for {n} samples with {confidence_level*100:.0f}% confidence is : {t_crit:.4f}')\n",
    "\n",
    "# Calculate the margin of error\n",
    "margin_of_error = t_crit * (pop_std / math.sqrt(n))\n",
    "\n",
    "# Calculate the confidence interval\n",
    "lower_bound = sample_mean - margin_of_error\n",
    "upper_bound = sample_mean + margin_of_error\n",
    "\n",
    "# Print the results\n",
    "print(f\"The {confidence_level*100:.0f}% confidence interval for the true population mean is ({lower_bound:.3f}, {upper_bound:.3f})\")\n"
   ]
  },
  {
   "cell_type": "markdown",
   "id": "219923f5-ed9a-4220-9c53-6728bd717a0d",
   "metadata": {},
   "source": [
    "### Q14. In a study of the effects of caffeine on reaction time, a sample of 30 participants had an average reaction time of 0.25 seconds with a standard deviation of 0.05 seconds. Conduct a hypothesis test to determine if the caffeine has a significant effect on reaction time at a 90% confidence level using a t-test."
   ]
  },
  {
   "cell_type": "markdown",
   "id": "f086fd79-65ac-4234-939e-329cc0be9fc5",
   "metadata": {},
   "source": [
    "* In this example popluation mean is not provided \n",
    "* According to researchers typical human reaction time is 200ms to 300ms\n",
    "* So, assuming the population mean as 300ms or 0.3 seconds"
   ]
  },
  {
   "cell_type": "code",
   "execution_count": 15,
   "id": "b5186606-2a02-479f-9f5e-2ff7a309796b",
   "metadata": {},
   "outputs": [
    {
     "name": "stdout",
     "output_type": "stream",
     "text": [
      "t-statistic: -5.477\n",
      "t-critical value: 1.699\n",
      "90% Confidence Interval: (0.234, 0.266)\n",
      "Reject the null hypothesis\n",
      "Caffeine has a significant effect on reaction time\n"
     ]
    }
   ],
   "source": [
    "import math\n",
    "import scipy.stats as stats\n",
    "\n",
    "# Null Hypothesis: Caffeine has no significant effect on reaction time\n",
    "# Alternative Hypothesis: Caffeine has a significant effect on reaction time\n",
    "null_hypothesis = \"Caffeine has no significant effect on reaction time\"\n",
    "alternative_hypothesis = \"Caffeine has a significant effect on reaction time\"\n",
    "\n",
    "sample_mean = 0.25  # sample mean\n",
    "sample_std_dev = 0.05  # sample standard deviation\n",
    "n = 30  # sample size\n",
    "pop_mean = 0.3  # population mean under null hypothesis\n",
    "alpha = 0.1  # 1 - significance level = 1 - 0.90 = 0.1\n",
    "\n",
    "# Calculate the t-statistic\n",
    "t_stat = (sample_mean - pop_mean) / (sample_std_dev / math.sqrt(n))\n",
    "\n",
    "# Calculate the critical t-value\n",
    "t_crit = stats.t.ppf(1-alpha/2, df=n-1)\n",
    "\n",
    "# Calculate the confidence interval\n",
    "margin_of_error = t_crit * (sample_std_dev / math.sqrt(n))\n",
    "lower_ci = sample_mean - margin_of_error\n",
    "upper_ci = sample_mean + margin_of_error\n",
    "\n",
    "# Print the results\n",
    "print(f\"t-statistic: {t_stat:.3f}\")\n",
    "print(f\"t-critical value: {t_crit:.3f}\")\n",
    "print(f\"90% Confidence Interval: ({lower_ci:.3f}, {upper_ci:.3f})\")\n",
    "\n",
    "# Determine if the null hypothesis should be rejected or not\n",
    "if abs(t_stat) > t_crit:\n",
    "    print(\"Reject the null hypothesis\")\n",
    "    print(alternative_hypothesis)\n",
    "else:\n",
    "    print(\"Fail to reject the null hypothesis\")\n",
    "    print(null_hypothesis)"
   ]
  },
  {
   "cell_type": "code",
   "execution_count": null,
   "id": "468d33ab-821d-44fb-822f-ba0cf454e07c",
   "metadata": {},
   "outputs": [],
   "source": []
  }
 ],
 "metadata": {
  "kernelspec": {
   "display_name": "Python 3 (ipykernel)",
   "language": "python",
   "name": "python3"
  },
  "language_info": {
   "codemirror_mode": {
    "name": "ipython",
    "version": 3
   },
   "file_extension": ".py",
   "mimetype": "text/x-python",
   "name": "python",
   "nbconvert_exporter": "python",
   "pygments_lexer": "ipython3",
   "version": "3.10.8"
  }
 },
 "nbformat": 4,
 "nbformat_minor": 5
}
