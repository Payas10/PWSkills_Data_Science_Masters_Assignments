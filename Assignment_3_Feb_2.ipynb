{
 "cells": [
  {
   "cell_type": "markdown",
   "id": "e1805fc2-379c-4c89-a62c-82a4919105eb",
   "metadata": {
    "tags": []
   },
   "source": [
    "# Assignment - 3 | Feb 2"
   ]
  },
  {
   "cell_type": "markdown",
   "id": "033e3cae-dfab-4e6a-acf5-7ba07f14153f",
   "metadata": {
    "tags": []
   },
   "source": [
    "### 1. What are the characteristics of the tuples? Is tuple immutable?"
   ]
  },
  {
   "cell_type": "markdown",
   "id": "042fbeb9-e7fb-4d55-ab15-3d8a40226a1d",
   "metadata": {},
   "source": [
    "1. Tuples are *ordered, indexed collections of data*. Similar to string indices, the first value in the tuple will have the index [0], the second value [1], and so on. \n",
    "2. Tuples can store duplicate values.\n",
    "3. Once data is assigned to a tuple, the values cannot be changed i.e tuple is *immutable*\n",
    "4. Tuples allow you to store *several data items or object class in one variable*. You can choose to store only one kind of data in a tuple or mix it up as needed.\n",
    "\n",
    "* YES, tuple is *immutable*."
   ]
  },
  {
   "cell_type": "markdown",
   "id": "3125274f-ef81-4a43-93b5-027e5abd8539",
   "metadata": {
    "tags": []
   },
   "source": [
    "### 2. What are the two tuple methods in python? Give an example of each method. Give a reason why tuples have only two in-built methods as compared to Lists."
   ]
  },
  {
   "cell_type": "markdown",
   "id": "4b12c374-eb12-4277-a21f-5ac83c91ebb5",
   "metadata": {},
   "source": [
    "The two Tuple Methods in Python are -\n",
    "> * count() - Returns the number of times a specified value occurs in a tuple\n",
    "> * index() - Searches the tuple for a specified value and returns the position of where it was found\n",
    "\n",
    "Unlike list, tuple is immutable i.e assignment of an element at an index is not possible with tuple. Therefore, when compared to list, tuple only has two in-built methods."
   ]
  },
  {
   "cell_type": "code",
   "execution_count": 3,
   "id": "407f95fe-67c6-4134-8f29-3078a710861f",
   "metadata": {},
   "outputs": [
    {
     "name": "stdout",
     "output_type": "stream",
     "text": [
      "2\n",
      "6\n"
     ]
    }
   ],
   "source": [
    "# Example of tuple methods\n",
    "\n",
    "tuple1 = ('h','e','l','l','o','p','y','t','h','o','n')\n",
    "\n",
    "print(tuple1.count('o')) # Output: 2 - Since there is only one 'y' in the tuple\n",
    "\n",
    "print(tuple1.index('y')) # Output: 6 - Since the index of 'y' is 1"
   ]
  },
  {
   "cell_type": "markdown",
   "id": "b1448a36-8f2c-4c39-87bc-e68bfc4c15f5",
   "metadata": {
    "tags": []
   },
   "source": [
    "### 3. Which collection datatypes in python do not allow duplicate items? Write a code using a set to remove duplicates from the given list"
   ]
  },
  {
   "cell_type": "markdown",
   "id": "e6afb43f-25b4-4d52-9ae8-eebad22402f3",
   "metadata": {},
   "source": [
    "**\"set\"** collection datatype in python do **not** allow **duplicate** items."
   ]
  },
  {
   "cell_type": "code",
   "execution_count": 8,
   "id": "4dab78a2-c5ec-4506-9f36-4acba792b743",
   "metadata": {},
   "outputs": [
    {
     "name": "stdout",
     "output_type": "stream",
     "text": [
      "Original list is: [1, 1, 1, 2, 1, 3, 1, 4, 2, 1, 2, 2, 2, 3, 2, 4, 3, 1, 3, 2, 3, 3, 3, 4, 4, 1, 4, 2, 4, 3, 4, 4]\n",
      "List after duplicates are removed: [1, 2, 3, 4]\n"
     ]
    }
   ],
   "source": [
    "l =  [1, 1, 1, 2, 1, 3, 1, 4, 2, 1, 2, 2, 2, 3, 2, 4, 3, 1, 3, 2, 3, 3, 3, 4, 4, 1, 4, 2, 4, 3, 4, 4]\n",
    "print(f\"Original list is: {l}\")\n",
    "l = list(set(l)) # set() is used to remove all duplicates from the list\n",
    "print(f\"List after duplicates are removed: {l}\")"
   ]
  },
  {
   "cell_type": "markdown",
   "id": "cadb323c-f306-4f07-8c13-bbef6421cdf3",
   "metadata": {
    "tags": []
   },
   "source": [
    "### 4.  Explain the difference between the union() and update() methods for a set. Give an example of each method"
   ]
  },
  {
   "cell_type": "markdown",
   "id": "a5aaeb44-f2be-4505-a94b-19328b15782c",
   "metadata": {},
   "source": [
    "> * union() - Return a set containing the union of sets || **new set** with elements from both s and t\n",
    "> * update() - Update the set with another set, or any other iterable || return **same set s** with elements added from t"
   ]
  },
  {
   "cell_type": "code",
   "execution_count": 11,
   "id": "381da5ea-9233-43dd-a95b-f865d7f84dcc",
   "metadata": {},
   "outputs": [
    {
     "name": "stdout",
     "output_type": "stream",
     "text": [
      "{'papaya', 'pomogranate', 'banana', 'grapes', 'cherry', 'strawberry', 'apple', 'kiwi'}\n"
     ]
    }
   ],
   "source": [
    "# union()\n",
    "\n",
    "basket_1 = {\"apple\", \"banana\", \"cherry\", \"kiwi\", \"papaya\"}\n",
    "basket_2 = {\"grapes\", \"pomogranate\", \"strawberry\"}\n",
    "\n",
    "big_basket = basket_1.union(basket_2)\n",
    "\n",
    "print(big_basket)"
   ]
  },
  {
   "cell_type": "code",
   "execution_count": 13,
   "id": "1a46939e-a903-4700-9b56-cf1058f32b53",
   "metadata": {},
   "outputs": [
    {
     "name": "stdout",
     "output_type": "stream",
     "text": [
      "{'papaya', 'pomogranate', 'banana', 'grapes', 'cherry', 'strawberry', 'apple', 'kiwi'}\n"
     ]
    }
   ],
   "source": [
    "# update()\n",
    "\n",
    "basket_1 = {\"apple\", \"banana\", \"cherry\", \"kiwi\", \"papaya\"}\n",
    "basket_2 = {\"grapes\", \"pomogranate\", \"strawberry\"}\n",
    "\n",
    "basket_1.update(basket_2)\n",
    "\n",
    "print(basket_1)"
   ]
  },
  {
   "cell_type": "markdown",
   "id": "d6b03dad-cfdc-435a-8be7-0949a69a9225",
   "metadata": {
    "tags": []
   },
   "source": [
    "### 5.  What is a dictionary? Give an example. Also, state whether a dictionary is ordered or unordered."
   ]
  },
  {
   "cell_type": "markdown",
   "id": "fbbfc26e-54b9-475e-afb3-4d0a1026169b",
   "metadata": {},
   "source": [
    "* In Python, a dictionary can be created by placing a sequence of elements within curly {} braces, separated by ‘comma’.\n",
    "* A dictionary is a collection which is *ordered*, *changeable* and *do not allow duplicates*.\n",
    "* Dictionary holds pairs of values, one being the Key and the other corresponding pair element being its Key:value.\n",
    "* *Values* in a dictionary can be of any data type and can be duplicated, whereas *keys* can’t be repeated and must be immutable.\n",
    "* To simply understand dictionary, let say that it is our normal dictionary with key being words and values being meaning of those words.\n",
    "\n",
    "* **Note** – Dictionary *keys are case sensitive*, the same name but different cases of Key will be treated distinctly.\n",
    "\n",
    "* Dictionaries are **ordered**, it means that the items have a defined order, and that order will not change and can be accessed by index"
   ]
  },
  {
   "cell_type": "code",
   "execution_count": 16,
   "id": "cdc43b67-e7e7-4db7-8ee5-6802d9dd8622",
   "metadata": {},
   "outputs": [
    {
     "data": {
      "text/plain": [
       "{'brand': 'Samsung',\n",
       " 'model': 'Galaxy S23 pro',\n",
       " 'year': 2023,\n",
       " 'processor': 'Snapdragon 8 gen 2'}"
      ]
     },
     "execution_count": 16,
     "metadata": {},
     "output_type": "execute_result"
    }
   ],
   "source": [
    "# dictionary example\n",
    "d = {\"brand\" : \"Samsung\", \"model\" : \"Galaxy S23 pro\", \"year\" : 2023, \"processor\" : \"Snapdragon 8 gen 2\"}\n",
    "d"
   ]
  },
  {
   "cell_type": "markdown",
   "id": "160004b8-f8cc-4458-afd0-d0c547e802c7",
   "metadata": {
    "tags": []
   },
   "source": [
    "### 6.  Can we create a nested dictionary? If so, please give an example by creating a simple one-level nested dictionary."
   ]
  },
  {
   "cell_type": "markdown",
   "id": "a4b0b9ed-c7e1-45c5-b927-6462e545f3d0",
   "metadata": {},
   "source": [
    "**Yes**, we can create a nested dictionary. However one thing to note is *Key* can not hold values as dict datatype whereas *Value* can hold dict datatype."
   ]
  },
  {
   "cell_type": "code",
   "execution_count": 17,
   "id": "96a7cf77-aa25-4028-8f69-e725c6e266d2",
   "metadata": {},
   "outputs": [
    {
     "data": {
      "text/plain": [
       "{'phone': {'brand': 'Samsung', 'model': 'Galaxy S23 pro', 'year': 2023},\n",
       " 'features': {'processor': 'Snapdragon 8 gen 2',\n",
       "  'camera': '200 megapixel OIS'}}"
      ]
     },
     "execution_count": 17,
     "metadata": {},
     "output_type": "execute_result"
    }
   ],
   "source": [
    "# nested dictionary\n",
    "d = {\"phone\" : {\"brand\" : \"Samsung\", \"model\" : \"Galaxy S23 pro\", \"year\" : 2023}, \"features\" : {\"processor\" : \"Snapdragon 8 gen 2\", \"camera\" : \"200 megapixel OIS\"}}\n",
    "d"
   ]
  },
  {
   "cell_type": "markdown",
   "id": "9c76e6e3-0b1d-4537-998f-9c1ff31bc2df",
   "metadata": {
    "tags": []
   },
   "source": [
    "### 7. Using setdefault() method, create key named topics in the given dictionary and also add the value of the key as this list ['Python', 'Machine Learning’, 'Deep Learning']\n",
    "\n",
    "##### dict1 = {'language' : 'Python', 'course': 'Data Science Masters'}"
   ]
  },
  {
   "cell_type": "markdown",
   "id": "7e9bc1ae-300e-4867-85cb-806a3fc778cd",
   "metadata": {},
   "source": [
    "> * setdefault() - Returns the value of the specified key. If the key does not exist: insert the key, with the specified value"
   ]
  },
  {
   "cell_type": "code",
   "execution_count": 20,
   "id": "b87d3d2b-3f33-404c-b39f-3dbe953be101",
   "metadata": {},
   "outputs": [
    {
     "name": "stdout",
     "output_type": "stream",
     "text": [
      "Original dictionary is: {'language': 'Python', 'course': 'Data Science Masters'}\n",
      "Updated dictionary is: {'language': 'Python', 'course': 'Data Science Masters', 'topics': ['Python', 'Machine Learning', 'Deep Learning']}\n"
     ]
    }
   ],
   "source": [
    "# setdefault() method\n",
    "\n",
    "dict1 = {'language' : 'Python', 'course': 'Data Science Masters'}\n",
    "print(f\"Original dictionary is: {dict1}\")\n",
    "dict_new = dict1.setdefault(\"topics\" , ['Python', 'Machine Learning', 'Deep Learning'])\n",
    "print(f\"Updated dictionary is: {dict1}\")"
   ]
  },
  {
   "cell_type": "markdown",
   "id": "555b551f-3019-462a-aa54-935b5fe9f848",
   "metadata": {
    "tags": []
   },
   "source": [
    "### 8. What are the three view objects in dictionaries? Use the three in-built methods in python to display these three view objects for the given dictionary.\n",
    "\n",
    "\n",
    "##### dict1 = {'Sport': 'Cricket' , 'Teams': ['India', 'Australia', 'England', 'South Africa', 'Sri Lanka', 'New Zealand']}"
   ]
  },
  {
   "cell_type": "markdown",
   "id": "53adc97f-0b73-4528-a8e3-e230dea66e08",
   "metadata": {},
   "source": [
    "* In the python dictionaries, some of the methods return view objects. This view objects are dynamic view objects, meaning that when we made some changes in the dictionary then the view reflects all these changes.\n",
    "\n",
    "* The main view objects of dictionary in python are keys, values and items. They provide a non-constant view of the dictionary’s entries.\n",
    "\n",
    "* The view object keys represent all the keys in a dictionary. You can retrieve the contents of this object using the *keys()* method.\n",
    "\n",
    "* *values()* is an built in method of Python programming language which returns a view object. That view object contains all the value of the dictionary as a list.\n",
    "\n",
    "* The *items()* method returns a new view of the dictionary’s items ((key, value) pairs) as a list containing all the dictionary keys with values."
   ]
  },
  {
   "cell_type": "code",
   "execution_count": 24,
   "id": "4c5358be-61d0-448d-952e-0451df7286bd",
   "metadata": {},
   "outputs": [
    {
     "name": "stdout",
     "output_type": "stream",
     "text": [
      "All the keys of dictionary are: dict_keys(['Sport', 'Teams']) \n",
      "\n",
      "All the values of dictionary are: dict_values(['Cricket', ['India', 'Australia', 'England', 'South Africa', 'Sri Lanka', 'New Zealand']]) \n",
      "\n",
      "All the items of dictionary are: dict_items([('Sport', 'Cricket'), ('Teams', ['India', 'Australia', 'England', 'South Africa', 'Sri Lanka', 'New Zealand'])])\n"
     ]
    }
   ],
   "source": [
    "# three view objects - keys(), value(), items()\n",
    "\n",
    "dict1 = {'Sport': 'Cricket' , 'Teams': ['India', 'Australia', 'England', 'South Africa', 'Sri Lanka', 'New Zealand']}\n",
    "\n",
    "keys = dict1.keys()\n",
    "print(f\"All the keys of dictionary are: {keys} \\n\")\n",
    "values = dict1.values()\n",
    "print(f\"All the values of dictionary are: {values} \\n\")\n",
    "items = dict1.items()\n",
    "print(f\"All the items of dictionary are: {items}\")"
   ]
  },
  {
   "cell_type": "code",
   "execution_count": null,
   "id": "e64f257c-95ad-411b-aef0-d8c8f82d9f95",
   "metadata": {},
   "outputs": [],
   "source": []
  }
 ],
 "metadata": {
  "kernelspec": {
   "display_name": "Python 3 (ipykernel)",
   "language": "python",
   "name": "python3"
  },
  "language_info": {
   "codemirror_mode": {
    "name": "ipython",
    "version": 3
   },
   "file_extension": ".py",
   "mimetype": "text/x-python",
   "name": "python",
   "nbconvert_exporter": "python",
   "pygments_lexer": "ipython3",
   "version": "3.10.8"
  }
 },
 "nbformat": 4,
 "nbformat_minor": 5
}
