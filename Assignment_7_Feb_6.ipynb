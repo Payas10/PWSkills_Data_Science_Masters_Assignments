{
 "cells": [
  {
   "cell_type": "markdown",
   "id": "7416c26d-1452-40a8-9558-619f0b2e68cd",
   "metadata": {},
   "source": [
    "# Assignment 7 - Feb 6' 23"
   ]
  },
  {
   "cell_type": "markdown",
   "id": "54373901-1210-484e-bf5e-686236a82ef9",
   "metadata": {},
   "source": [
    "### 1. Create a function which will take a list as an argument and return the product of all the numbers after creating a flat list.\n",
    "### Use the below-given list as an argument for your function.\n",
    "\n",
    "#### list1 = [1,2,3,4, [44,55,66, True], False, (34,56,78,89,34), {1,2,3,3,2,1}, {1:34, \"key2\": [55, 67, 78, 89], 4: (45, 22, 61, 34)}, [56, 'data science'], 'Machine Learning']\n",
    "\n",
    "\n",
    "### Note: you must extract numeric keys and values of the dictionary also."
   ]
  },
  {
   "cell_type": "code",
   "execution_count": 27,
   "id": "d0db7eb6-9ddb-4ab5-91d3-04ddfeabb57b",
   "metadata": {},
   "outputs": [
    {
     "name": "stdout",
     "output_type": "stream",
     "text": [
      "Original list: [1, 2, 3, 4, [44, 55, 66, True], False, (34, 56, 78, 89, 34), {1, 2, 3}, {1: 34, 'key2': [55, 67, 78, 89], 4: (45, 22, 61, 34)}, [56, 'data science'], 'Machine Learning']\n",
      "product of all the numbers after creating a flat list: 4134711838987085478833841242112000\n"
     ]
    }
   ],
   "source": [
    "# function which will take a list as an argument and return the product of all the numbers after creating a flat list\n",
    "\n",
    "list1 = [1,2,3,4, [44,55,66, True], False, (34,56,78,89,34), {1,2,3,3,2,1}, {1:34, \"key2\": [55, 67, 78, 89], 4: (45, 22, 61, 34)}, [56, 'data science'], 'Machine Learning']\n",
    "print(\"Original list: {}\".format(list1))\n",
    "\n",
    "def flat_prod(lst):\n",
    "    new_list = []\n",
    "    for i in lst:\n",
    "        if type(i) == int or type(i) == float or type(i) == str or type(i) == bool:\n",
    "            new_list.append(i)\n",
    "        elif type(i) == list or type(i) == tuple or type(i) == set:\n",
    "            new_list.extend(i)\n",
    "        else:\n",
    "            if type(i) == dict:\n",
    "                for j in i.items():\n",
    "                    for k in j:\n",
    "                        if type(k) == int or type(k) == float or type(k) == str or type(k) == bool:\n",
    "                            new_list.append(k)\n",
    "                        else:\n",
    "                            if type(k) == list or type(k) == tuple or type(k) == set:\n",
    "                                new_list.extend(k)\n",
    "    #return new_list\n",
    "    \n",
    "    product = 1\n",
    "    for i in new_list:\n",
    "        if type(i) == int or type(i) == float:\n",
    "            product = product * i\n",
    "            \n",
    "    return product\n",
    "            \n",
    "print(f\"product of all the numbers after creating a flat list: {flat_prod(list1)}\")\n",
    "                        "
   ]
  },
  {
   "cell_type": "code",
   "execution_count": 24,
   "id": "332afe42-bc77-4ecf-8063-5467e267aad6",
   "metadata": {},
   "outputs": [
    {
     "name": "stdout",
     "output_type": "stream",
     "text": [
      "[1, 34, 'key2', 55, 67, 78, 89, 4, 45, 22, 61, 34]\n"
     ]
    }
   ],
   "source": [
    "# logic to flatten dictionary - extracting numeric keys and values of the dictionary\n",
    "d = {1: 34, 'key2': [55, 67, 78, 89], 4: (45, 22, 61, 34)}\n",
    "l = []\n",
    "for i in d.items():\n",
    "    for j in i:\n",
    "        if type(j) == int or type(j) == float or type(j) == str or type(j) == bool:\n",
    "            l.append(j)\n",
    "        else:\n",
    "            if type(j) == list or type(j) == tuple or type(j) == set:\n",
    "                l.extend(j)\n",
    "print(l)"
   ]
  },
  {
   "cell_type": "markdown",
   "id": "27a2affd-f199-41ed-83ab-e6ba7b3cc4fd",
   "metadata": {},
   "source": [
    "### 2.  Write a python program for encrypting a message sent to you by your friend. The logic of encryption should be such that, for a the output should be z. For b, the output should be y. For c, the output should be x respectively. Also, the whitespace should be replaced with a dollar sign. Keep the punctuation marks unchanged.\n",
    "\n",
    "### Input Sentence: I want to become a Data Scientist.\n",
    "### Encrypt the above input sentence using the program you just created.\n",
    "### Note: Convert the given input sentence into lowercase before encrypting. The final output should be lowercase."
   ]
  },
  {
   "cell_type": "code",
   "execution_count": 69,
   "id": "6dc31a4e-3170-46de-8156-2f3c8525edc0",
   "metadata": {},
   "outputs": [
    {
     "name": "stdout",
     "output_type": "stream",
     "text": [
      "Original string is: I want to become a Data Scientist.\n",
      "Encrypted string is: r$dzmg$gl$yvxlnv$z$wzgz$hxrvmgrhg.\n"
     ]
    }
   ],
   "source": [
    "string_input = \"I want to become a Data Scientist.\"\n",
    "print(f\"Original string is: {string_input}\")\n",
    "lowercase_string_input = string_input.lower()\n",
    "\n",
    "def encrypt_msg(c):\n",
    "    if c.isalpha() == True:\n",
    "        return chr(122 - ord(c) + 97)\n",
    "    else:\n",
    "        if c.isspace() == True:\n",
    "            return chr(36 - ord(c) + 32)\n",
    "    return c\n",
    "\n",
    "encrypted_msg = ''.join(encrypt_msg(c) for c in lowercase_string_input)\n",
    "print(f\"Encrypted string is: {encrypted_msg}\")"
   ]
  },
  {
   "cell_type": "code",
   "execution_count": 62,
   "id": "5a35a5df-8fb6-41e3-8805-df356f96017f",
   "metadata": {},
   "outputs": [
    {
     "data": {
      "text/plain": [
       "'\\nlogic to convert a to z, b to y, c to x and so on..... \\n\\nascii for [space] = 32 and ascii for $ is 36\\n\\nascii for a = 97 .....till ......ascii for z = 122\\nto convert a to z in ascii = 122(i.e z) - 97(i.e a) + 97 = 122(i.e z)\\nto convert b to y in ascii = 122(i.e z) - 98(i.e b) + 97 = 121(i.e y)\\nto convert c to x in ascii = 122(i.e z) - 99(i.e c) + 97 = 120(i.e x)\\n.\\n.\\n.\\n'"
      ]
     },
     "execution_count": 62,
     "metadata": {},
     "output_type": "execute_result"
    }
   ],
   "source": [
    "'''\n",
    "logic to convert a to z, b to y, c to x and so on..... \n",
    "\n",
    "ascii for [space] = 32 and ascii for $ is 36\n",
    "\n",
    "ascii for a = 97 .....till ......ascii for z = 122\n",
    "to convert a to z in ascii = 122(i.e z) - 97(i.e a) + 97 = 122(i.e z)\n",
    "to convert b to y in ascii = 122(i.e z) - 98(i.e b) + 97 = 121(i.e y)\n",
    "to convert c to x in ascii = 122(i.e z) - 99(i.e c) + 97 = 120(i.e x)\n",
    ".\n",
    ".\n",
    ".\n",
    "'''\n",
    "\n",
    "# ''.join(chr(122 - ord(c) + 97) for c in 'abcd')\n",
    "# o/p = 'zyxw'"
   ]
  }
 ],
 "metadata": {
  "kernelspec": {
   "display_name": "Python 3 (ipykernel)",
   "language": "python",
   "name": "python3"
  },
  "language_info": {
   "codemirror_mode": {
    "name": "ipython",
    "version": 3
   },
   "file_extension": ".py",
   "mimetype": "text/x-python",
   "name": "python",
   "nbconvert_exporter": "python",
   "pygments_lexer": "ipython3",
   "version": "3.10.8"
  }
 },
 "nbformat": 4,
 "nbformat_minor": 5
}
