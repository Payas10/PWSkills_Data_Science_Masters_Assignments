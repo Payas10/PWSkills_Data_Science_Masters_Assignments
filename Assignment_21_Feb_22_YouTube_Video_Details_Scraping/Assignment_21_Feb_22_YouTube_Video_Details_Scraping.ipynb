{
 "cells": [
  {
   "cell_type": "markdown",
   "id": "65a69a80-2724-48da-8e5b-df26cfe7573e",
   "metadata": {},
   "source": [
    "# Assignment 21 - Feb 22' 23 - YouTube Video Data Scraping"
   ]
  },
  {
   "cell_type": "markdown",
   "id": "c547e575-7bdf-4b46-9a4a-26f88c4cf5de",
   "metadata": {},
   "source": [
    "## Go to this given URL and solve the following questions.\n",
    "> URL: https://www.youtube.com/@PW-Foundation/videos"
   ]
  },
  {
   "cell_type": "code",
   "execution_count": 1,
   "id": "149e2e5f-142c-4a21-8582-f3e4a55d3dc1",
   "metadata": {},
   "outputs": [],
   "source": [
    "import requests\n",
    "from bs4 import BeautifulSoup\n",
    "from urllib.request import urlopen\n",
    "import logging\n",
    "import os\n",
    "from pandas import DataFrame\n",
    "import json\n",
    "from json import loads"
   ]
  },
  {
   "cell_type": "code",
   "execution_count": 2,
   "id": "b96ccb31-ff19-4701-89dd-0abe9b241d55",
   "metadata": {},
   "outputs": [
    {
     "data": {
      "text/plain": [
       "<Response [200]>"
      ]
     },
     "execution_count": 2,
     "metadata": {},
     "output_type": "execute_result"
    }
   ],
   "source": [
    "url = \"https://www.youtube.com/@PW-Foundation/videos\"\n",
    "\n",
    "# Get the html by get method\n",
    "response = requests.get(url)\n",
    "response    # use - response.text - to see the html extracted by get method"
   ]
  },
  {
   "cell_type": "code",
   "execution_count": 3,
   "id": "0f7ebddf-eac9-4d1b-a100-878e4b363ccc",
   "metadata": {},
   "outputs": [],
   "source": [
    "# Create BeautifulSoup object\n",
    "soup = BeautifulSoup(response.text, \"html.parser\")  # to see parsed html use - soup"
   ]
  },
  {
   "cell_type": "code",
   "execution_count": 4,
   "id": "ca2ffa62-f29e-47e2-9142-6c80f37c6932",
   "metadata": {},
   "outputs": [],
   "source": [
    "all_script_tags = soup.findAll(\"script\")"
   ]
  },
  {
   "cell_type": "code",
   "execution_count": 5,
   "id": "906f5e3a-9a80-43d7-bcd2-6593060ef677",
   "metadata": {},
   "outputs": [],
   "source": [
    "def script_tag_to_json(tags: list) -> dict:\n",
    "    for tag in reversed(tags):\n",
    "        text: str = tag.text\n",
    "        if 'ytInitialData = {\"responseContext\"' in text:\n",
    "            return json.loads(text[20:-1])\n",
    "    \n",
    "    raise ValueError(\"Required script tag not found in the given tags.\")"
   ]
  },
  {
   "cell_type": "code",
   "execution_count": 6,
   "id": "0f9304a9-8763-4ffa-ade8-a314ed1d138a",
   "metadata": {},
   "outputs": [],
   "source": [
    "data = script_tag_to_json(all_script_tags)"
   ]
  },
  {
   "cell_type": "code",
   "execution_count": 7,
   "id": "c037fd48-078f-47ac-8f16-583684e8eef4",
   "metadata": {},
   "outputs": [],
   "source": [
    "def get_contents_dict(data):\n",
    "    return data['contents']['twoColumnBrowseResultsRenderer']['tabs'][1]['tabRenderer']['content']['richGridRenderer']['contents']"
   ]
  },
  {
   "cell_type": "markdown",
   "id": "c57be7ee-f54f-4579-9471-03c4db87f501",
   "metadata": {},
   "source": [
    "### Q1. Write a python program to extract the video URL of the first five videos.\n",
    "\n",
    "#### Get Video ID"
   ]
  },
  {
   "cell_type": "code",
   "execution_count": 8,
   "id": "82852957-9d52-46aa-a05e-10fb7a5ad702",
   "metadata": {},
   "outputs": [
    {
     "data": {
      "text/plain": [
       "['https://www.youtube.com/watch?v=ZNHlCezYN1I',\n",
       " 'https://www.youtube.com/watch?v=nNmV-fuGW5c',\n",
       " 'https://www.youtube.com/watch?v=6Mht7UigC_w',\n",
       " 'https://www.youtube.com/watch?v=WObRrneLVRY',\n",
       " 'https://www.youtube.com/watch?v=nX5ONgCdLcc']"
      ]
     },
     "execution_count": 8,
     "metadata": {},
     "output_type": "execute_result"
    }
   ],
   "source": [
    "def get_videoUrl(data: dict, n: int = 5):\n",
    "    contents = get_contents_dict(data)\n",
    "    \n",
    "    if n > 30:\n",
    "        raise ValueError(\"Max limit is 30.\")\n",
    "        \n",
    "    result = []\n",
    "    for i in range(n):\n",
    "        video_id = contents[i]['richItemRenderer']['content']['videoRenderer']['videoId']\n",
    "        result.append(\"https://www.youtube.com/watch?v=\" + video_id)\n",
    "        \n",
    "    return result\n",
    "\n",
    "get_videoUrl(data)"
   ]
  },
  {
   "cell_type": "markdown",
   "id": "b6411931-28c3-4c7d-a27e-a40040c6bcdf",
   "metadata": {},
   "source": [
    "### Q2. Write a python program to extract the URL of the video thumbnails of the first five videos.\n",
    "\n",
    "#### Get video thumbnails"
   ]
  },
  {
   "cell_type": "code",
   "execution_count": 9,
   "id": "fc43d77b-9762-45dd-bd7f-52b5e1599985",
   "metadata": {},
   "outputs": [
    {
     "data": {
      "text/plain": [
       "['https://i.ytimg.com/vi/ZNHlCezYN1I/hqdefault.jpg?sqp=-oaymwEjCNACELwBSFryq4qpAxUIARUAAAAAGAElAADIQj0AgKJDeAE=&rs=AOn4CLCeC-GzAbJasTeW24Z9mSnL8PUV0w',\n",
       " 'https://i.ytimg.com/vi/nNmV-fuGW5c/hqdefault.jpg?sqp=-oaymwEjCNACELwBSFryq4qpAxUIARUAAAAAGAElAADIQj0AgKJDeAE=&rs=AOn4CLDrH1kaO1h12A7THP8j1zoeswW85w',\n",
       " 'https://i.ytimg.com/vi/6Mht7UigC_w/hqdefault.jpg?sqp=-oaymwEjCNACELwBSFryq4qpAxUIARUAAAAAGAElAADIQj0AgKJDeAE=&rs=AOn4CLDT7e58gn2v84CHXh5IwWB6rXof8A',\n",
       " 'https://i.ytimg.com/vi/WObRrneLVRY/hqdefault.jpg?sqp=-oaymwEjCNACELwBSFryq4qpAxUIARUAAAAAGAElAADIQj0AgKJDeAE=&rs=AOn4CLB22wdxfGJ8qHomPM8TcAMwI8FDRA',\n",
       " 'https://i.ytimg.com/vi/nX5ONgCdLcc/hqdefault.jpg?sqp=-oaymwEjCNACELwBSFryq4qpAxUIARUAAAAAGAElAADIQj0AgKJDeAE=&rs=AOn4CLA-CsQcSMRiaxzuJVMn37GAUFS6XQ']"
      ]
     },
     "execution_count": 9,
     "metadata": {},
     "output_type": "execute_result"
    }
   ],
   "source": [
    "def get_thumbnails(data: dict, n: int = 5):\n",
    "    contents = get_contents_dict(data)\n",
    "    \n",
    "    if n > 30:\n",
    "        raise ValueError(\"Max limit is 30.\")\n",
    "    \n",
    "    result = []\n",
    "    for i in range(n):\n",
    "        thumbnail_url = contents[i]['richItemRenderer']['content']['videoRenderer']['thumbnail']['thumbnails'][-1]['url']\n",
    "        result.append(thumbnail_url)\n",
    "        \n",
    "    return result\n",
    "\n",
    "get_thumbnails(data)"
   ]
  },
  {
   "cell_type": "markdown",
   "id": "5939d353-efa8-4e0c-a7e6-f3363532a63c",
   "metadata": {},
   "source": [
    "### Q3. Write a python program to extract the title of the first five videos.\n",
    "\n",
    "#### Get video title"
   ]
  },
  {
   "cell_type": "code",
   "execution_count": 10,
   "id": "cb7aee03-8105-4569-b8a4-6812b0d5bf06",
   "metadata": {},
   "outputs": [
    {
     "data": {
      "text/plain": [
       "['Revise through PYQs || Electricity || #science #physics',\n",
       " 'Revise through PYQs || Light || #science #physics',\n",
       " 'NEW Batches for Class 10 & 9 - Session 2023-24 || NEEV and UDAAN Batch Launch 🚀',\n",
       " 'आपको Commerce में क्या सीखने को मिलता है ?? Complete Information',\n",
       " 'How to Attempt English Board Exam ????']"
      ]
     },
     "execution_count": 10,
     "metadata": {},
     "output_type": "execute_result"
    }
   ],
   "source": [
    "def get_title(data: dict, n:int = 5):\n",
    "    contents = get_contents_dict(data)\n",
    "\n",
    "    if n > 30:\n",
    "        raise ValueError('Max Limit is 30.')\n",
    "    \n",
    "    result = []\n",
    "    for i in range(5):\n",
    "        video_title = contents[i]['richItemRenderer']['content']['videoRenderer']['title']['runs'][-1]['text']\n",
    "        result.append(video_title)\n",
    "        \n",
    "    return result\n",
    "\n",
    "get_title(data)"
   ]
  },
  {
   "cell_type": "markdown",
   "id": "dd64dcc3-212e-459d-bcc6-458da7c31c5c",
   "metadata": {},
   "source": [
    "### Q4. Write a python program to extract the number of views of the first five videos.\n",
    "\n",
    "#### Get video viwes"
   ]
  },
  {
   "cell_type": "code",
   "execution_count": 11,
   "id": "cd4c0bcc-7e1e-49d5-9afe-ce91148b7ce7",
   "metadata": {},
   "outputs": [
    {
     "data": {
      "text/plain": [
       "['4835', '26778', '34138', '11201', '184902']"
      ]
     },
     "execution_count": 11,
     "metadata": {},
     "output_type": "execute_result"
    }
   ],
   "source": [
    "def get_viwes(data: dict, n: int = 5):\n",
    "    contents = get_contents_dict(data)\n",
    "\n",
    "    if n > 30:\n",
    "        raise ValueError('Max Limit is 30.')\n",
    "\n",
    "    result = []\n",
    "    for i in range(n):\n",
    "        video_views = contents[i]['richItemRenderer']['content']['videoRenderer']['viewCountText']['simpleText'][:-6].replace(\",\" , \"\")\n",
    "        result.append(video_views)\n",
    "        \n",
    "    return result\n",
    "\n",
    "get_viwes(data)"
   ]
  },
  {
   "cell_type": "markdown",
   "id": "75e9098d-470c-404d-bad3-643ca1d5f243",
   "metadata": {},
   "source": [
    "### Q5. Write a python program to extract the time of posting of video for the first five videos.\n",
    "\n",
    "#### Get time of posting of video"
   ]
  },
  {
   "cell_type": "code",
   "execution_count": 12,
   "id": "d5a6a24b-5c6b-4b95-94ad-1739a2442dc7",
   "metadata": {},
   "outputs": [
    {
     "data": {
      "text/plain": [
       "['1 hour ago', '6 hours ago', '8 hours ago', '2 days ago', '6 days ago']"
      ]
     },
     "execution_count": 12,
     "metadata": {},
     "output_type": "execute_result"
    }
   ],
   "source": [
    "def get_time_of_posting(data: dict, n: int = 5):\n",
    "    contents = get_contents_dict(data)\n",
    "\n",
    "    if n > 30:\n",
    "        raise ValueError('Max Limit is 30.')\n",
    "        \n",
    "    result = []\n",
    "    for i in range(n):\n",
    "        video_time_of_posting = contents[i]['richItemRenderer']['content']['videoRenderer']['publishedTimeText']['simpleText']\n",
    "        result.append(video_time_of_posting)\n",
    "        \n",
    "    return result\n",
    "\n",
    "get_time_of_posting(data)"
   ]
  },
  {
   "cell_type": "markdown",
   "id": "b1be7140-cd3c-4ad2-9704-b916c09fb824",
   "metadata": {},
   "source": [
    "## Note: Save all the data scraped in the above questions in a CSV file.\n",
    "\n",
    "### Save data in CSV format."
   ]
  },
  {
   "cell_type": "code",
   "execution_count": 13,
   "id": "5c2cd85c-6546-40e6-8b24-a287587b2dbd",
   "metadata": {},
   "outputs": [],
   "source": [
    "def get_channel_video_details(data: dict, n: int):\n",
    "    \n",
    "    titles = get_title(data, n)\n",
    "    time_of_posting = get_time_of_posting(data, n)\n",
    "    views = get_viwes(data, n)\n",
    "    video_urls = get_videoUrl(data, n)\n",
    "    thumbnails = get_thumbnails(data, n)\n",
    "    \n",
    "    main_data = list(zip(titles, time_of_posting, views, video_urls, thumbnails))\n",
    "    \n",
    "    df = DataFrame.from_dict(main_data)\n",
    "    df.rename(\n",
    "        columns={\n",
    "            0: 'title',\n",
    "            1: 'time_of_posting',\n",
    "            2: 'views',\n",
    "            3: 'video_urls',\n",
    "            4: 'thumbnail_url'\n",
    "        }, inplace=True)\n",
    "\n",
    "    return df"
   ]
  },
  {
   "cell_type": "code",
   "execution_count": 14,
   "id": "8c6eb4a9-475f-45d5-a405-25f19d1bf588",
   "metadata": {},
   "outputs": [],
   "source": [
    "channel_data = get_channel_video_details(data, 10)"
   ]
  },
  {
   "cell_type": "code",
   "execution_count": 15,
   "id": "1debc343-e7b7-4207-a18f-1970d72bc5bf",
   "metadata": {},
   "outputs": [],
   "source": [
    "channel_data.to_csv('PW-Foundation-Video-Details.csv', index=False)"
   ]
  },
  {
   "cell_type": "code",
   "execution_count": null,
   "id": "81637661-edf2-42eb-8c02-afaf40a33dd1",
   "metadata": {},
   "outputs": [],
   "source": []
  }
 ],
 "metadata": {
  "kernelspec": {
   "display_name": "Python 3 (ipykernel)",
   "language": "python",
   "name": "python3"
  },
  "language_info": {
   "codemirror_mode": {
    "name": "ipython",
    "version": 3
   },
   "file_extension": ".py",
   "mimetype": "text/x-python",
   "name": "python",
   "nbconvert_exporter": "python",
   "pygments_lexer": "ipython3",
   "version": "3.10.8"
  }
 },
 "nbformat": 4,
 "nbformat_minor": 5
}
