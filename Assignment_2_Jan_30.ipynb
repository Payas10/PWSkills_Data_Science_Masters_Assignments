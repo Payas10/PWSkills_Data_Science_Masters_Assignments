{
 "cells": [
  {
   "cell_type": "markdown",
   "id": "a6cd172d-53b6-4485-8326-d6e90d90c733",
   "metadata": {},
   "source": [
    "# Assignment 2 - Jan 30"
   ]
  },
  {
   "cell_type": "markdown",
   "id": "d6a30ad1-ba16-426c-a760-f8eb0ae25d3b",
   "metadata": {},
   "source": [
    "### 1. Write a program to accept percentage from user and display the grade according to the following criteria:\n",
    "\n",
    "|Marks | Grade|\n",
    "|-|-|\n",
    "|**>90**|A|\n",
    "|**>80 and <=90**|B|\n",
    "|**>=60 and <=80**|C|\n",
    "|**below 60**|D|"
   ]
  },
  {
   "cell_type": "code",
   "execution_count": 5,
   "id": "b7ab6015-ead9-4f81-bc3e-631690b2f3c5",
   "metadata": {},
   "outputs": [
    {
     "name": "stdin",
     "output_type": "stream",
     "text": [
      "Enter your percentage: 88\n"
     ]
    },
    {
     "name": "stdout",
     "output_type": "stream",
     "text": [
      "Grade: B\n"
     ]
    }
   ],
   "source": [
    "percent = float(input(\"Enter your percentage:\"))\n",
    "if percent > 90:\n",
    "    print(\"Grade: A\")\n",
    "elif percent > 80 and percent <= 90:\n",
    "    print(\"Grade: B\")\n",
    "elif percent >= 60 and percent <= 80:\n",
    "    print(\"Grade: C\")\n",
    "else:\n",
    "    print(\"Grade: D\")"
   ]
  },
  {
   "cell_type": "markdown",
   "id": "35a7dc3a-9510-4c56-8143-592707922695",
   "metadata": {},
   "source": [
    "### 2. Write a program to accept cost price of a bike and display road tax to be paid according to the following criteria:\n",
    "\n",
    "|Tax | Cost Price (in Rs.)|\n",
    "|-|-|\n",
    "|**15%**|>100000|\n",
    "|**10%**|>50000 and <=100000|\n",
    "|**5%**|<=50000|"
   ]
  },
  {
   "cell_type": "code",
   "execution_count": 10,
   "id": "900242d1-1a60-46dd-872f-c3d2d18823c6",
   "metadata": {},
   "outputs": [
    {
     "name": "stdin",
     "output_type": "stream",
     "text": [
      "Enter your bike cost price (in Rs.): 80000\n"
     ]
    },
    {
     "name": "stdout",
     "output_type": "stream",
     "text": [
      "Road tax to be paid: 8000.0\n"
     ]
    }
   ],
   "source": [
    "cost_price = float(input(\"Enter your bike cost price (in Rs.):\"))\n",
    "if cost_price > 100000:\n",
    "    print(\"Road tax to be paid: {}\".format(cost_price*0.15))\n",
    "elif cost_price > 50000 and cost_price <= 100000:\n",
    "    print(\"Road tax to be paid: {}\".format(cost_price*0.10))\n",
    "else:\n",
    "    print(\"Road tax to be paid: {}\".format(cost_price*0.05))"
   ]
  },
  {
   "cell_type": "markdown",
   "id": "45d1299e-a133-4e2b-b2b3-1222091f0111",
   "metadata": {},
   "source": [
    "### 3. Accept any city from the user and display monuments of that city:\n",
    "\n",
    "|City | Monument|\n",
    "|-|-|\n",
    "|**Delhi**|Red Fort|\n",
    "|**Agra**|Taj Mahal|\n",
    "|**Jaipur**|Jal Mahal|"
   ]
  },
  {
   "cell_type": "code",
   "execution_count": 19,
   "id": "12a27d78-6144-4775-b58e-2388f1bd08fd",
   "metadata": {},
   "outputs": [
    {
     "name": "stdin",
     "output_type": "stream",
     "text": [
      "Enter any city from Delhi / Agra/ Jaipur: Delhi\n"
     ]
    },
    {
     "name": "stdout",
     "output_type": "stream",
     "text": [
      "Famous Monument in Delhi is Red Fort\n"
     ]
    }
   ],
   "source": [
    "city = input(\"Enter any city from Delhi / Agra/ Jaipur:\")\n",
    "if city == \"Delhi\" or city == \"delhi\":\n",
    "    print(\"Famous Monument in Delhi is Red Fort\")\n",
    "elif city == \"Agra\" or city == \"agra\":\n",
    "    print(\"Famous Monument in Agra is Taj Mahal\")\n",
    "elif city == \"Jaipur\" or city == \"jaipur\":\n",
    "    print(\"Famous Monument in Jaipur is Jal Mahal\")\n",
    "else:\n",
    "    print(\"!!Invaid input!!\")"
   ]
  },
  {
   "cell_type": "markdown",
   "id": "5abb3217-017e-4dac-a047-bb851c95f9b0",
   "metadata": {},
   "source": [
    "### 4. Check how many times a given number can be divided by 3 before it is less than or equal to 10"
   ]
  },
  {
   "cell_type": "code",
   "execution_count": 4,
   "id": "d417e968-853a-45a7-aeca-860b8fd8115c",
   "metadata": {},
   "outputs": [
    {
     "name": "stdin",
     "output_type": "stream",
     "text": [
      "Enter an integer number greater than 10: 50\n"
     ]
    },
    {
     "name": "stdout",
     "output_type": "stream",
     "text": [
      "14 times 50 can be divided by 3 before it is less than or equal to 10\n"
     ]
    }
   ],
   "source": [
    "num = int(input(\"Enter an integer number greater than 10:\"))\n",
    "N = num\n",
    "count = 0\n",
    "while num>10:\n",
    "    num = num -3\n",
    "    count = count +1\n",
    "print(\"{} times {} can be divided by 3 before it is less than or equal to 10\".format(count, N))      "
   ]
  },
  {
   "cell_type": "markdown",
   "id": "004d73b2-6402-44f2-a5d6-d2aaa284592d",
   "metadata": {},
   "source": [
    "### 5. Why and when to use while loop in python giave a detailed description with example.\n",
    "\n",
    "Python While Loop is used to execute a block of statements repeatedly until a given condition is satisfied. And when the condition becomes false, while loop is exited and the line immediately after the loop in the program is executed.\n",
    "\n",
    "It is used when the number of times the loop is executed isn’t specified explicitly in advance. "
   ]
  },
  {
   "cell_type": "code",
   "execution_count": 30,
   "id": "9b95f8eb-a382-4ad7-9585-5c0224a0f42b",
   "metadata": {},
   "outputs": [
    {
     "name": "stdout",
     "output_type": "stream",
     "text": [
      "0\n",
      "1\n",
      "2\n",
      "3\n",
      "4\n",
      "5\n",
      "6\n",
      "7\n",
      "8\n",
      "9\n",
      "10\n",
      "11\n",
      "12\n",
      "13\n",
      "14\n",
      "15\n",
      "16\n",
      "17\n",
      "You can vote\n"
     ]
    }
   ],
   "source": [
    "# while to print voting age\n",
    "non_voting_age=0\n",
    "while non_voting_age<18:\n",
    "    print(non_voting_age)\n",
    "    non_voting_age = non_voting_age + 1 \n",
    "else:\n",
    "    print(\"You can vote\")"
   ]
  },
  {
   "cell_type": "markdown",
   "id": "506285ca-106f-42d6-9c25-ba4827d69510",
   "metadata": {},
   "source": [
    "### 6. Use nested While loop to print 3 different pattern"
   ]
  },
  {
   "cell_type": "code",
   "execution_count": 31,
   "id": "5c5c0fcd-c4b6-46e6-bc3b-a45b84b40576",
   "metadata": {},
   "outputs": [
    {
     "name": "stdout",
     "output_type": "stream",
     "text": [
      "* \n",
      "* * \n",
      "* * * \n",
      "* * * * \n",
      "* * * * * \n"
     ]
    }
   ],
   "source": [
    "# Right Hand side triangle\n",
    "rows = 5\n",
    "i = 1\n",
    "while i <= rows:\n",
    "    j = 1\n",
    "    while j <= i:\n",
    "        print((\"*\"), end=\" \")\n",
    "        j = j + 1\n",
    "    i = i + 1\n",
    "    print('')"
   ]
  },
  {
   "cell_type": "code",
   "execution_count": 32,
   "id": "eac2e85c-843d-474c-8575-cc6655493142",
   "metadata": {},
   "outputs": [
    {
     "name": "stdout",
     "output_type": "stream",
     "text": [
      "* * * * * \n",
      "  * * * * \n",
      "    * * * \n",
      "      * * \n",
      "        * \n"
     ]
    }
   ],
   "source": [
    "# inverted triangle\n",
    "rows = 5\n",
    "i = rows\n",
    "while i >= 1:\n",
    "    j = rows\n",
    "    while j > i:\n",
    "        # display space\n",
    "        print(' ', end=' ')\n",
    "        j -= 1\n",
    "    k = 1\n",
    "    while k <= i:\n",
    "        print('*', end=' ')\n",
    "        k += 1\n",
    "    print()\n",
    "    i -= 1"
   ]
  },
  {
   "cell_type": "code",
   "execution_count": 33,
   "id": "6b430bc9-83d5-42c4-96a5-d8566139e598",
   "metadata": {},
   "outputs": [
    {
     "name": "stdout",
     "output_type": "stream",
     "text": [
      "    *\n",
      "   ***\n",
      "  *****\n",
      " *******\n",
      "*********\n"
     ]
    }
   ],
   "source": [
    "height = 5\n",
    "row = 0\n",
    "while(row < height):\n",
    "    row += 1\n",
    "    spaces = height - row\n",
    "\n",
    "    spaces_counter = 0\n",
    "    while(spaces_counter < spaces):\n",
    "        print(\" \", end='')\n",
    "        spaces_counter += 1\n",
    "\n",
    "    num_stars = 2*row-1\n",
    "    while(num_stars > 0):\n",
    "        print(\"*\", end='')\n",
    "        num_stars -= 1\n",
    "\n",
    "    print()"
   ]
  },
  {
   "cell_type": "markdown",
   "id": "c7be5f27-135c-4584-b6a4-95294f5b00e1",
   "metadata": {},
   "source": [
    "### 7.Reverse a while loop to display number from 10 to 1"
   ]
  },
  {
   "cell_type": "code",
   "execution_count": 38,
   "id": "27a35d01-bb6c-42e6-9d2a-e99d1dbf9ba0",
   "metadata": {},
   "outputs": [
    {
     "name": "stdout",
     "output_type": "stream",
     "text": [
      "10\n",
      "9\n",
      "8\n",
      "7\n",
      "6\n",
      "5\n",
      "4\n",
      "3\n",
      "2\n",
      "1\n"
     ]
    }
   ],
   "source": [
    "i = 10\n",
    "while i>0:\n",
    "    print(i)\n",
    "    i = i-1"
   ]
  },
  {
   "cell_type": "markdown",
   "id": "67d47bcc-3d82-4c78-87af-742d6e3cac98",
   "metadata": {},
   "source": [
    "### 8.Reverse a while loop to display number from 10 to 1"
   ]
  },
  {
   "cell_type": "code",
   "execution_count": 39,
   "id": "15d432af-006b-4e54-b835-fcfc08324232",
   "metadata": {},
   "outputs": [
    {
     "name": "stdout",
     "output_type": "stream",
     "text": [
      "10\n",
      "9\n",
      "8\n",
      "7\n",
      "6\n",
      "5\n",
      "4\n",
      "3\n",
      "2\n",
      "1\n"
     ]
    }
   ],
   "source": [
    "i = 10\n",
    "while i>0:\n",
    "    print(i)\n",
    "    i = i-1"
   ]
  },
  {
   "cell_type": "code",
   "execution_count": null,
   "id": "6dac7076-5605-42e5-b439-c7e5edb08386",
   "metadata": {},
   "outputs": [],
   "source": []
  }
 ],
 "metadata": {
  "kernelspec": {
   "display_name": "Python 3 (ipykernel)",
   "language": "python",
   "name": "python3"
  },
  "language_info": {
   "codemirror_mode": {
    "name": "ipython",
    "version": 3
   },
   "file_extension": ".py",
   "mimetype": "text/x-python",
   "name": "python",
   "nbconvert_exporter": "python",
   "pygments_lexer": "ipython3",
   "version": "3.10.8"
  }
 },
 "nbformat": 4,
 "nbformat_minor": 5
}
