{
 "cells": [
  {
   "cell_type": "markdown",
   "id": "120b978a-e3ac-42d5-afd3-3ae7c4a53d87",
   "metadata": {},
   "source": [
    "# Assignment 9 - Feb 9' 23 - OOPs Part 2"
   ]
  },
  {
   "cell_type": "markdown",
   "id": "5e3ae0b1-4b97-43eb-8d4e-fefb9260e830",
   "metadata": {},
   "source": [
    "### 1. Create a vehicle class with an --init--() method having instance variables as name_of_vehicle, max_speed and average_of_vehicle."
   ]
  },
  {
   "cell_type": "code",
   "execution_count": 2,
   "id": "a23df39c-e276-4113-9055-4a987613aa12",
   "metadata": {},
   "outputs": [],
   "source": [
    "# vehicle class with an __init__() method having instance variables as name_of_vehicle, max_speed and average_of_vehicle\n",
    "\n",
    "class vehicle:\n",
    "    \n",
    "    # creating instance variable\n",
    "    def __init__(self, name_of_vehicle, max_speed, average_of_vehicle):\n",
    "        \n",
    "        self.name_of_vehicle = name_of_vehicle\n",
    "        self.max_speed = max_speed\n",
    "        self.average_of_vehicle = average_of_vehicle"
   ]
  },
  {
   "cell_type": "markdown",
   "id": "089f1a93-168e-45fc-bc2b-5dfc0bb443c7",
   "metadata": {},
   "source": [
    "### 2. Create a child class car from the vehicle class created in Que 1, which will inherit the vehicle class.Create a method named seating_capacity which takes capacity as an argument and returns the name of the vehicle and its seating capacity."
   ]
  },
  {
   "cell_type": "code",
   "execution_count": 3,
   "id": "d9069fa5-f941-4c8a-8416-5d6e0eb94301",
   "metadata": {},
   "outputs": [
    {
     "data": {
      "text/plain": [
       "'Vehicle name is XUV700 and its seating capicity is 7'"
      ]
     },
     "execution_count": 3,
     "metadata": {},
     "output_type": "execute_result"
    }
   ],
   "source": [
    "# vehicle class with an __init__() method having instance variables as name_of_vehicle, max_speed and average_of_vehicle\n",
    "\n",
    "class vehicle:\n",
    "    \n",
    "    # creating instance variable\n",
    "    def __init__(self, name_of_vehicle, max_speed, average_of_vehicle):\n",
    "        \n",
    "        self.name_of_vehicle = name_of_vehicle\n",
    "        self.max_speed = max_speed\n",
    "        self.average_of_vehicle = average_of_vehicle\n",
    "\n",
    "# child class car from the vehicle class\n",
    "class car(vehicle):\n",
    "    \n",
    "    def seating_capacity(self, capacity):\n",
    "        return f\"Vehicle name is {self.name_of_vehicle} and its seating capicity is {capacity}\"\n",
    "\n",
    "\n",
    "obj_car = car(\"XUV700\", 300, 15)\n",
    "\n",
    "obj_car.seating_capacity(7)"
   ]
  },
  {
   "cell_type": "markdown",
   "id": "66733e19-b4c6-4c69-9970-36189b2afd3b",
   "metadata": {},
   "source": [
    "### 3. What is multiple inheritance? Write a python code to demonstrate multiple inheritance."
   ]
  },
  {
   "cell_type": "markdown",
   "id": "e0ae07c0-f13a-4929-92f1-c34bc475cd43",
   "metadata": {},
   "source": [
    "<center><img src=\"https://media.geeksforgeeks.org/wp-content/uploads/20191222084630/multipleinh.png\"/></center>"
   ]
  },
  {
   "cell_type": "markdown",
   "id": "022569dd-2084-4029-bd0e-5948d8515fdc",
   "metadata": {},
   "source": [
    "* When a class is derived from more than one base class it is called multiple Inheritance. The derived class inherits all the features of the base case."
   ]
  },
  {
   "cell_type": "code",
   "execution_count": 8,
   "id": "77a98f57-d6be-446e-8991-9566678d001b",
   "metadata": {},
   "outputs": [
    {
     "name": "stdout",
     "output_type": "stream",
     "text": [
      "Wlcome to PWskills\n",
      "Welcome to data science Masters course\n"
     ]
    }
   ],
   "source": [
    "# python code to demonstrate multiple inheritance\n",
    "# pwskills and DataScienceMasters are two separate class and \n",
    "# upskill is 3rd class inheriting the property of both the clases\n",
    "\n",
    "class pwskills:\n",
    "    def test_pwskills(self):\n",
    "        print(\"Wlcome to PWskills\")\n",
    "        \n",
    "class DataScienceMasters:\n",
    "    def test_DSM(self):\n",
    "        print(\"Welcome to data science Masters course\")\n",
    "        \n",
    "class upskill(pwskills, DataScienceMasters):\n",
    "    pass\n",
    "\n",
    "obj_DataScienceSkills = upskill()\n",
    "\n",
    "obj_DataScienceSkills.test_pwskills()\n",
    "obj_DataScienceSkills.test_DSM()"
   ]
  },
  {
   "cell_type": "markdown",
   "id": "2d1fc1b5-f0d4-4956-a36f-96f82ae91c24",
   "metadata": {},
   "source": [
    "### 4. What are getter and setter in python? Create a class and create a getter and a setter method in this class."
   ]
  },
  {
   "cell_type": "markdown",
   "id": "36014de9-aaf2-4182-a47e-f46d34f59e90",
   "metadata": {},
   "source": [
    "* In Python, getters and setters are not the same as those in other object-oriented programming languages. \n",
    "* Basically, the main purpose of using getters and setters in object-oriented programs is to ensure data encapsulation. Private variables in python are not actually hidden fields like in other object oriented languages. \n",
    "* Getters and Setters in python are often used when:\n",
    "\n",
    "> 1. We use getters & setters to add validation logic around getting and setting a value.\n",
    "> 2. To avoid direct access of a class field i.e. private variables cannot be accessed directly or modified by external user."
   ]
  },
  {
   "cell_type": "markdown",
   "id": "4b4064d0-393a-401d-8f34-4e53cb396dbb",
   "metadata": {},
   "source": [
    "#### Using normal function to achieve getters and setters behaviour.\n",
    "To achieve getters & setters property, if we define normal get() and set() methods it will not reflect any special implementation. For Example\n",
    "> In following code functions get_age() and set_age() acts as normal functions and doesn’t play any impact as getters and setters, to achieve such functionality Python has a special function *property()*."
   ]
  },
  {
   "cell_type": "code",
   "execution_count": 10,
   "id": "928d8907-ca36-4829-a4d4-7e1a6f7adc5e",
   "metadata": {},
   "outputs": [
    {
     "name": "stdout",
     "output_type": "stream",
     "text": [
      "11\n",
      "11\n"
     ]
    }
   ],
   "source": [
    "# Python program showing a use of get() and set() method in normal function\n",
    "\n",
    "class children:\n",
    "    def __init__(self, age = 0):\n",
    "        self._age = age\n",
    "\n",
    "    # setter method\n",
    "    def set_age(self, x):\n",
    "        self._age = x\n",
    "        \n",
    "    # getter method\n",
    "    def get_age(self):\n",
    "        return self._age\n",
    "\n",
    "boy = children()\n",
    "\n",
    "# setting the age using setter\n",
    "boy.set_age(11)\n",
    "\n",
    "# retrieving age using getter\n",
    "print(boy.get_age())\n",
    "\n",
    "print(boy._age)\n"
   ]
  },
  {
   "cell_type": "markdown",
   "id": "dd0b8af0-d639-4c5c-9345-76821fe52d1b",
   "metadata": {},
   "source": [
    "#### Using property() function to achieve getters and setters behaviour\n",
    "\n",
    "* In Python **property()** is a built-in function that creates and returns a property object. \n",
    "> * A property object has three methods, getter(), setter(), and delete(). \n",
    "> * property() function in Python has four arguments property(fget, fset, fdel, doc), fget is a function for retrieving an attribute value. fset is a function for setting an attribute value. fdel is a function for deleting an attribute value. doc creates a docstring for attribute. \n",
    "> * A property object has three methods, getter(), setter(), and delete() to specify fget, fset and fdel individually.\n",
    "\n",
    "* In following code there is only one print statement but output consists of three lines due to setter method set_age() and getter method get_age(). Hence age is a property object that helps to keep the access of private variable safe."
   ]
  },
  {
   "cell_type": "code",
   "execution_count": 15,
   "id": "7679d889-2802-4aaa-99c8-5aab7d059698",
   "metadata": {},
   "outputs": [
    {
     "name": "stdout",
     "output_type": "stream",
     "text": [
      "setter method called\n",
      "getter method called\n",
      "10\n"
     ]
    }
   ],
   "source": [
    "# Python program showing a\n",
    "# use of property() function\n",
    "\n",
    "class childrens:\n",
    "    def __init__(self):\n",
    "        self._age = 0\n",
    " \n",
    "    # function to get value of _age\n",
    "    def get_age(self):\n",
    "        print(\"getter method called\")\n",
    "        return self._age\n",
    "    \n",
    "    # function to set value of _age\n",
    "    def set_age(self, a):\n",
    "        print(\"setter method called\")\n",
    "        self._age = a\n",
    "\n",
    "    # function to delete _age attribute\n",
    "    def del_age(self):\n",
    "        del self._age\n",
    "    \n",
    "    age = property(get_age, set_age, del_age)\n",
    "\n",
    "girl = childrens()\n",
    "\n",
    "girl.age = 10\n",
    "\n",
    "print(girl.age)\n"
   ]
  },
  {
   "cell_type": "markdown",
   "id": "0aac32d6-5bcb-431a-b5a1-fd6e69facd52",
   "metadata": {},
   "source": [
    "#### Using @property decorators to achieve getters and setters behaviour\n",
    "\n",
    "* In previous method we used property() function in order to achieve getters and setters behaviour. \n",
    "* However, getters and setters are also used for *validating* the getting and setting of attributes value. \n",
    "* There is one more way to implement property function i.e. by using decorator. \n",
    "* Python @property is one of the built-in decorators. The main purpose of any decorator is to change your class methods or attributes in such a way so that the user of your class no need to make any change in their code.\n",
    "\n",
    "> * In following code it is clear that how to use @property decorator to create getters & setters in pythonic way. \n",
    "> * def age(self, a) method block has validation code that raises a ValueError if we try to initialize age with value less than 10\n",
    "> * In this way any kind of validation can be applied in getter or setter functions ."
   ]
  },
  {
   "cell_type": "code",
   "execution_count": 20,
   "id": "4e989be0-5c4b-4eca-bba7-96b9ad58aac9",
   "metadata": {},
   "outputs": [
    {
     "name": "stdout",
     "output_type": "stream",
     "text": [
      "setter method called\n",
      "getter method called\n",
      "12\n"
     ]
    }
   ],
   "source": [
    "# Python program showing the use of\n",
    "# @property\n",
    "\n",
    "class children:\n",
    "    def __init__(self):\n",
    "        self._age = 0\n",
    "    \n",
    "    # using property decorator\n",
    "    # a getter function\n",
    "    @property\n",
    "    def age(self):\n",
    "        print(\"getter method called\")\n",
    "        return self._age\n",
    "    \n",
    "    # a setter function\n",
    "    @age.setter\n",
    "    def age(self, a):\n",
    "        if(a < 10):\n",
    "            raise ValueError(\"Sorry you age is below eligibility criteria\")\n",
    "        print(\"setter method called\")\n",
    "        self._age = a\n",
    "\n",
    "boy = children()\n",
    "\n",
    "boy.age = 12\n",
    "\n",
    "print(boy.age)"
   ]
  },
  {
   "cell_type": "markdown",
   "id": "86c8cd25-8bbc-41f5-a6f5-47d8312418de",
   "metadata": {},
   "source": [
    "### 5. What is method overriding in python? Write a python code to demonstrate method overriding."
   ]
  },
  {
   "cell_type": "markdown",
   "id": "f9af3254-0ae8-477e-801b-697931d9f1b2",
   "metadata": {},
   "source": [
    "* Method overriding is an ability of any object-oriented programming language that allows a subclass or child class to provide a specific implementation of a method that is already provided by one of its super-classes or parent classes.\n",
    "* When a method in a subclass has the same name, same parameters or signature and same return type(or sub-type) as a method in its super-class, then the method in the subclass is said to override the method in the super-class.\n",
    "\n",
    "<center><img src=\"https://media.geeksforgeeks.org/wp-content/uploads/20200114114917/overriding-in-python.png\"/></center>\n",
    "\n",
    "* The version of a method that is executed will be determined by the object that is used to invoke it. \n",
    "* If an object of a parent class is used to invoke the method, then the version in the parent class will be executed, but if an object of the subclass is used to invoke the method, then the version in the child class will be executed. \n",
    "* In other words, it is the type of the object being referred to (not the type of the reference variable) that determines which version of an overridden method will be executed."
   ]
  },
  {
   "cell_type": "code",
   "execution_count": 21,
   "id": "f2de6b23-7d40-4971-85bf-db3050c57661",
   "metadata": {},
   "outputs": [
    {
     "name": "stdout",
     "output_type": "stream",
     "text": [
      "Inside Parent\n",
      "Inside Child\n"
     ]
    }
   ],
   "source": [
    "# Python program to demonstrate\n",
    "# method overriding\n",
    "\n",
    "\n",
    "# Defining parent class\n",
    "class Parent():\n",
    "    \n",
    "    # Constructor\n",
    "    def __init__(self):\n",
    "        self.value = \"Inside Parent\"\n",
    "        \n",
    "    # Parent's show method\n",
    "    def show(self):\n",
    "        print(self.value)\n",
    "\n",
    "# Defining child class\n",
    "class Child(Parent):\n",
    "\n",
    "    # Constructor\n",
    "    def __init__(self):\n",
    "        self.value = \"Inside Child\"\n",
    "\n",
    "    # Child's show method\n",
    "    def show(self):\n",
    "        print(self.value)\n",
    "    \n",
    "\n",
    "# Driver's code\n",
    "obj1 = Parent()\n",
    "obj2 = Child()\n",
    "\n",
    "obj1.show()\n",
    "obj2.show()"
   ]
  },
  {
   "cell_type": "code",
   "execution_count": null,
   "id": "01d285ec-6c3f-4f26-b0cd-f1a1b8067cdc",
   "metadata": {},
   "outputs": [],
   "source": []
  }
 ],
 "metadata": {
  "kernelspec": {
   "display_name": "Python 3 (ipykernel)",
   "language": "python",
   "name": "python3"
  },
  "language_info": {
   "codemirror_mode": {
    "name": "ipython",
    "version": 3
   },
   "file_extension": ".py",
   "mimetype": "text/x-python",
   "name": "python",
   "nbconvert_exporter": "python",
   "pygments_lexer": "ipython3",
   "version": "3.10.8"
  }
 },
 "nbformat": 4,
 "nbformat_minor": 5
}
