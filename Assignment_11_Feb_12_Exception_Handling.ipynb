{
 "cells": [
  {
   "cell_type": "markdown",
   "id": "a1b23654-eb31-4e86-881a-98b3200da388",
   "metadata": {},
   "source": [
    "# Assignment 11 - Feb 12' 23 - Exception Handling"
   ]
  },
  {
   "cell_type": "markdown",
   "id": "a4b4da06-e17a-4590-8d3c-d9226bc5f205",
   "metadata": {
    "tags": []
   },
   "source": [
    "### 1.  What is an Exception in python? Write the difference between Exceptions and syntax errors."
   ]
  },
  {
   "cell_type": "markdown",
   "id": "41d4a004-c240-484c-9dea-0f551fffb87d",
   "metadata": {},
   "source": [
    "* **Exceptions:** Exceptions are raised when the program is syntactically correct, but the code resulted in an error. This error does not stop the execution of the program, however, it changes the normal flow of the program.\n",
    "> *Note: Exception is the base class for all the exceptions in Python.\n",
    "\n",
    "* **Syntax Error:** As the name suggests this error is caused by the wrong syntax in the code. It leads to the termination of the program."
   ]
  },
  {
   "cell_type": "code",
   "execution_count": 1,
   "id": "efe2ae07-b635-4d8d-8b29-b652b9cba125",
   "metadata": {},
   "outputs": [
    {
     "ename": "ZeroDivisionError",
     "evalue": "division by zero",
     "output_type": "error",
     "traceback": [
      "\u001b[0;31m---------------------------------------------------------------------------\u001b[0m",
      "\u001b[0;31mZeroDivisionError\u001b[0m                         Traceback (most recent call last)",
      "Cell \u001b[0;32mIn[1], line 7\u001b[0m\n\u001b[1;32m      4\u001b[0m marks \u001b[38;5;241m=\u001b[39m \u001b[38;5;241m10000\u001b[39m\n\u001b[1;32m      6\u001b[0m \u001b[38;5;66;03m# perform division with 0\u001b[39;00m\n\u001b[0;32m----> 7\u001b[0m a \u001b[38;5;241m=\u001b[39m \u001b[43mmarks\u001b[49m\u001b[43m \u001b[49m\u001b[38;5;241;43m/\u001b[39;49m\u001b[43m \u001b[49m\u001b[38;5;241;43m0\u001b[39;49m\n\u001b[1;32m      8\u001b[0m \u001b[38;5;28mprint\u001b[39m(a)\n\u001b[1;32m     10\u001b[0m \u001b[38;5;66;03m# In the above example raised the ZeroDivisionError as we are trying to divide a number by 0.\u001b[39;00m\n",
      "\u001b[0;31mZeroDivisionError\u001b[0m: division by zero"
     ]
    }
   ],
   "source": [
    "# Example of Exception\n",
    "\n",
    "# initialize the amount variable\n",
    "marks = 10000\n",
    "\n",
    "# perform division with 0\n",
    "a = marks / 0\n",
    "print(a)\n",
    "\n",
    "# In the above example raised the ZeroDivisionError as we are trying to divide a number by 0."
   ]
  },
  {
   "cell_type": "code",
   "execution_count": 2,
   "id": "b371ff4a-5357-4539-85c9-6dd98aaa1ccb",
   "metadata": {},
   "outputs": [
    {
     "ename": "SyntaxError",
     "evalue": "expected ':' (2338924624.py, line 7)",
     "output_type": "error",
     "traceback": [
      "\u001b[0;36m  Cell \u001b[0;32mIn[2], line 7\u001b[0;36m\u001b[0m\n\u001b[0;31m    if(marks > 60)\u001b[0m\n\u001b[0m                  ^\u001b[0m\n\u001b[0;31mSyntaxError\u001b[0m\u001b[0;31m:\u001b[0m expected ':'\n"
     ]
    }
   ],
   "source": [
    "# Example of Syntax Error\n",
    "\n",
    "# initialize the amount variable\n",
    "marks = 10000\n",
    "\n",
    "# check that You have passed the exam or not\n",
    "if(marks > 60)\n",
    "print(\"You Pass the exam\")\n",
    "\n",
    "# It returns a syntax error message because after the if statement a colon (:) is missing. \n",
    "# We can fix this by writing the correct syntax."
   ]
  },
  {
   "cell_type": "markdown",
   "id": "67628154-a3b9-4aaa-adf9-875eba7eb3a2",
   "metadata": {
    "tags": []
   },
   "source": [
    "### 2.  What happens when an exception is not handled? Explain with an example."
   ]
  },
  {
   "cell_type": "markdown",
   "id": "56cbf938-4e5d-4006-8df9-5de9bce09880",
   "metadata": {},
   "source": [
    "* If an exception is not handled in python, so When these exceptions occur, the Python interpreter stops the current process and passes it to the calling process until it is handled. If not handled, the program will crash.\n",
    "* It is Python’s default exception-handling behavior. If not handled, the program crashes automatically and prints an error code. You must handle the exceptions in your program if you do not want this default action. And that’s where try..except blocks come in.\n",
    "* Exception handling in Python is a technique of processing problems that occur during the execution of the program. Using exception handling, we can test the code and avoid it from exiting abruptly."
   ]
  },
  {
   "cell_type": "code",
   "execution_count": 5,
   "id": "e238c03a-c202-4373-818b-1c9a76ff4749",
   "metadata": {},
   "outputs": [
    {
     "name": "stdout",
     "output_type": "stream",
     "text": [
      "File does not exist :  [Errno 2] No such file or directory: 'example1.txt'\n"
     ]
    }
   ],
   "source": [
    "# Example of exception handling in python\n",
    "\n",
    "try:\n",
    "    f = open(\"example1.txt\", 'r')  # returns error because trying to open file in read mode which do not exist\n",
    "except Exception as e:\n",
    "    print(\"File does not exist : \", e)"
   ]
  },
  {
   "cell_type": "markdown",
   "id": "398e7097-89c3-457c-9e97-cf7cd816f043",
   "metadata": {
    "tags": []
   },
   "source": [
    "### 3.  Which Python statements are used to catch and handle exceptions? Explain with an example."
   ]
  },
  {
   "cell_type": "markdown",
   "id": "aa80ce20-055a-412a-b2de-1297f2d1c2bb",
   "metadata": {},
   "source": [
    "* Try and except statements are used to catch and handle exceptions in Python. \n",
    "* Statements that can raise exceptions are kept inside the try clause and the statements that handle the exception are written inside except clause."
   ]
  },
  {
   "cell_type": "code",
   "execution_count": 7,
   "id": "12a37308-48d5-420a-99b6-b0d981f9acb5",
   "metadata": {},
   "outputs": [
    {
     "name": "stdout",
     "output_type": "stream",
     "text": [
      "Second element = 2\n",
      "Error occurred and handled\n"
     ]
    }
   ],
   "source": [
    "# Python program to handle simple runtime error\n",
    "\n",
    "a = [1, 2, 3]\n",
    "try:\n",
    "    print (\"Second element = %d\" %(a[1]))\n",
    "\n",
    "    # Throws error since there are only 3\n",
    "    # elements in array\n",
    "    print (\"Fourth element = %d\" %(a[3]))\n",
    "\n",
    "except:\n",
    "    print (\"Error occurred and handled\")\n",
    "\n",
    "\n",
    "# In the above example, the statements that can cause the error are placed inside the try statement \n",
    "# (second print statement in our case). \n",
    "# The second print statement tries to access the fourth element of the list which is not there \n",
    "# and this throws an exception. This exception is then caught by the except statement."
   ]
  },
  {
   "cell_type": "markdown",
   "id": "f5323487-6fa2-4fca-b52e-cfae0394bbd6",
   "metadata": {
    "tags": []
   },
   "source": [
    "### 4. Explain with an example: \n",
    "1. try and else\n",
    "2. finally\n",
    "3. raise "
   ]
  },
  {
   "cell_type": "code",
   "execution_count": 8,
   "id": "cbac1268-df99-4048-a1b3-21512c566d38",
   "metadata": {},
   "outputs": [
    {
     "name": "stdout",
     "output_type": "stream",
     "text": [
      "this block will execute once try will execute itself without an exception\n"
     ]
    }
   ],
   "source": [
    "# 1) try and else\n",
    "\n",
    "try:\n",
    "    f = open(\"example.txt\", 'w')  # creating and opening example.txt\n",
    "    f.write(\"this is my msg\")     # if file is not closed the line will not get into the file example.txt\n",
    "    \n",
    "except Exception as e:\n",
    "    print(\"there is some issue with my code:\", e)\n",
    "    \n",
    "else:\n",
    "    f.close()\n",
    "    print(\"this block will execute once try will execute itself without an exception\")"
   ]
  },
  {
   "cell_type": "code",
   "execution_count": 9,
   "id": "f4d88bbc-fdd4-4058-82a9-7d33eafaf1c7",
   "metadata": {},
   "outputs": [
    {
     "name": "stdout",
     "output_type": "stream",
     "text": [
      "File does not exist to open in read mode:  [Errno 2] No such file or directory: 'example1.txt'\n",
      "I will always execute\n"
     ]
    }
   ],
   "source": [
    "# 2) Finally\n",
    "\n",
    "try:\n",
    "    f = open(\"example1.txt\", 'r')  # returns error because trying to open file in read mode which do not exist\n",
    "    f.write(\"this is my msg\")     \n",
    "    \n",
    "except Exception as e:\n",
    "    print(\"File does not exist to open in read mode: \", e)\n",
    "    \n",
    "else:\n",
    "    f.close()\n",
    "    print(\"this block will execute once try will execute itself without an exception\")\n",
    "    \n",
    "finally:  # finally: will always execute itself not matter what has happend with try:, except: and else:\n",
    "    print(\"I will always execute\")"
   ]
  },
  {
   "cell_type": "code",
   "execution_count": 10,
   "id": "98ed19a3-433a-42da-872e-4ca8317e110c",
   "metadata": {},
   "outputs": [
    {
     "name": "stdout",
     "output_type": "stream",
     "text": [
      "An exception\n"
     ]
    },
    {
     "ename": "NameError",
     "evalue": "Hi there",
     "output_type": "error",
     "traceback": [
      "\u001b[0;31m---------------------------------------------------------------------------\u001b[0m",
      "\u001b[0;31mNameError\u001b[0m                                 Traceback (most recent call last)",
      "Cell \u001b[0;32mIn[10], line 9\u001b[0m\n\u001b[1;32m      1\u001b[0m \u001b[38;5;66;03m# 3) raise\u001b[39;00m\n\u001b[1;32m      2\u001b[0m \u001b[38;5;66;03m# The raise statement allows the programmer to force a specific exception to occur. \u001b[39;00m\n\u001b[1;32m      3\u001b[0m \u001b[38;5;66;03m# The sole argument in raise indicates the exception to be raised. \u001b[39;00m\n\u001b[1;32m      4\u001b[0m \u001b[38;5;66;03m# This must be either an exception instance or an exception class (a class that derives from Exception).\u001b[39;00m\n\u001b[1;32m      5\u001b[0m \n\u001b[1;32m      6\u001b[0m \u001b[38;5;66;03m# Program to depict Raising Exception\u001b[39;00m\n\u001b[1;32m      8\u001b[0m \u001b[38;5;28;01mtry\u001b[39;00m: \n\u001b[0;32m----> 9\u001b[0m     \u001b[38;5;28;01mraise\u001b[39;00m \u001b[38;5;167;01mNameError\u001b[39;00m(\u001b[38;5;124m\"\u001b[39m\u001b[38;5;124mHi there\u001b[39m\u001b[38;5;124m\"\u001b[39m)  \u001b[38;5;66;03m# Raise Error\u001b[39;00m\n\u001b[1;32m     10\u001b[0m \u001b[38;5;28;01mexcept\u001b[39;00m \u001b[38;5;167;01mNameError\u001b[39;00m:\n\u001b[1;32m     11\u001b[0m     \u001b[38;5;28mprint\u001b[39m (\u001b[38;5;124m\"\u001b[39m\u001b[38;5;124mAn exception\u001b[39m\u001b[38;5;124m\"\u001b[39m)\n",
      "\u001b[0;31mNameError\u001b[0m: Hi there"
     ]
    }
   ],
   "source": [
    "# 3) raise\n",
    "# The raise statement allows the programmer to force a specific exception to occur. \n",
    "# The sole argument in raise indicates the exception to be raised. \n",
    "# This must be either an exception instance or an exception class (a class that derives from Exception).\n",
    "\n",
    "# Program to depict Raising Exception\n",
    "  \n",
    "try: \n",
    "    raise NameError(\"Hi there\")  # Raise Error\n",
    "except NameError:\n",
    "    print (\"An exception\")\n",
    "    raise  # To determine whether the exception was raised or not\n",
    "    \n",
    "# The output of the above code will simply line printed as “An exception” \n",
    "# but a Runtime error will also occur in the last due to the raise statement in the last line."
   ]
  },
  {
   "cell_type": "markdown",
   "id": "1f400257-0311-4326-b34d-afd9c1d2f1e6",
   "metadata": {
    "tags": []
   },
   "source": [
    "### 5. What are Custom Exceptions in python? Why do we need Custom Exceptions? Explain with an example."
   ]
  },
  {
   "cell_type": "markdown",
   "id": "21566848-193a-4510-84ef-039d1c869598",
   "metadata": {},
   "source": [
    "* Exceptions that are derived from the Exception class, either directly or indirectly are called as custom exceptions.\n",
    "* we need custom exception,  exception is not an exception for system but from programmer or user POV it is an exception.\n",
    "* for example: if we are taking input from user for age, if it is positive value it is fine, but even if user enters negative value the system accepts it, as it is not exception for system but as an user/coder you know that age cannot be negative hence it is an exception for user/coder"
   ]
  },
  {
   "cell_type": "code",
   "execution_count": 11,
   "id": "7f80d16f-f0c3-452f-85ed-3b5c3da38446",
   "metadata": {},
   "outputs": [
    {
     "name": "stdin",
     "output_type": "stream",
     "text": [
      "enter your age:  -50\n"
     ]
    },
    {
     "name": "stdout",
     "output_type": "stream",
     "text": [
      "age should not be lesser than zero\n"
     ]
    }
   ],
   "source": [
    "# creating custom class to handle exception based on our own conditions\n",
    "\n",
    "class validateage(Exception) :    # inheritance of Exception class which is pre-defined in the system\n",
    "    def __init__(self, msg) :     # construtor of the class which will take msg as in input attribute\n",
    "        self.msg = msg\n",
    "\n",
    "# crearing a function to raise custom exception based on input \n",
    "def validate_age(age) :\n",
    "    if age < 0 :\n",
    "        raise validateage(\"age should not be lesser than zero\")    \n",
    "        # raise is a reserved keyword which can call the custom class\n",
    "        # this is nothing but creating object of custom class(i.e validateage) \n",
    "        # and passing the custom message as per constructor\n",
    "        # on this custom condition the exception will automatically raise\n",
    "    elif age > 200 :\n",
    "        raise validateage(\"age is too high\")\n",
    "    else :\n",
    "        print(\"age is valid\")    \n",
    "\n",
    "# Driver code to chevk custom exception handling\n",
    "try:\n",
    "    age = int(input(\"enter your age: \"))\n",
    "    validate_age(age)\n",
    "except validateage as e :   # calling the custom class because it is responsible for giving message and raising exception\n",
    "    print(e)"
   ]
  },
  {
   "cell_type": "markdown",
   "id": "46abb63d-b57c-4354-938a-d7594884f5ea",
   "metadata": {
    "tags": []
   },
   "source": [
    "### 6.  Create custom exception class. Use this class to handle an exception."
   ]
  },
  {
   "cell_type": "code",
   "execution_count": 14,
   "id": "e24ce0b9-beac-4d99-a545-4fc452dad48f",
   "metadata": {},
   "outputs": [
    {
     "name": "stdin",
     "output_type": "stream",
     "text": [
      "Enter an age:  10\n"
     ]
    },
    {
     "name": "stdout",
     "output_type": "stream",
     "text": [
      "Exception occurred: Invalid Age to Vote\n"
     ]
    }
   ],
   "source": [
    "# define Python user-defined or custom exceptions\n",
    "\n",
    "class InvalidAgeException(Exception):\n",
    "    \"Raised when the input value is less than 18\"\n",
    "    pass\n",
    "\n",
    "# you need to guess this number\n",
    "eligible_age = 18\n",
    "\n",
    "try:\n",
    "    input_age = int(input(\"Enter an age: \"))\n",
    "    if input_age < eligible_age:\n",
    "        raise InvalidAgeException\n",
    "    else:\n",
    "        print(\"Eligible to Vote\")\n",
    "        \n",
    "except InvalidAgeException:\n",
    "    print(\"Exception occurred: Invalid Age to Vote\")"
   ]
  },
  {
   "cell_type": "code",
   "execution_count": null,
   "id": "2eda133a-1958-442a-85dd-e97f9ac954c1",
   "metadata": {},
   "outputs": [],
   "source": []
  }
 ],
 "metadata": {
  "kernelspec": {
   "display_name": "Python 3 (ipykernel)",
   "language": "python",
   "name": "python3"
  },
  "language_info": {
   "codemirror_mode": {
    "name": "ipython",
    "version": 3
   },
   "file_extension": ".py",
   "mimetype": "text/x-python",
   "name": "python",
   "nbconvert_exporter": "python",
   "pygments_lexer": "ipython3",
   "version": "3.10.8"
  }
 },
 "nbformat": 4,
 "nbformat_minor": 5
}
