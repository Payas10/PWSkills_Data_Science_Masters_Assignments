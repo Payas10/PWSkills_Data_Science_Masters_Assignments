{
 "cells": [
  {
   "cell_type": "markdown",
   "id": "87e165a1-55d7-4e52-b737-23318baed3b3",
   "metadata": {},
   "source": [
    "# Assignment 13 - Feb 14' 23 - Multithreading"
   ]
  },
  {
   "cell_type": "markdown",
   "id": "51423e9d-07c0-469b-94f9-85c4e8128a54",
   "metadata": {},
   "source": [
    "### 1. What is multithreading in python? Why is it used? Name the module used to handle threads in python."
   ]
  },
  {
   "cell_type": "markdown",
   "id": "f02a9ca8-f8f0-417b-8cb3-18264e25a48e",
   "metadata": {},
   "source": [
    "##### WHAT?\n",
    "* If you wish to save time and improve performance, you should use multithreading in Python.\n",
    "* Multithreading in Python is a popular technique that enables multiple tasks to be executed simultaneously. In simple words, the ability of a processor to execute multiple threads simultaneously is known as multithreading.\n",
    "* Python multithreading facilitates sharing data space and resources of multiple threads with the main thread. It allows efficient and easy communication between the threads.\n",
    "* It is a technique where a process spawns multiple threads simultaneously.Python multithreading implements concurrency. It gives the illusion that they are running parallelly, but they work in a concurrent manner.\n",
    "* In multithreading, the GIL or Global Interpreter Lock prevents the threads from running simultaneously.\n",
    "##### WHY?\n",
    "* If you wish to break down your tasks and applications into multiple sub-tasks and then execute them simultaneously, then multithreading in Python is your best bet. \n",
    "* All important aspects such as performance, rendering, speed and time consumption will drastically be improved by using proper Python multithreading.\n",
    "* Multithreading in Python should be used only when there is no existing inter-dependency between the threads.\n",
    "##### MODULE\n",
    "* Using the *Threading* Module, threads can be handled in python."
   ]
  },
  {
   "cell_type": "markdown",
   "id": "59b212b5-3def-4189-aaaa-a25f0dd87d59",
   "metadata": {},
   "source": [
    "### 2. Why threading module used? Write the use of the following functions:\n",
    "1. activeCount()\n",
    "2. currentThread()\n",
    "3. enumerate()"
   ]
  },
  {
   "cell_type": "markdown",
   "id": "1fd9e5aa-166b-4ddb-8994-02c06b7be55e",
   "metadata": {},
   "source": [
    "* The *threading* module is used for creating, controlling and managing threads in python. \n",
    "* The *threading* module provides a very simple and intuitive API for spawning multiple threads in a program.\n",
    "* The *threading* module exposes all the methods of the thread module and provides some additional methods -\n",
    "> 1. activeCount() − Returns the number of thread objects that are active or currently alive\n",
    "> 2. currentThread() − Returns the number of thread objects in the caller's thread control (which is in the control of caller currently).\n",
    "> 3. numerate() − Returns a list of all thread objects that are currently active or alive.The list includes daemonic threads(when the program quits, all the daemon threads associated with it are killed automatically), dummy thread objects created by the current thread, and the main thread."
   ]
  },
  {
   "cell_type": "markdown",
   "id": "52047252-a7a3-499c-9170-a0cdb4b6539a",
   "metadata": {},
   "source": [
    "### 3. Explain the following functions:\n",
    "1. run()\n",
    "2. start()\n",
    "3. join()\n",
    "4. isAlive()"
   ]
  },
  {
   "cell_type": "markdown",
   "id": "35e7b45b-a149-419e-ba21-9935e8bcc0f4",
   "metadata": {},
   "source": [
    "* In addition to the methods, the threading module has the Thread class that implements threading. The methods provided by the Thread class are as follows −\n",
    "\n",
    "> 1. run()  − The run() method is the entry point for a thread.\n",
    "> 2. start()  − The start() method starts a thread by calling the run method.\n",
    "> 3. join([time])  − The join() waits for threads to terminate.\n",
    "> 4. isAlive()  − The isAlive() method checks whether a thread is still executing.\n",
    "> 5. getName()  − The getName() method returns the name of a thread.\n",
    "> 6. setName()  − The setName() method sets the name of a thread."
   ]
  },
  {
   "cell_type": "markdown",
   "id": "f24ec786-8a49-4385-bd98-c724ca06103b",
   "metadata": {},
   "source": [
    "### 4.  Write a python program to create two threads. Thread one must print the list of squares and thread two must print the list of cubes."
   ]
  },
  {
   "cell_type": "code",
   "execution_count": 13,
   "id": "0195e504-a07c-431e-a070-261076dd14c6",
   "metadata": {},
   "outputs": [
    {
     "name": "stdout",
     "output_type": "stream",
     "text": [
      "Square of numbers are: \n",
      "0 : 0\n",
      "1 : 1\n",
      "2 : 4\n",
      "3 : 9\n",
      "4 : 16\n",
      "5 : 25\n",
      "6 : 36\n",
      "7 : 49\n",
      "8 : 64\n",
      "9 : 81\n",
      "10 : 100\n",
      "Cube of numbers are: \n",
      "0 : 0\n",
      "1 : 1\n",
      "2 : 8\n",
      "3 : 27\n",
      "4 : 64\n",
      "5 : 125\n",
      "6 : 216\n",
      "7 : 343\n",
      "8 : 512\n",
      "9 : 729\n",
      "10 : 1000\n"
     ]
    }
   ],
   "source": [
    "import threading\n",
    "\n",
    "def SqCube(x, power):\n",
    "    if power == 2:\n",
    "        print(\"Square of numbers are: \") # print(\"Raise to the Power %d calculation\" %(power)) - Use instead of if-else block\n",
    "    else:\n",
    "        print(\"Cube of numbers are: \")\n",
    "    for i in range(11) :\n",
    "        print(\"%d : %d\" %(i, i**power))\n",
    "\n",
    "threads_list = [1,2]\n",
    "power_list = [2,3]\n",
    "\n",
    "thread = [threading.Thread(target = SqCube, args =(threads_list[i], power_list[i])) for i in range(len(threads_list))]\n",
    "                     \n",
    "for t in thread:\n",
    "    t.start()       "
   ]
  },
  {
   "cell_type": "markdown",
   "id": "e36b7fd3-251c-4a15-885d-dabe593ef18e",
   "metadata": {},
   "source": [
    "### 5. State advantages and disadvantages of multithreading."
   ]
  },
  {
   "cell_type": "markdown",
   "id": "6c8d3d79-fcd5-4835-abdc-d6d79f9337f2",
   "metadata": {},
   "source": [
    "##### Advantages:\n",
    "> * It doesn’t block the user. This is because threads are independent of each other.\n",
    "> * Enhanced performance on multi-processor machines by decreased development time\n",
    "> * Simplified and streamlined program coding\n",
    "> * Improvised GUI responsiveness\n",
    "> * Simultaneous and parallelized occurrence of tasks\n",
    "> * Better use of cache storage by utilization of resources\n",
    "> * Decreased cost of maintenance\n",
    "> * Better use of CPU resource\n",
    "##### Disadvantages:\n",
    "> * Complex debugging and testing processes. Also, as number of threads increase, complexity increases.\n",
    "> * Overhead switching of context\n",
    "> * Increased potential for deadlock occurrence which leads to starvation, i.e. some threads may not be served with a bad design\n",
    "> * Increased difficulty level in writing a program\n",
    "> * Unpredictable results\n",
    "> * Synchronization of shared resources (objects, data) is necessary.\n",
    "> * Constructing and synchronizing threads is CPU/memory intensive."
   ]
  },
  {
   "cell_type": "markdown",
   "id": "f4c7014c-47fd-40b3-bb2c-aad4818a37be",
   "metadata": {},
   "source": [
    "### 6. Explain deadlocks and race conditions."
   ]
  },
  {
   "cell_type": "markdown",
   "id": "6256870b-5b7e-4dc5-a883-ec7d08020c16",
   "metadata": {},
   "source": [
    "##### 1. Race condition: \n",
    "* A race condition occurs when two threads \"race\" for access to a resource. \n",
    "* For example, you may have an object that's used in two threads. If one thread tries to change a value in the objec while another tries to do the same thing, a race condition can occur. You can’t guarantee which thread will get to the object first, and thus your code could end up with some nasty bugs.\n",
    "* To prevent this kind of thing from happening, python has a special keyword called lock(). Lock is used to \"lock\" an object so that only the thread that locked it can work with it.\n",
    "##### 2. Deadlock:\n",
    "* The opposite of a race condition is a deadlock. Whereas race conditions can cause your programs to do very strange things, deadlocks can cause them to just hang and do nothing for no apparent reason.\n",
    "* A deadlock occurs when two threads lock each other’s resources.\n",
    "* For example, one thread could lock an employee object and then wait for access to a department object. A second thread could have locked the department object and be waiting for the now locked employeeobject. The net result is that both threads stop dead in the water.\n",
    "* There is no magic keyword to prevent deadlocks from happening. You just need to becareful when writing your own code to make sure that you don’t end up with a situation where a deadlock can occur.\n",
    "\n",
    "<center><img src=\"https://media.geeksforgeeks.org/wp-content/cdn-uploads/gq/2015/06/deadlock.png\"></center>"
   ]
  },
  {
   "cell_type": "code",
   "execution_count": null,
   "id": "fe4e513b-67a8-470e-a72f-0c61963aca5f",
   "metadata": {},
   "outputs": [],
   "source": []
  }
 ],
 "metadata": {
  "kernelspec": {
   "display_name": "Python 3 (ipykernel)",
   "language": "python",
   "name": "python3"
  },
  "language_info": {
   "codemirror_mode": {
    "name": "ipython",
    "version": 3
   },
   "file_extension": ".py",
   "mimetype": "text/x-python",
   "name": "python",
   "nbconvert_exporter": "python",
   "pygments_lexer": "ipython3",
   "version": "3.10.8"
  }
 },
 "nbformat": 4,
 "nbformat_minor": 5
}
