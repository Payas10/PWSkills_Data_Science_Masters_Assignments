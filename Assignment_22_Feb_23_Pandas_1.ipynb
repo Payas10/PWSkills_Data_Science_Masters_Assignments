{
 "cells": [
  {
   "cell_type": "markdown",
   "id": "f2bec7b4-1dd5-43af-8db1-b9129a054f8e",
   "metadata": {},
   "source": [
    "# Assignment 22 - Feb 23' 23 - Pandas Part 1"
   ]
  },
  {
   "cell_type": "markdown",
   "id": "efdaa113-a56b-4624-acb5-b672cdbc978c",
   "metadata": {},
   "source": [
    "### 1. Create a Pandas Series that contains the following data: 4, 8, 15, 16, 23, and 42. Then, print the series."
   ]
  },
  {
   "cell_type": "code",
   "execution_count": 12,
   "id": "7baa0461-9fef-4755-9638-798d88b86b1e",
   "metadata": {},
   "outputs": [
    {
     "name": "stdout",
     "output_type": "stream",
     "text": [
      "0     4\n",
      "1     8\n",
      "2    15\n",
      "3    16\n",
      "4    23\n",
      "5    42\n",
      "Name: numbers, dtype: int64\n",
      "<class 'pandas.core.series.Series'>\n"
     ]
    }
   ],
   "source": [
    "import pandas as pd\n",
    "\n",
    "data = { \"numbers\" : [4,8,15,16,23,42]}\n",
    "df = pd.DataFrame(data)\n",
    "print(df[\"numbers\"])\n",
    "print(type(df[\"numbers\"]))"
   ]
  },
  {
   "cell_type": "markdown",
   "id": "7d105d0e-68ba-4f84-ad1c-0679a70a0220",
   "metadata": {},
   "source": [
    "### 2. Create a variable of list type containing 10 elements in it, and apply pandas.Series function on the variable print it."
   ]
  },
  {
   "cell_type": "code",
   "execution_count": 13,
   "id": "ce29884f-3356-49d7-b436-fc00c5e00809",
   "metadata": {},
   "outputs": [
    {
     "name": "stdout",
     "output_type": "stream",
     "text": [
      "0     1\n",
      "1     2\n",
      "2     3\n",
      "3     4\n",
      "4     5\n",
      "5     6\n",
      "6     7\n",
      "7     8\n",
      "8     9\n",
      "9    10\n",
      "dtype: int64\n"
     ]
    }
   ],
   "source": [
    "lst = [1,2,3,4,5,6,7,8,9,10]\n",
    "df1 = pd.Series(lst)\n",
    "print(df1)"
   ]
  },
  {
   "attachments": {
    "57fe6cd4-e03f-4b89-976b-5eaf47d1bae5.png": {
     "image/png": "[encoded data removed]"
    }
   },
   "cell_type": "markdown",
   "id": "f52325e9-e904-4a2d-851e-f58020ee7704",
   "metadata": {},
   "source": [
    "### 3.  Create a Pandas DataFrame that contains the following data. Then, print the DataFrame.\n",
    "![image.png](attachment:57fe6cd4-e03f-4b89-976b-5eaf47d1bae5.png)"
   ]
  },
  {
   "cell_type": "code",
   "execution_count": 14,
   "id": "0e7dc096-a400-45c1-8e8f-fe6fe49a7835",
   "metadata": {},
   "outputs": [
    {
     "data": {
      "text/html": [
       "<div>\n",
       "<style scoped>\n",
       "    .dataframe tbody tr th:only-of-type {\n",
       "        vertical-align: middle;\n",
       "    }\n",
       "\n",
       "    .dataframe tbody tr th {\n",
       "        vertical-align: top;\n",
       "    }\n",
       "\n",
       "    .dataframe thead th {\n",
       "        text-align: right;\n",
       "    }\n",
       "</style>\n",
       "<table border=\"1\" class=\"dataframe\">\n",
       "  <thead>\n",
       "    <tr style=\"text-align: right;\">\n",
       "      <th></th>\n",
       "      <th>Name</th>\n",
       "      <th>Age</th>\n",
       "      <th>Gender</th>\n",
       "    </tr>\n",
       "  </thead>\n",
       "  <tbody>\n",
       "    <tr>\n",
       "      <th>0</th>\n",
       "      <td>Alice</td>\n",
       "      <td>25</td>\n",
       "      <td>Female</td>\n",
       "    </tr>\n",
       "    <tr>\n",
       "      <th>1</th>\n",
       "      <td>Bob</td>\n",
       "      <td>30</td>\n",
       "      <td>Male</td>\n",
       "    </tr>\n",
       "    <tr>\n",
       "      <th>2</th>\n",
       "      <td>Claire</td>\n",
       "      <td>27</td>\n",
       "      <td>Female</td>\n",
       "    </tr>\n",
       "  </tbody>\n",
       "</table>\n",
       "</div>"
      ],
      "text/plain": [
       "     Name Age  Gender\n",
       "0   Alice  25  Female\n",
       "1     Bob  30    Male\n",
       "2  Claire  27  Female"
      ]
     },
     "execution_count": 14,
     "metadata": {},
     "output_type": "execute_result"
    }
   ],
   "source": [
    "data_table = { \"Name\" : [\"Alice\", \"Bob\", \"Claire\"],\n",
    "              \"Age\" : [\"25\", \"30\", \"27\"],\n",
    "              \"Gender\" : [\"Female\", \"Male\", \"Female\"] }\n",
    "df2 = pd.DataFrame(data_table)\n",
    "df2"
   ]
  },
  {
   "cell_type": "markdown",
   "id": "fe132ac0-a6f8-4ffc-b668-17ac9c3f4e4d",
   "metadata": {},
   "source": [
    "### 4. What is ‘DataFrame’ in pandas and how is it different from pandas.series? Explain with an example."
   ]
  },
  {
   "cell_type": "markdown",
   "id": "bca07e40-56bc-4842-9f5d-2eb28df832b2",
   "metadata": {},
   "source": [
    "#### DataFrame\n",
    "* A dataframe is a 2-dimensional data structure that can store multiple lists of heterogeneous data with column names. A dataframe can be made of more than one series.\n",
    "* It gets created with labelled axes (i.e with rows and columns).\n",
    "\n",
    "#### Series\n",
    "* A series is a 1-dimensional data structure that can store a single list of heterogeneous data with an index. \n",
    "* It indexes(also called labels) the data by  default starting from 0. We can access the data from Series using the indexes."
   ]
  },
  {
   "cell_type": "code",
   "execution_count": 16,
   "id": "746f323a-cfe4-4a7e-bfff-22ce84ddcc00",
   "metadata": {},
   "outputs": [
    {
     "data": {
      "text/html": [
       "<div>\n",
       "<style scoped>\n",
       "    .dataframe tbody tr th:only-of-type {\n",
       "        vertical-align: middle;\n",
       "    }\n",
       "\n",
       "    .dataframe tbody tr th {\n",
       "        vertical-align: top;\n",
       "    }\n",
       "\n",
       "    .dataframe thead th {\n",
       "        text-align: right;\n",
       "    }\n",
       "</style>\n",
       "<table border=\"1\" class=\"dataframe\">\n",
       "  <thead>\n",
       "    <tr style=\"text-align: right;\">\n",
       "      <th></th>\n",
       "      <th>author</th>\n",
       "      <th>books</th>\n",
       "    </tr>\n",
       "  </thead>\n",
       "  <tbody>\n",
       "    <tr>\n",
       "      <th>0</th>\n",
       "      <td>Jitender</td>\n",
       "      <td>Python</td>\n",
       "    </tr>\n",
       "    <tr>\n",
       "      <th>1</th>\n",
       "      <td>Purnima</td>\n",
       "      <td>Java</td>\n",
       "    </tr>\n",
       "    <tr>\n",
       "      <th>2</th>\n",
       "      <td>Arpit</td>\n",
       "      <td>C++</td>\n",
       "    </tr>\n",
       "    <tr>\n",
       "      <th>3</th>\n",
       "      <td>Jyoti</td>\n",
       "      <td>Ruby</td>\n",
       "    </tr>\n",
       "  </tbody>\n",
       "</table>\n",
       "</div>"
      ],
      "text/plain": [
       "     author   books\n",
       "0  Jitender  Python\n",
       "1   Purnima    Java\n",
       "2     Arpit     C++\n",
       "3     Jyoti    Ruby"
      ]
     },
     "execution_count": 16,
     "metadata": {},
     "output_type": "execute_result"
    }
   ],
   "source": [
    "# datafrane of author name and book title\n",
    "\n",
    "author = ['Jitender', 'Purnima', 'Arpit', 'Jyoti']\n",
    "books = [\"Python\", \"Java\", \"C++\", \"Ruby\"]\n",
    "df3 = pd.DataFrame({\"author\" : author , \"books\" : books})\n",
    "df3"
   ]
  },
  {
   "cell_type": "code",
   "execution_count": 11,
   "id": "75240b0c-b78d-4ec8-b9a8-4e9819b46a04",
   "metadata": {},
   "outputs": [
    {
     "name": "stdout",
     "output_type": "stream",
     "text": [
      "0    Jitender\n",
      "1     Purnima\n",
      "2       Arpit\n",
      "3       Jyoti\n",
      "dtype: object\n"
     ]
    }
   ],
   "source": [
    "# series of author name\n",
    "\n",
    "author = ['Jitender', 'Purnima', 'Arpit', 'Jyoti']\n",
    "author_series = pd.Series(author)\n",
    "print(author_series)"
   ]
  },
  {
   "cell_type": "markdown",
   "id": "a6c1c98c-a066-44c4-8899-7b1ea46709f5",
   "metadata": {},
   "source": [
    "### 5. What are some common functions you can use to manipulate data in a Pandas DataFrame? Can you give an example of when you might use one of these functions?"
   ]
  },
  {
   "cell_type": "markdown",
   "id": "f1527f51-6fad-4b83-8f59-ceee879b0099",
   "metadata": {},
   "source": [
    "* fillna()\n",
    "* dropna()\n",
    "* set_index()\n",
    "* sort_values()\n",
    "* groupby()\n",
    "* concat()\n",
    "* to_csv(), etc."
   ]
  },
  {
   "cell_type": "code",
   "execution_count": 20,
   "id": "2fa07d49-682d-47e2-bc6f-dfedd98d958e",
   "metadata": {},
   "outputs": [],
   "source": [
    "# example for to_csv()\n",
    "# This function can be used to covert a dataFrame into csv file to store it locally.\n",
    "\n",
    "df5.to_csv(\"authors.csv\", index=False)"
   ]
  },
  {
   "cell_type": "markdown",
   "id": "4521c863-569c-408e-a4af-c071d9085c06",
   "metadata": {},
   "source": [
    "### 6. Which of the following is mutable in nature Series, DataFrame, Panel?"
   ]
  },
  {
   "cell_type": "markdown",
   "id": "b983208a-d0d0-4585-a95c-9284759e6521",
   "metadata": {},
   "source": [
    "* DataFrames are both value-mutable and size-mutable.\n",
    "* Panel is also both value-mutable and size-mutable.\n",
    "* Series are only value-mutable, not size-mutable. \n",
    "* Therefore, all of them are mutable in nature, but only DataFrames and Panel can change their size."
   ]
  },
  {
   "cell_type": "markdown",
   "id": "65e404df-84ae-4816-9232-90c6c456707f",
   "metadata": {},
   "source": [
    "### 7. Create a DataFrame using multiple Series. Explain with an example."
   ]
  },
  {
   "cell_type": "code",
   "execution_count": 17,
   "id": "b68cb68a-b5ed-4fde-80ca-c7132b0a27b9",
   "metadata": {},
   "outputs": [
    {
     "data": {
      "text/html": [
       "<div>\n",
       "<style scoped>\n",
       "    .dataframe tbody tr th:only-of-type {\n",
       "        vertical-align: middle;\n",
       "    }\n",
       "\n",
       "    .dataframe tbody tr th {\n",
       "        vertical-align: top;\n",
       "    }\n",
       "\n",
       "    .dataframe thead th {\n",
       "        text-align: right;\n",
       "    }\n",
       "</style>\n",
       "<table border=\"1\" class=\"dataframe\">\n",
       "  <thead>\n",
       "    <tr style=\"text-align: right;\">\n",
       "      <th></th>\n",
       "      <th>author</th>\n",
       "      <th>books</th>\n",
       "      <th>age</th>\n",
       "    </tr>\n",
       "  </thead>\n",
       "  <tbody>\n",
       "    <tr>\n",
       "      <th>0</th>\n",
       "      <td>Jitender</td>\n",
       "      <td>Python</td>\n",
       "      <td>24</td>\n",
       "    </tr>\n",
       "    <tr>\n",
       "      <th>1</th>\n",
       "      <td>Purnima</td>\n",
       "      <td>Java</td>\n",
       "      <td>26</td>\n",
       "    </tr>\n",
       "    <tr>\n",
       "      <th>2</th>\n",
       "      <td>Arpit</td>\n",
       "      <td>C++</td>\n",
       "      <td>32</td>\n",
       "    </tr>\n",
       "    <tr>\n",
       "      <th>3</th>\n",
       "      <td>Jyoti</td>\n",
       "      <td>Ruby</td>\n",
       "      <td>40</td>\n",
       "    </tr>\n",
       "  </tbody>\n",
       "</table>\n",
       "</div>"
      ],
      "text/plain": [
       "     author   books  age\n",
       "0  Jitender  Python   24\n",
       "1   Purnima    Java   26\n",
       "2     Arpit     C++   32\n",
       "3     Jyoti    Ruby   40"
      ]
     },
     "execution_count": 17,
     "metadata": {},
     "output_type": "execute_result"
    }
   ],
   "source": [
    "# datafrane of author name, book title and author age using multiple series\n",
    "\n",
    "auth_series = pd.Series(['Jitender', 'Purnima', 'Arpit', 'Jyoti'])\n",
    "book_series = pd.Series([\"Python\", \"Java\", \"C++\", \"Ruby\"])\n",
    "age_series = pd.Series([24,26,32,40])\n",
    "\n",
    "df5 = pd.DataFrame({\"author\" : auth_series, \"books\" : book_series, \"age\" : age_series})\n",
    "\n",
    "df5"
   ]
  },
  {
   "cell_type": "code",
   "execution_count": null,
   "id": "2b1dabbb-5cae-41df-ac62-6bfd54098b63",
   "metadata": {},
   "outputs": [],
   "source": []
  }
 ],
 "metadata": {
  "kernelspec": {
   "display_name": "Python 3 (ipykernel)",
   "language": "python",
   "name": "python3"
  },
  "language_info": {
   "codemirror_mode": {
    "name": "ipython",
    "version": 3
   },
   "file_extension": ".py",
   "mimetype": "text/x-python",
   "name": "python",
   "nbconvert_exporter": "python",
   "pygments_lexer": "ipython3",
   "version": "3.10.8"
  }
 },
 "nbformat": 4,
 "nbformat_minor": 5
}
