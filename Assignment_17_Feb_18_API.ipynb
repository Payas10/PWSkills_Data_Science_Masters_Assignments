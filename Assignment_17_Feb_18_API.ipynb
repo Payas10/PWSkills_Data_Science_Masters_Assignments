{
 "cells": [
  {
   "cell_type": "markdown",
   "id": "2ecf2b67-8f5b-4bd3-91de-7e9ca6b4116e",
   "metadata": {},
   "source": [
    "# Assignment 17 - Feb 18' 23 - Web API"
   ]
  },
  {
   "cell_type": "markdown",
   "id": "8a663ea4-41d8-4747-8588-3389e18b5531",
   "metadata": {
    "tags": []
   },
   "source": [
    "### 1.  What is an API? Give an example, where an API is used in real life."
   ]
  },
  {
   "cell_type": "markdown",
   "id": "03c51477-7916-4de5-85a0-4898ce76c708",
   "metadata": {},
   "source": [
    "#### WAHT?\n",
    "* An Application programming interface is a software interface that helps in connecting between the computer or between computer programs. It is an interface that provides the accessibility of information. In simple words, you can say it is a software interface that offers service to the other pieces of software.\n",
    "* API is actually some kind of interface which is having a set of functions. These set of functions will allow programmers to acquire some specific features or the data of an application. \n",
    "* Best examples of web services APIs are- \n",
    "> 1. SOAP (Simple Object Access Protocol)\n",
    "> 2. REST (REpresentational State Transfer)\n",
    "* Features :\n",
    "> * An application programming interface is a software that allows two applications to talk to each other.\n",
    "> * Application programming interface helps in enabling applications to exchange data and functionality easily.\n",
    "> * The application programming interface is also called a middle man between two systems.\n",
    "> * Application programming interface helps in data monetization.\n",
    "> * Application programming interface helps in improving collaboration.\n",
    "\n",
    "</br>\n",
    "\n",
    "#### Real World Examples\n",
    "* Applications of APIs in the real world :\n",
    "1. **Weather snippets** – \n",
    "> In weather snippets, APIs are generally used to access a large set of datasets to access the information of weather forecast which is very helpful information in day-to-day life.\n",
    "2. **Login** – \n",
    "> In this functionality, APIs are widely used to log in via Google, Linked In, Git Hub, Twitter and allow users to access the log-in portal by using the API interface.\n",
    "3. **Entertainment** – \n",
    "> In this field, APIs are used to access and provide a huge set of databases to access movies, web series, comedy, etc.\n",
    "4. **E-commerce website** – \n",
    "> In this, APIs provide the functionality like if you have purchased something, and now you want to pay so, API provides interface like you can pay using different bank debit cards, UPI(Unified Payments Interface), credit card, wallet, etc.\n",
    "5. **Gaming** – \n",
    "> In gaming, it provides an interface like you can access the information of the game, and you can connect to different users and play with different-different users at the same time."
   ]
  },
  {
   "cell_type": "markdown",
   "id": "87b1b873-01d8-43cb-95b7-7dbf4c0e5e73",
   "metadata": {},
   "source": [
    "### 2. Give advantages and disadvantages of using API. "
   ]
  },
  {
   "cell_type": "markdown",
   "id": "7b327e8f-add7-4303-a373-2f414900882d",
   "metadata": {},
   "source": [
    "#### Advantages of APIs\n",
    "* **Efficiency** : API produces efficient, quicker, and more reliable results than the outputs produced by human beings in an organization.\n",
    "* **Flexible delivery of services** : API provides fast and flexible delivery of services according to developers’ requirements.\n",
    "* **Integration** : The best feature of API is that it allows the movement of data between various sites and thus enhances the integrated user experience.\n",
    "* **Automation** : As API makes use of robotic computers rather than humans, it produces better and more automated results.\n",
    "* **New functionality** : While using API the developers find new tools and functionality for API exchanges.\n",
    "\n",
    "#### Disadvantages of APIs\n",
    "* **Cost** : Developing and implementing API is costly at times and requires high maintenance and support from developers.\n",
    "* **Security issues** : Using API adds another layer of surface which is then prone to attacks, and hence the security risk problem is common in APIs."
   ]
  },
  {
   "cell_type": "markdown",
   "id": "72919c77-7d26-426b-be19-6f9141deef95",
   "metadata": {},
   "source": [
    "### 3. What is a Web API? Differentiate between API and Web API."
   ]
  },
  {
   "cell_type": "markdown",
   "id": "e23b6f9f-15e3-4ecd-b263-e48b961268e6",
   "metadata": {},
   "source": [
    "#### WHAT?\n",
    "* Web API is an API as the name suggests, it can be accessed over the web using the HTTP protocol.\n",
    "* It is a framework that helps you to create and develop HTTP based RESTFUL services. \n",
    "* The web API can be developed by using different technologies such as java, ASP.NET, python etc. \n",
    "* Web API is used in either a web server or a web browser. \n",
    "* Basically Web API is a web development concept. It is limited to Web Application’s client-side and also it does not include a web server or web browser details. \n",
    "* If an application is to be used on a distributed system and to provide services on different devices like laptops, mobiles, etc then web API services are used. \n",
    "* Web API is the enhanced form of the web application.\n",
    "* It is implemented to extend the functionality of a browser, simplify complex functions, and provide easy syntax to complex code.\n",
    "</br>\n",
    "#### DIFFERENCE?\n",
    "| Web Service/API | Web API |\n",
    "|-|-|\n",
    "|Web services are a type of API, which must be accessed through a network connection.|APIs are application interfaces, implying that one application can communicate with another application in a standardized manner.|\n",
    "|Web service is used for REST, SOAP and XML-RPC for communication.|API is used for any style of communication.|\n",
    "|All Web services are APIs.|APIs are not web services.|\n",
    "|It doesn’t have lightweight design, needs a SOAP convention to send or receive data over the system.|It has a light-weight architecture furthermore, useful for gadgets which have constrained transmission capacity like smart phones.|\n",
    "|It provides supports only for the HTTP protocol.|It provides support for the HTTP/s protocol: URL Request/Response Headers, and so on.|\n",
    "|It is not open source, however, can be devoured by any customer that comprehends xml.|It is an open source and also ships with .NET framework.|\n",
    "|Web service supports only XML.|API supports XML and JSON.\n",
    "|Web Services can be hosted on IIS.|Web API can be hosted only on IIS and self.|"
   ]
  },
  {
   "cell_type": "markdown",
   "id": "af360645-02a4-4009-9d6f-8ffaeb15a042",
   "metadata": {},
   "source": [
    "### 4. Explain REST and SOAP Architecture. Mention shortcomings of SOAP."
   ]
  },
  {
   "cell_type": "markdown",
   "id": "0ad102be-4d7e-41da-acab-fad7e0d20bf2",
   "metadata": {},
   "source": [
    "#### REST\n",
    "* Representational State Transfer (REST) is an architectural style that defines a set of constraints to be used for creating web services. REST API is a way of accessing web services in a simple and flexible way without having any processing.\n",
    "* REST technology is generally preferred to the more robust Simple Object Access Protocol (SOAP) technology because REST uses less bandwidth, simple and flexible making it more suitable for internet usage. It’s used to fetch or give some information from a web service. All communication done via REST API uses only HTTP request.\n",
    "* In HTTP there are five methods that are commonly used in a REST-based Architecture i.e., POST, GET, PUT, PATCH, and DELETE. These correspond to create, read, update, and delete (or CRUD) operations respectively. There are other methods which are less frequently used like OPTIONS and HEAD.  \n",
    "> 1. **GET** : The HTTP GET method is used to read (or retrieve) a representation of a resource. In the safe path, GET returns a representation in XML or JSON and an HTTP response code of 200 (OK). In an error case, it most often returns a 404 (NOT FOUND) or 400 (BAD REQUEST). \n",
    "> 2. **POST** : The POST verb is most often utilized to create new resources. In particular, it’s used to create subordinate resources. That is, subordinate to some other (e.g. parent) resource. On successful creation, return HTTP status 201, returning a Location header with a link to the newly-created resource with the 201 HTTP status. \n",
    "NOTE: POST is neither safe nor idempotent. \n",
    "> 3. **PUT** : It is used for updating the capabilities. However, PUT can also be used to create a resource in the case where the resource ID is chosen by the client instead of by the server. In other words, if the PUT is to a URI that contains the value of a non-existent resource ID. On successful update, return 200 (or 204 if not returning any content in the body) from a PUT. If using PUT for create, return HTTP status 201 on successful creation. PUT is not safe operation but it’s idempotent. \n",
    "> 4. **PATCH** : It is used to modify capabilities. The PATCH request only needs to contain the changes to the resource, not the complete resource. This resembles PUT, but the body contains a set of instructions describing how a resource currently residing on the server should be modified to produce a new version. This means that the PATCH body should not just be a modified part of the resource, but in some kind of patch language like JSON Patch or XML Patch. PATCH is neither safe nor idempotent. \n",
    "> 5. **DELETE** : It is used to delete a resource identified by a URI. On successful deletion, return HTTP status 200 (OK) along with a response body. \n",
    "\n",
    "</br>\n",
    "\n",
    "#### SOAP\n",
    "* Simple Object Access Protocol(SOAP) is a network protocol for exchanging structured data between nodes. It uses XML format to transfer messages. It works on top of application layer protocols like HTML and SMTP for notations and transmission. SOAP allows processes to communicate throughout platforms, languages and operating systems, since protocols like HTTP are already installed on all platforms.\n",
    "* The message in XML format contains following parts -\n",
    "> 1. **Envelope** : It specifies that the XML message is a SOAP message. A SOAP message can be defined as an XML document containing header and body encapsulated in the envelope. The fault is within the body of the message.\n",
    "> 2. **Header** : This part is not mandatory. But when it is present it can provide crucial information about the applications.\n",
    "> 3. **Body** : It contains the actual message that is being transmitted. Fault is contained within the body tags.\n",
    "> 4. **Fault** : This section contains the status of the application and also contains errors in the application. This section is also optional. It should not appear more than once in a SOAP message.\n",
    "\n",
    "#### Shortcomings of SOAP\n",
    "* As SOAP can only transfer messages as XML files, your SOAP API will be less performant, as XML is a verbose format compared to JSON. API calls made to your server will need more bandwidth and it will take more time to process the request and transfer the response back to the client.\n",
    "* In SOAP, the client-server communication depends on WSDL (Web Service Description Language) contracts, which implies tight coupling. Therefore, it’s not recommended for loosely coupled applications as you can’t opt out of using a contract between the client and the server.\n",
    "* SOAP also has a higher learning curve, is harder to code, and can’t be tested in the web browser (as opposed to REST). With SOAP, you need to generate contracts in WSDL, create client stubs, follow strict specifications, and more. This also means that as a programmer, you’ll also have less freedom of choice.\n",
    "\n"
   ]
  },
  {
   "cell_type": "markdown",
   "id": "bc741c1e-2359-4dd2-baa3-ea40281e394f",
   "metadata": {},
   "source": [
    "### 5. Differentiate between REST and SOAP."
   ]
  },
  {
   "cell_type": "markdown",
   "id": "bfc4f5a5-895a-46c1-b762-cce2d38c9644",
   "metadata": {},
   "source": [
    "| Parameter | REST | SOAP |\n",
    "|-|-|-|\n",
    "|**Meaning**|Representational State Transfer|Simple Object Access Protocol|\n",
    "|**Design**|Architectural style with loose guidelines and recommendations.|Standardized protocol with pre-defined rules to follow.|\n",
    "|**Approach**|Data-driven (data available as resources, e.g. “user”).|Function-driven (data available as services, e.g.: “getUser”)|\n",
    "|**Statefulness**|Stateless (no server-side sessions).|Stateless by default, but it’s possible to make a SOAP API stateful.|\n",
    "|**Methods**|It works with GET, POST, PUT, DELETE|Because it is XML based and relies on SOAP, it works with WSDL|\n",
    "|**Caching**|API calls can be cached.|API calls cannot be cached.|\n",
    "|**Security**|Supports HTTPS and SSL.|WS-Security with SSL support. Built-in ACID compliance.|\n",
    "|**Structure**|Less structured -> less bulky data|Highly structured/typed.|\n",
    "|**Performance**|Requires fewer resources.|Requires more bandwidth and computing power.|\n",
    "|**Message format**|Plain text, HTML, XML, JSON, YAML, and others.|Only XML.|\n",
    "|**Transfer protocol(s)**|Only HTTP|HTTP, SMTP, UDP, and others.|\n",
    "|**Recommended for**|Public APIs for web services, mobile services, social networks.|Enterprise apps, high-security apps, distributed environment, financial services, payment gateways, telecommunication services.|\n",
    "|**Advantages**|Scalability, better performance, browser-friendliness, flexibility.|High security, standardized, extensibility.|\n",
    "|**Disadvantages**|Less security, not suitable for distributed environments.|Poorer performance, more complexity, less flexibility.|"
   ]
  },
  {
   "cell_type": "code",
   "execution_count": null,
   "id": "377ba72d-9112-41b4-a80b-bbe1ad98c48b",
   "metadata": {},
   "outputs": [],
   "source": []
  }
 ],
 "metadata": {
  "kernelspec": {
   "display_name": "Python 3 (ipykernel)",
   "language": "python",
   "name": "python3"
  },
  "language_info": {
   "codemirror_mode": {
    "name": "ipython",
    "version": 3
   },
   "file_extension": ".py",
   "mimetype": "text/x-python",
   "name": "python",
   "nbconvert_exporter": "python",
   "pygments_lexer": "ipython3",
   "version": "3.10.8"
  }
 },
 "nbformat": 4,
 "nbformat_minor": 5
}
