{
 "cells": [
  {
   "cell_type": "markdown",
   "id": "2a29828a-10df-4f03-917e-be41423a8893",
   "metadata": {},
   "source": [
    "# Assignment 6 - Feb 5' 23 - OOPs Part 1"
   ]
  },
  {
   "cell_type": "markdown",
   "id": "7d3573c8-3233-4179-8ef5-06c6049ef5c1",
   "metadata": {
    "tags": []
   },
   "source": [
    "### 1. Explain Class and Object with respect to Object-Oriented Programming. Give a suitable example."
   ]
  },
  {
   "cell_type": "markdown",
   "id": "5a416241-6a51-400a-87b9-0729e96c93b4",
   "metadata": {
    "tags": []
   },
   "source": [
    "#### Class:\n",
    "\n",
    "* A class is a collection of objects. A class contains the blueprints or the prototype from which the objects are being created. It is a logical entity that contains some attributes and methods. \n",
    "\n",
    "* **Some points on Python class:**\n",
    "\n",
    "> * Classes are created by keyword class.\n",
    "> * Attributes are the variables that belong to a class.\n",
    "> * Attributes are always public and can be accessed using the dot (.) operator. Eg.: Myclass.Myattribute\n",
    "\n",
    "* **Example** - To understand the need for creating a class let’s consider an example, let’s say you wanted to track the number of dogs that may have different attributes like breed, age. If a list is used, the first element could be the dog’s breed while the second element could represent its age. Let’s suppose there are 100 different dogs, then how would you know which element is supposed to be which? What if you wanted to add other properties to these dogs? This lacks organization and it’s the exact need for classes. \n",
    "\n",
    "#### Object:\n",
    "\n",
    "* The object is an entity that has a state and behavior associated with it. It may be any real-world object like a mouse, keyboard, chair, table, pen, etc. Integers, strings, floating-point numbers, even arrays, and dictionaries, are all objects. More specifically, any single integer or any single string is an object. The number 12 is an object, the string “Hello, world” is an object, a list is an object that can hold other objects, and so on.\n",
    "\n",
    "* An object consists of :\n",
    "\n",
    "> * State: It is represented by the attributes of an object. It also reflects the properties of an object.\n",
    "> * Behavior: It is represented by the methods of an object. It also reflects the response of an object to other objects.\n",
    "> * Identity: It gives a unique name to an object and enables one object to interact with other objects.\n",
    "\n",
    "* To understand the state, behavior, and identity let us take the example of the class dog (explained above). \n",
    "\n",
    "> * The identity can be considered as the name of the dog.\n",
    "> * State or Attributes can be considered as the breed, age, or color of the dog.\n",
    "> * The behavior can be considered as to whether the dog is eating or sleeping."
   ]
  },
  {
   "cell_type": "code",
   "execution_count": 1,
   "id": "23b757f1-61d2-42af-b6e2-24568f478dc8",
   "metadata": {},
   "outputs": [],
   "source": [
    "# example of class and object\n",
    "\n",
    "class Dog: # created a empty class named dog using the class keyword.\n",
    "    pass\n",
    "\n",
    "obj = Dog() # create an object named obj of the class Dog defined above"
   ]
  },
  {
   "cell_type": "markdown",
   "id": "136baa56-ef7d-44a5-aeb9-6d6b7d24fa16",
   "metadata": {},
   "source": [
    "### 2. Name the four pillars of OOPs."
   ]
  },
  {
   "cell_type": "markdown",
   "id": "16419463-45e3-4d1d-92e7-827b445e0a1b",
   "metadata": {},
   "source": [
    "* The four pillars of OOPs are:\n",
    "> 1. Polymorphism\n",
    "> 2. Encapsulation\n",
    "> 3. Inheritance\n",
    "> 4. Data Abstraction"
   ]
  },
  {
   "cell_type": "markdown",
   "id": "2c70aa56-47b2-4d58-a925-f5b8d0e8d4e7",
   "metadata": {},
   "source": [
    "### 3. Explain why the --init--() function is used. Give a suitable example."
   ]
  },
  {
   "cell_type": "markdown",
   "id": "5b1a8114-325b-4009-9e01-0c54c5683810",
   "metadata": {},
   "source": [
    "* The --init--()  method is similar to constructors in C++ and Java. Constructors are used to initialize the object’s state.\n",
    "* Like methods, a constructor also contains a collection of statements(i.e. instructions) that are executed at the time of Object creation. \n",
    "* It runs as soon as an object of a class is instantiated. The method is useful to do any initialization you want to do with your object."
   ]
  },
  {
   "cell_type": "code",
   "execution_count": 5,
   "id": "2df0e9b9-923d-473f-9b2e-2cbbf89b91b5",
   "metadata": {},
   "outputs": [
    {
     "name": "stdout",
     "output_type": "stream",
     "text": [
      "Hello Nikhil, Welcome to PWskills\n"
     ]
    }
   ],
   "source": [
    "# Example for init method\n",
    "class pwskills:\n",
    " \n",
    "    # init method or constructor\n",
    "    def __init__(self, name):\n",
    "        self.student_name = name\n",
    " \n",
    "    # Sample Method/function\n",
    "    def welcome(self):\n",
    "        print('Hello {}, Welcome to PWskills'.format(self.student_name))\n",
    " \n",
    " \n",
    "student = pwskills('Nikhil')\n",
    "student.welcome()"
   ]
  },
  {
   "cell_type": "markdown",
   "id": "ab43d992-4b06-4e90-8cb8-24119a9de8d0",
   "metadata": {},
   "source": [
    "### 4. Why self is used in OOPs?"
   ]
  },
  {
   "cell_type": "markdown",
   "id": "90e39622-e341-42cd-8ee7-216578944a75",
   "metadata": {},
   "source": [
    "* *\"self\"* represents the instance of the class. By using the “self”  we can access the attributes and methods of the class in python. It binds the attributes with the given arguments.\n",
    "\n",
    "> 1. Class methods must have an extra first parameter in the method definition. We do not give a value for this parameter when we call the method, Python provides it\n",
    "> 2. If we have a method that takes no arguments, then we still have to have one argument.\n",
    ">3. This is similar to this pointer in C++ and this reference in Java.\n",
    "\n",
    "* The **reason** you need to use self. is because Python does not use the @ syntax to refer to instance attributes. Python decided to do methods in a way that makes the instance to which the method belongs be passed automatically, but not received automatically: the first parameter of methods is the instance the method is called on.\n",
    "\n",
    "> i.e. when we call a method of this object as myobject.method(arg1, arg2), this is automatically converted by Python into MyClass.method(myobject, arg1, arg2) – this is all the special self is about.\n",
    "\n",
    "* In more clear way you can say that SELF has following Characteristic-\n",
    "\n",
    "> 1. Self is always pointing to Current Object.\n",
    "> 2. Self is the first argument to be passed in Constructor and Instance Method. If you don’t provide it, it will cause an error.\n",
    "> 3. Self is a convention and not a Python keyword. self is parameter in Instance Method and user can use another parameter name in place of it. But it is advisable to use self because it increases the readability of code, and it is also a good programming practice."
   ]
  },
  {
   "cell_type": "markdown",
   "id": "4e1f1495-ea33-4fd1-aaec-5231c04ac186",
   "metadata": {},
   "source": [
    "### 5. What is inheritance? Give an example for each type of inheritance."
   ]
  },
  {
   "cell_type": "markdown",
   "id": "f7f06f43-77c3-4048-9b15-7ac270968f2c",
   "metadata": {},
   "source": [
    "* Inheritance is the capability of one class to derive or inherit the properties from another class. The class that derives properties is called the derived class or child class and the class from which the properties are being derived is called the base class or parent class. The benefits of inheritance are:\n",
    "\n",
    "> * It represents real-world relationships well.\n",
    "> * It provides the reusability of a code. We don’t have to write the same code again and again. Also, it allows us to add more features to a class without modifying it.\n",
    "> * It is transitive in nature, which means that if class B inherits from another class A, then all the subclasses of B would automatically inherit from class A.\n",
    "> * Inheritance offers a simple, understandable model structure. \n",
    "> * Less development and maintenance expenses result from an inheritance.\n",
    "\n",
    "#### Types of Inheritance – \n",
    "1. **Single Inheritance:**\n",
    "> Single-level inheritance enables a derived class to inherit characteristics from a single-parent class.\n",
    "\n",
    "2. **Multilevel Inheritance:**\n",
    "> Multi-level inheritance enables a derived class to inherit properties from an immediate parent class which in turn inherits properties from his parent class.\n",
    "\n",
    "3. **Hierarchical Inheritance:**\n",
    "> Hierarchical level inheritance enables more than one derived class to inherit properties from a parent class.\n",
    "\n",
    "4. **Multiple Inheritance:**\n",
    "> Multiple level inheritance enables one derived class to inherit properties from more than one base class.\n",
    "\n",
    "5. **Hybrid inheritance:** \n",
    "> This form combines more than one form of inheritance. Basically, it is a blend of more than one type of inheritance."
   ]
  },
  {
   "cell_type": "code",
   "execution_count": 12,
   "id": "2769f3f4-b08a-4109-80f6-6992597058a7",
   "metadata": {},
   "outputs": [
    {
     "name": "stdout",
     "output_type": "stream",
     "text": [
      "This function is in parent class.\n",
      "This function is in child class.\n"
     ]
    }
   ],
   "source": [
    "# Python program to demonstrate\n",
    "# single inheritance\n",
    "\n",
    "# Base class\n",
    "class Parent:\n",
    "\tdef func1(self):\n",
    "\t\tprint(\"This function is in parent class.\")\n",
    "\n",
    "# Derived class\n",
    "\n",
    "\n",
    "class Child(Parent):\n",
    "\tdef func2(self):\n",
    "\t\tprint(\"This function is in child class.\")\n",
    "\n",
    "\n",
    "# Driver's code\n",
    "object = Child()\n",
    "object.func1()\n",
    "object.func2()"
   ]
  },
  {
   "cell_type": "code",
   "execution_count": 7,
   "id": "3a8959f6-4c9b-4cfa-81ef-794013b515cd",
   "metadata": {},
   "outputs": [
    {
     "name": "stdout",
     "output_type": "stream",
     "text": [
      "Father : RAM\n",
      "Mother : SITA\n"
     ]
    }
   ],
   "source": [
    "# Python program to demonstrate\n",
    "# multiple inheritance\n",
    "\n",
    "# Base class1\n",
    "class Mother:\n",
    "\tmothername = \"\"\n",
    "\n",
    "\tdef mother(self):\n",
    "\t\tprint(self.mothername)\n",
    "\n",
    "# Base class2\n",
    "\n",
    "\n",
    "class Father:\n",
    "\tfathername = \"\"\n",
    "\n",
    "\tdef father(self):\n",
    "\t\tprint(self.fathername)\n",
    "\n",
    "# Derived class\n",
    "\n",
    "\n",
    "class Son(Mother, Father):\n",
    "\tdef parents(self):\n",
    "\t\tprint(\"Father :\", self.fathername)\n",
    "\t\tprint(\"Mother :\", self.mothername)\n",
    "\n",
    "\n",
    "# Driver's code\n",
    "s1 = Son()\n",
    "s1.fathername = \"RAM\"\n",
    "s1.mothername = \"SITA\"\n",
    "s1.parents()"
   ]
  },
  {
   "cell_type": "code",
   "execution_count": 8,
   "id": "c705d980-ccb5-4f62-bb66-c7b995f2b5b5",
   "metadata": {},
   "outputs": [
    {
     "name": "stdout",
     "output_type": "stream",
     "text": [
      "Lal mani\n",
      "Grandfather name : Lal mani\n",
      "Father name : Rampal\n",
      "Son name : Prince\n"
     ]
    }
   ],
   "source": [
    "# Python program to demonstrate\n",
    "# multilevel inheritance\n",
    "\n",
    "# Base class\n",
    "\n",
    "\n",
    "class Grandfather:\n",
    "\n",
    "\tdef __init__(self, grandfathername):\n",
    "\t\tself.grandfathername = grandfathername\n",
    "\n",
    "# Intermediate class\n",
    "\n",
    "\n",
    "class Father(Grandfather):\n",
    "\tdef __init__(self, fathername, grandfathername):\n",
    "\t\tself.fathername = fathername\n",
    "\n",
    "\t\t# invoking constructor of Grandfather class\n",
    "\t\tGrandfather.__init__(self, grandfathername)\n",
    "\n",
    "# Derived class\n",
    "\n",
    "\n",
    "class Son(Father):\n",
    "\tdef __init__(self, sonname, fathername, grandfathername):\n",
    "\t\tself.sonname = sonname\n",
    "\n",
    "\t\t# invoking constructor of Father class\n",
    "\t\tFather.__init__(self, fathername, grandfathername)\n",
    "\n",
    "\tdef print_name(self):\n",
    "\t\tprint('Grandfather name :', self.grandfathername)\n",
    "\t\tprint(\"Father name :\", self.fathername)\n",
    "\t\tprint(\"Son name :\", self.sonname)\n",
    "\n",
    "\n",
    "# Driver code\n",
    "s1 = Son('Prince', 'Rampal', 'Lal mani')\n",
    "print(s1.grandfathername)\n",
    "s1.print_name()"
   ]
  },
  {
   "cell_type": "code",
   "execution_count": 9,
   "id": "142d7662-88de-483d-8969-16949f37e758",
   "metadata": {},
   "outputs": [
    {
     "name": "stdout",
     "output_type": "stream",
     "text": [
      "This function is in parent class.\n",
      "This function is in child 1.\n",
      "This function is in parent class.\n",
      "This function is in child 2.\n"
     ]
    }
   ],
   "source": [
    "# Python program to demonstrate\n",
    "# Hierarchical inheritance\n",
    "\n",
    "\n",
    "# Base class\n",
    "class Parent:\n",
    "\tdef func1(self):\n",
    "\t\tprint(\"This function is in parent class.\")\n",
    "\n",
    "# Derived class1\n",
    "\n",
    "\n",
    "class Child1(Parent):\n",
    "\tdef func2(self):\n",
    "\t\tprint(\"This function is in child 1.\")\n",
    "\n",
    "# Derivied class2\n",
    "\n",
    "\n",
    "class Child2(Parent):\n",
    "\tdef func3(self):\n",
    "\t\tprint(\"This function is in child 2.\")\n",
    "\n",
    "\n",
    "# Driver's code\n",
    "object1 = Child1()\n",
    "object2 = Child2()\n",
    "object1.func1()\n",
    "object1.func2()\n",
    "object2.func1()\n",
    "object2.func3()"
   ]
  },
  {
   "cell_type": "code",
   "execution_count": 10,
   "id": "a3d3d2ab-3bc7-4fb1-bfb4-7ffad10141c1",
   "metadata": {},
   "outputs": [
    {
     "name": "stdout",
     "output_type": "stream",
     "text": [
      "This function is in school.\n",
      "This function is in student 1. \n"
     ]
    }
   ],
   "source": [
    "# Python program to demonstrate\n",
    "# hybrid inheritance\n",
    "\n",
    "\n",
    "class School:\n",
    "\tdef func1(self):\n",
    "\t\tprint(\"This function is in school.\")\n",
    "\n",
    "\n",
    "class Student1(School):\n",
    "\tdef func2(self):\n",
    "\t\tprint(\"This function is in student 1. \")\n",
    "\n",
    "\n",
    "class Student2(School):\n",
    "\tdef func3(self):\n",
    "\t\tprint(\"This function is in student 2.\")\n",
    "\n",
    "\n",
    "class Student3(Student1, School):\n",
    "\tdef func4(self):\n",
    "\t\tprint(\"This function is in student 3.\")\n",
    "\n",
    "\n",
    "# Driver's code\n",
    "object = Student3()\n",
    "object.func1()\n",
    "object.func2()"
   ]
  },
  {
   "cell_type": "code",
   "execution_count": null,
   "id": "5b08a783-3e0d-41ff-9dfb-9ce3dd93f3e8",
   "metadata": {},
   "outputs": [],
   "source": []
  }
 ],
 "metadata": {
  "kernelspec": {
   "display_name": "Python 3 (ipykernel)",
   "language": "python",
   "name": "python3"
  },
  "language_info": {
   "codemirror_mode": {
    "name": "ipython",
    "version": 3
   },
   "file_extension": ".py",
   "mimetype": "text/x-python",
   "name": "python",
   "nbconvert_exporter": "python",
   "pygments_lexer": "ipython3",
   "version": "3.10.8"
  }
 },
 "nbformat": 4,
 "nbformat_minor": 5
}
