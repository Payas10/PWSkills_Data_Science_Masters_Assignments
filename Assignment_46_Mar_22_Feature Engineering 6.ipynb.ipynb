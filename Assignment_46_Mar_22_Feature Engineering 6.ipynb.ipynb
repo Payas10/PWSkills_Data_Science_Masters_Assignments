{
 "cells": [
  {
   "cell_type": "markdown",
   "id": "a7eb192e-b694-4f02-8fd2-17bc0b5cb811",
   "metadata": {},
   "source": [
    "# Assignment 46 - Mar 22' 23 - Feature Engineering 6"
   ]
  },
  {
   "cell_type": "markdown",
   "id": "83f74063-cdcf-462c-b784-5b0e0e75bc5f",
   "metadata": {},
   "source": [
    "### Q1. Pearson correlation coefficient is a measure of the linear relationship between two variables. Suppose you have collected data on the amount of time students spend studying for an exam and their final exam scores. Calculate the Pearson correlation coefficient between these two variables and interpret the result.\n"
   ]
  },
  {
   "cell_type": "markdown",
   "id": "cac20612-3def-477e-9a6e-9a02bab4fe58",
   "metadata": {},
   "source": [
    "To calculate the Pearson correlation coefficient between two variables, we need to compute the covariance and the standard deviation of each variable, and then use the formula:\n",
    "\n",
    "~~~\n",
    "r = cov(X, Y) / (std(X) * std(Y))\n",
    "\n",
    "where X and Y are the two variables of interest.\n",
    "~~~\n",
    "\n",
    "Below is example code in python to calculate correlation between time spent studying and Final Exam Score"
   ]
  },
  {
   "cell_type": "code",
   "execution_count": 2,
   "id": "5e353b5c-25e8-4108-b46a-c2a751d2322f",
   "metadata": {},
   "outputs": [
    {
     "data": {
      "text/html": [
       "<div>\n",
       "<style scoped>\n",
       "    .dataframe tbody tr th:only-of-type {\n",
       "        vertical-align: middle;\n",
       "    }\n",
       "\n",
       "    .dataframe tbody tr th {\n",
       "        vertical-align: top;\n",
       "    }\n",
       "\n",
       "    .dataframe thead th {\n",
       "        text-align: right;\n",
       "    }\n",
       "</style>\n",
       "<table border=\"1\" class=\"dataframe\">\n",
       "  <thead>\n",
       "    <tr style=\"text-align: right;\">\n",
       "      <th></th>\n",
       "      <th>time_studied</th>\n",
       "      <th>score</th>\n",
       "    </tr>\n",
       "  </thead>\n",
       "  <tbody>\n",
       "    <tr>\n",
       "      <th>0</th>\n",
       "      <td>11.324031</td>\n",
       "      <td>103.014204</td>\n",
       "    </tr>\n",
       "    <tr>\n",
       "      <th>1</th>\n",
       "      <td>5.839362</td>\n",
       "      <td>22.338745</td>\n",
       "    </tr>\n",
       "    <tr>\n",
       "      <th>2</th>\n",
       "      <td>10.430491</td>\n",
       "      <td>83.398362</td>\n",
       "    </tr>\n",
       "    <tr>\n",
       "      <th>3</th>\n",
       "      <td>7.501036</td>\n",
       "      <td>29.994925</td>\n",
       "    </tr>\n",
       "    <tr>\n",
       "      <th>4</th>\n",
       "      <td>9.656534</td>\n",
       "      <td>69.758755</td>\n",
       "    </tr>\n",
       "  </tbody>\n",
       "</table>\n",
       "</div>"
      ],
      "text/plain": [
       "   time_studied       score\n",
       "0     11.324031  103.014204\n",
       "1      5.839362   22.338745\n",
       "2     10.430491   83.398362\n",
       "3      7.501036   29.994925\n",
       "4      9.656534   69.758755"
      ]
     },
     "execution_count": 2,
     "metadata": {},
     "output_type": "execute_result"
    }
   ],
   "source": [
    "# Generate synthetic Dataset\n",
    "import numpy as np\n",
    "import pandas as pd\n",
    "\n",
    "# Keep random seed for reproducibility of data\n",
    "np.random.seed(654)\n",
    "\n",
    "n = 1000\n",
    "time_studied = np.random.normal(loc=8, scale=2, size=1000)\n",
    "score = (time_studied**2)-3*time_studied + 2 + np.random.normal(loc=0, scale=5, size=n)\n",
    "\n",
    "# create dataframe\n",
    "df = pd.DataFrame({\"time_studied\" : time_studied, \n",
    "                   \"score\" : score})\n",
    "df.head()"
   ]
  },
  {
   "cell_type": "code",
   "execution_count": 4,
   "id": "93f7b2a2-9b93-4aa5-977a-8da75705f0f3",
   "metadata": {},
   "outputs": [
    {
     "data": {
      "text/html": [
       "<div>\n",
       "<style scoped>\n",
       "    .dataframe tbody tr th:only-of-type {\n",
       "        vertical-align: middle;\n",
       "    }\n",
       "\n",
       "    .dataframe tbody tr th {\n",
       "        vertical-align: top;\n",
       "    }\n",
       "\n",
       "    .dataframe thead th {\n",
       "        text-align: right;\n",
       "    }\n",
       "</style>\n",
       "<table border=\"1\" class=\"dataframe\">\n",
       "  <thead>\n",
       "    <tr style=\"text-align: right;\">\n",
       "      <th></th>\n",
       "      <th>time_studied</th>\n",
       "      <th>score</th>\n",
       "    </tr>\n",
       "  </thead>\n",
       "  <tbody>\n",
       "    <tr>\n",
       "      <th>time_studied</th>\n",
       "      <td>1.000000</td>\n",
       "      <td>0.963761</td>\n",
       "    </tr>\n",
       "    <tr>\n",
       "      <th>score</th>\n",
       "      <td>0.963761</td>\n",
       "      <td>1.000000</td>\n",
       "    </tr>\n",
       "  </tbody>\n",
       "</table>\n",
       "</div>"
      ],
      "text/plain": [
       "              time_studied     score\n",
       "time_studied      1.000000  0.963761\n",
       "score             0.963761  1.000000"
      ]
     },
     "execution_count": 4,
     "metadata": {},
     "output_type": "execute_result"
    }
   ],
   "source": [
    "cor = df.corr()\n",
    "cor"
   ]
  },
  {
   "cell_type": "code",
   "execution_count": 6,
   "id": "8916b2a7-3af5-4847-9524-ab292bdfa290",
   "metadata": {},
   "outputs": [
    {
     "data": {
      "text/plain": [
       "<AxesSubplot: title={'center': 'Time studied vs Score'}, xlabel='time_studied', ylabel='score'>"
      ]
     },
     "execution_count": 6,
     "metadata": {},
     "output_type": "execute_result"
    },
    {
     "data": {
      "image/png": "[encoded data removed]",
      "text/plain": [
       "<Figure size 640x480 with 1 Axes>"
      ]
     },
     "metadata": {},
     "output_type": "display_data"
    }
   ],
   "source": [
    "df.plot(x=\"time_studied\", y=\"score\", kind=\"scatter\", title=\"Time studied vs Score\", alpha=0.6)"
   ]
  },
  {
   "cell_type": "markdown",
   "id": "d08c8acf-50ba-4ff1-8a4d-a6ee8e6e19e9",
   "metadata": {},
   "source": [
    "#### Positive Correlation found between time studied and Final Score"
   ]
  },
  {
   "cell_type": "markdown",
   "id": "6aa3e0b3-6f29-4162-ba6b-e81e11a5e617",
   "metadata": {},
   "source": [
    "### Q2. Spearman's rank correlation is a measure of the monotonic relationship between two variables. Suppose you have collected data on the amount of sleep individuals get each night and their overall job satisfaction level on a scale of 1 to 10. Calculate the Spearman's rank correlation between these two variables and interpret the result."
   ]
  },
  {
   "cell_type": "markdown",
   "id": "11b98833-584c-42fe-9ef0-bdac0ca47c01",
   "metadata": {},
   "source": [
    "To calculate the Spearman's rank correlation, you need to rank both variables separately, and then calculate the correlation between their ranks. Here's an example of how to do this with the sleep and job satisfaction data:\n",
    "\n",
    "| Sleep | Job Satisfaction |\n",
    "|:-----:|:----------------:|\n",
    "|8\t|9|\n",
    "|7\t|6|\n",
    "|6\t|4|\n",
    "|5\t|7|\n",
    "|8\t|8|\n",
    "|7\t|5|\n",
    "|6\t|3|\n",
    "|5\t|6|\n",
    "|4\t|2|\n",
    "|7\t|7|"
   ]
  },
  {
   "cell_type": "markdown",
   "id": "a26dec07-c1bc-4680-bf02-246445945636",
   "metadata": {},
   "source": [
    "#### Formula for Spearmans Correlation :\n",
    "\n",
    "$$ \\rho = 1 - \\frac{6\\sum d_i^2}{n(n^2 - 1)} $$\n",
    "\n",
    "Where:\n",
    "\n",
    "1. $\\rho$ is the Spearman's correlation coefficient\n",
    "2. $d_i$ is the difference between the ranks of the corresponding values of the two variables\n",
    "3. $n$ is the number of observations (or pairs of data points) in the dataset.\n",
    "\n",
    "This formula calculates the degree of association between the two variables based on their ranks rather than their actual values. The ranks are assigned based on the order in which the values appear in the dataset, with ties being assigned an average rank."
   ]
  },
  {
   "cell_type": "markdown",
   "id": "29058123-e204-400f-b188-405ae44bc282",
   "metadata": {},
   "source": [
    "#### Creating Above data in python :"
   ]
  },
  {
   "cell_type": "code",
   "execution_count": 7,
   "id": "d57397eb-b62c-4256-9641-c82c2969fa7b",
   "metadata": {},
   "outputs": [
    {
     "data": {
      "text/html": [
       "<div>\n",
       "<style scoped>\n",
       "    .dataframe tbody tr th:only-of-type {\n",
       "        vertical-align: middle;\n",
       "    }\n",
       "\n",
       "    .dataframe tbody tr th {\n",
       "        vertical-align: top;\n",
       "    }\n",
       "\n",
       "    .dataframe thead th {\n",
       "        text-align: right;\n",
       "    }\n",
       "</style>\n",
       "<table border=\"1\" class=\"dataframe\">\n",
       "  <thead>\n",
       "    <tr style=\"text-align: right;\">\n",
       "      <th></th>\n",
       "      <th>sleep</th>\n",
       "      <th>Job Satisfaction</th>\n",
       "    </tr>\n",
       "  </thead>\n",
       "  <tbody>\n",
       "    <tr>\n",
       "      <th>0</th>\n",
       "      <td>8</td>\n",
       "      <td>9</td>\n",
       "    </tr>\n",
       "    <tr>\n",
       "      <th>1</th>\n",
       "      <td>7</td>\n",
       "      <td>6</td>\n",
       "    </tr>\n",
       "    <tr>\n",
       "      <th>2</th>\n",
       "      <td>6</td>\n",
       "      <td>4</td>\n",
       "    </tr>\n",
       "    <tr>\n",
       "      <th>3</th>\n",
       "      <td>5</td>\n",
       "      <td>7</td>\n",
       "    </tr>\n",
       "    <tr>\n",
       "      <th>4</th>\n",
       "      <td>8</td>\n",
       "      <td>8</td>\n",
       "    </tr>\n",
       "    <tr>\n",
       "      <th>5</th>\n",
       "      <td>7</td>\n",
       "      <td>5</td>\n",
       "    </tr>\n",
       "    <tr>\n",
       "      <th>6</th>\n",
       "      <td>6</td>\n",
       "      <td>3</td>\n",
       "    </tr>\n",
       "    <tr>\n",
       "      <th>7</th>\n",
       "      <td>5</td>\n",
       "      <td>6</td>\n",
       "    </tr>\n",
       "    <tr>\n",
       "      <th>8</th>\n",
       "      <td>4</td>\n",
       "      <td>2</td>\n",
       "    </tr>\n",
       "    <tr>\n",
       "      <th>9</th>\n",
       "      <td>7</td>\n",
       "      <td>7</td>\n",
       "    </tr>\n",
       "  </tbody>\n",
       "</table>\n",
       "</div>"
      ],
      "text/plain": [
       "   sleep  Job Satisfaction\n",
       "0      8                 9\n",
       "1      7                 6\n",
       "2      6                 4\n",
       "3      5                 7\n",
       "4      8                 8\n",
       "5      7                 5\n",
       "6      6                 3\n",
       "7      5                 6\n",
       "8      4                 2\n",
       "9      7                 7"
      ]
     },
     "execution_count": 7,
     "metadata": {},
     "output_type": "execute_result"
    }
   ],
   "source": [
    "import pandas as pd\n",
    "dct = {\n",
    "    'sleep': [8,7,6,5,8,7,6,5,4,7],\n",
    "    'Job Satisfaction' : [9,6,4,7,8,5,3,6,2,7]\n",
    "}\n",
    "df = pd.DataFrame(dct)\n",
    "df"
   ]
  },
  {
   "cell_type": "code",
   "execution_count": 8,
   "id": "75c4c8d4-f560-4806-b51b-8fc81448b240",
   "metadata": {},
   "outputs": [
    {
     "data": {
      "text/html": [
       "<div>\n",
       "<style scoped>\n",
       "    .dataframe tbody tr th:only-of-type {\n",
       "        vertical-align: middle;\n",
       "    }\n",
       "\n",
       "    .dataframe tbody tr th {\n",
       "        vertical-align: top;\n",
       "    }\n",
       "\n",
       "    .dataframe thead th {\n",
       "        text-align: right;\n",
       "    }\n",
       "</style>\n",
       "<table border=\"1\" class=\"dataframe\">\n",
       "  <thead>\n",
       "    <tr style=\"text-align: right;\">\n",
       "      <th></th>\n",
       "      <th>sleep</th>\n",
       "      <th>Job Satisfaction</th>\n",
       "    </tr>\n",
       "  </thead>\n",
       "  <tbody>\n",
       "    <tr>\n",
       "      <th>0</th>\n",
       "      <td>9.5</td>\n",
       "      <td>10.0</td>\n",
       "    </tr>\n",
       "    <tr>\n",
       "      <th>1</th>\n",
       "      <td>7.0</td>\n",
       "      <td>5.5</td>\n",
       "    </tr>\n",
       "    <tr>\n",
       "      <th>2</th>\n",
       "      <td>4.5</td>\n",
       "      <td>3.0</td>\n",
       "    </tr>\n",
       "    <tr>\n",
       "      <th>3</th>\n",
       "      <td>2.5</td>\n",
       "      <td>7.5</td>\n",
       "    </tr>\n",
       "    <tr>\n",
       "      <th>4</th>\n",
       "      <td>9.5</td>\n",
       "      <td>9.0</td>\n",
       "    </tr>\n",
       "    <tr>\n",
       "      <th>5</th>\n",
       "      <td>7.0</td>\n",
       "      <td>4.0</td>\n",
       "    </tr>\n",
       "    <tr>\n",
       "      <th>6</th>\n",
       "      <td>4.5</td>\n",
       "      <td>2.0</td>\n",
       "    </tr>\n",
       "    <tr>\n",
       "      <th>7</th>\n",
       "      <td>2.5</td>\n",
       "      <td>5.5</td>\n",
       "    </tr>\n",
       "    <tr>\n",
       "      <th>8</th>\n",
       "      <td>1.0</td>\n",
       "      <td>1.0</td>\n",
       "    </tr>\n",
       "    <tr>\n",
       "      <th>9</th>\n",
       "      <td>7.0</td>\n",
       "      <td>7.5</td>\n",
       "    </tr>\n",
       "  </tbody>\n",
       "</table>\n",
       "</div>"
      ],
      "text/plain": [
       "   sleep  Job Satisfaction\n",
       "0    9.5              10.0\n",
       "1    7.0               5.5\n",
       "2    4.5               3.0\n",
       "3    2.5               7.5\n",
       "4    9.5               9.0\n",
       "5    7.0               4.0\n",
       "6    4.5               2.0\n",
       "7    2.5               5.5\n",
       "8    1.0               1.0\n",
       "9    7.0               7.5"
      ]
     },
     "execution_count": 8,
     "metadata": {},
     "output_type": "execute_result"
    }
   ],
   "source": [
    "df.rank()"
   ]
  },
  {
   "cell_type": "code",
   "execution_count": 9,
   "id": "54160918-f739-4550-bcc2-1209edda3279",
   "metadata": {},
   "outputs": [
    {
     "data": {
      "text/html": [
       "<div>\n",
       "<style scoped>\n",
       "    .dataframe tbody tr th:only-of-type {\n",
       "        vertical-align: middle;\n",
       "    }\n",
       "\n",
       "    .dataframe tbody tr th {\n",
       "        vertical-align: top;\n",
       "    }\n",
       "\n",
       "    .dataframe thead th {\n",
       "        text-align: right;\n",
       "    }\n",
       "</style>\n",
       "<table border=\"1\" class=\"dataframe\">\n",
       "  <thead>\n",
       "    <tr style=\"text-align: right;\">\n",
       "      <th></th>\n",
       "      <th>sleep</th>\n",
       "      <th>Job Satisfaction</th>\n",
       "    </tr>\n",
       "  </thead>\n",
       "  <tbody>\n",
       "    <tr>\n",
       "      <th>sleep</th>\n",
       "      <td>1.000000</td>\n",
       "      <td>0.660516</td>\n",
       "    </tr>\n",
       "    <tr>\n",
       "      <th>Job Satisfaction</th>\n",
       "      <td>0.660516</td>\n",
       "      <td>1.000000</td>\n",
       "    </tr>\n",
       "  </tbody>\n",
       "</table>\n",
       "</div>"
      ],
      "text/plain": [
       "                     sleep  Job Satisfaction\n",
       "sleep             1.000000          0.660516\n",
       "Job Satisfaction  0.660516          1.000000"
      ]
     },
     "execution_count": 9,
     "metadata": {},
     "output_type": "execute_result"
    }
   ],
   "source": [
    "df.rank().corr()"
   ]
  },
  {
   "cell_type": "markdown",
   "id": "9dc47fbf-b680-4a1a-baa0-979e79ee36b3",
   "metadata": {},
   "source": [
    "* A Spearman's correlation coefficient of 0.66 indicates a moderately strong positive correlation between two variables. The range of Spearman's correlation coefficient is from -1 to +1, where -1 represents a perfectly negative correlation, 0 represents no correlation, and +1 represents a perfectly positive correlation.\n",
    "\n",
    "* In the case of a Spearman's correlation coefficient of 0.66, the two variables being compared have a strong tendency to move together in the same direction. However, the relationship may not be perfect, and there may be some variation or noise in the data."
   ]
  },
  {
   "cell_type": "markdown",
   "id": "32bd1f3e-32eb-4ae6-9a8e-d3fd7cfc57a5",
   "metadata": {},
   "source": [
    "### Q3. Suppose you are conducting a study to examine the relationship between the number of hours of exercise per week and body mass index (BMI) in a sample of adults. You collected data on both variables for 50 participants. Calculate the Pearson correlation coefficient and the Spearman's rank correlation between these two variables and compare the results."
   ]
  },
  {
   "cell_type": "markdown",
   "id": "0446ac41-e38e-4d27-aa37-121b7d44055a",
   "metadata": {},
   "source": [
    "#### Below is sample data generated for 50 datapoints in python between exercise hours amd BMI"
   ]
  },
  {
   "cell_type": "code",
   "execution_count": 10,
   "id": "082cb899-b005-4d24-8d50-9bca4c1d536c",
   "metadata": {},
   "outputs": [
    {
     "data": {
      "text/html": [
       "<div>\n",
       "<style scoped>\n",
       "    .dataframe tbody tr th:only-of-type {\n",
       "        vertical-align: middle;\n",
       "    }\n",
       "\n",
       "    .dataframe tbody tr th {\n",
       "        vertical-align: top;\n",
       "    }\n",
       "\n",
       "    .dataframe thead th {\n",
       "        text-align: right;\n",
       "    }\n",
       "</style>\n",
       "<table border=\"1\" class=\"dataframe\">\n",
       "  <thead>\n",
       "    <tr style=\"text-align: right;\">\n",
       "      <th></th>\n",
       "      <th>exercise_hours</th>\n",
       "      <th>BMI</th>\n",
       "    </tr>\n",
       "  </thead>\n",
       "  <tbody>\n",
       "    <tr>\n",
       "      <th>0</th>\n",
       "      <td>2.471109</td>\n",
       "      <td>55.258468</td>\n",
       "    </tr>\n",
       "    <tr>\n",
       "      <th>1</th>\n",
       "      <td>2.793320</td>\n",
       "      <td>39.882961</td>\n",
       "    </tr>\n",
       "    <tr>\n",
       "      <th>2</th>\n",
       "      <td>4.832300</td>\n",
       "      <td>32.852014</td>\n",
       "    </tr>\n",
       "    <tr>\n",
       "      <th>3</th>\n",
       "      <td>6.554555</td>\n",
       "      <td>11.110522</td>\n",
       "    </tr>\n",
       "    <tr>\n",
       "      <th>4</th>\n",
       "      <td>5.991560</td>\n",
       "      <td>20.349710</td>\n",
       "    </tr>\n",
       "  </tbody>\n",
       "</table>\n",
       "</div>"
      ],
      "text/plain": [
       "   exercise_hours        BMI\n",
       "0        2.471109  55.258468\n",
       "1        2.793320  39.882961\n",
       "2        4.832300  32.852014\n",
       "3        6.554555  11.110522\n",
       "4        5.991560  20.349710"
      ]
     },
     "execution_count": 10,
     "metadata": {},
     "output_type": "execute_result"
    }
   ],
   "source": [
    "import pandas as pd\n",
    "import numpy as np\n",
    "\n",
    "# Set Random seed\n",
    "np.random.seed(987)\n",
    "\n",
    "# Generate Sample Data\n",
    "n = 50\n",
    "exercise_hours = np.random.normal(loc=5 , scale=1.5, size=n)\n",
    "BMI = 125/exercise_hours + np.random.normal(loc=0, scale=5, size=n)\n",
    "\n",
    "# Generate Dataframe\n",
    "df = pd.DataFrame({'exercise_hours':exercise_hours,\n",
    "                   'BMI':BMI})\n",
    "df.head()"
   ]
  },
  {
   "cell_type": "markdown",
   "id": "73202f6c-14ba-414c-b7d3-2c4f3f66319b",
   "metadata": {},
   "source": [
    "#### Pearson's Correlation"
   ]
  },
  {
   "cell_type": "code",
   "execution_count": 11,
   "id": "17d6f6be-4318-4858-883a-b91452c7b807",
   "metadata": {},
   "outputs": [
    {
     "data": {
      "text/html": [
       "<div>\n",
       "<style scoped>\n",
       "    .dataframe tbody tr th:only-of-type {\n",
       "        vertical-align: middle;\n",
       "    }\n",
       "\n",
       "    .dataframe tbody tr th {\n",
       "        vertical-align: top;\n",
       "    }\n",
       "\n",
       "    .dataframe thead th {\n",
       "        text-align: right;\n",
       "    }\n",
       "</style>\n",
       "<table border=\"1\" class=\"dataframe\">\n",
       "  <thead>\n",
       "    <tr style=\"text-align: right;\">\n",
       "      <th></th>\n",
       "      <th>exercise_hours</th>\n",
       "      <th>BMI</th>\n",
       "    </tr>\n",
       "  </thead>\n",
       "  <tbody>\n",
       "    <tr>\n",
       "      <th>exercise_hours</th>\n",
       "      <td>1.000000</td>\n",
       "      <td>-0.850817</td>\n",
       "    </tr>\n",
       "    <tr>\n",
       "      <th>BMI</th>\n",
       "      <td>-0.850817</td>\n",
       "      <td>1.000000</td>\n",
       "    </tr>\n",
       "  </tbody>\n",
       "</table>\n",
       "</div>"
      ],
      "text/plain": [
       "                exercise_hours       BMI\n",
       "exercise_hours        1.000000 -0.850817\n",
       "BMI                  -0.850817  1.000000"
      ]
     },
     "execution_count": 11,
     "metadata": {},
     "output_type": "execute_result"
    }
   ],
   "source": [
    "pearson_corr = df.corr(method='pearson')\n",
    "pearson_corr"
   ]
  },
  {
   "cell_type": "markdown",
   "id": "ae5098e6-b5d6-40de-b2a4-23dcc93e6d46",
   "metadata": {},
   "source": [
    "#### Spearmans Correlation"
   ]
  },
  {
   "cell_type": "code",
   "execution_count": 12,
   "id": "758df1f2-2642-4b62-8670-e9d1482a52e3",
   "metadata": {},
   "outputs": [
    {
     "data": {
      "text/html": [
       "<div>\n",
       "<style scoped>\n",
       "    .dataframe tbody tr th:only-of-type {\n",
       "        vertical-align: middle;\n",
       "    }\n",
       "\n",
       "    .dataframe tbody tr th {\n",
       "        vertical-align: top;\n",
       "    }\n",
       "\n",
       "    .dataframe thead th {\n",
       "        text-align: right;\n",
       "    }\n",
       "</style>\n",
       "<table border=\"1\" class=\"dataframe\">\n",
       "  <thead>\n",
       "    <tr style=\"text-align: right;\">\n",
       "      <th></th>\n",
       "      <th>exercise_hours</th>\n",
       "      <th>BMI</th>\n",
       "    </tr>\n",
       "  </thead>\n",
       "  <tbody>\n",
       "    <tr>\n",
       "      <th>exercise_hours</th>\n",
       "      <td>1.000000</td>\n",
       "      <td>-0.864298</td>\n",
       "    </tr>\n",
       "    <tr>\n",
       "      <th>BMI</th>\n",
       "      <td>-0.864298</td>\n",
       "      <td>1.000000</td>\n",
       "    </tr>\n",
       "  </tbody>\n",
       "</table>\n",
       "</div>"
      ],
      "text/plain": [
       "                exercise_hours       BMI\n",
       "exercise_hours        1.000000 -0.864298\n",
       "BMI                  -0.864298  1.000000"
      ]
     },
     "execution_count": 12,
     "metadata": {},
     "output_type": "execute_result"
    }
   ],
   "source": [
    "spearman_corr = df.corr(method='spearman')\n",
    "spearman_corr"
   ]
  },
  {
   "cell_type": "markdown",
   "id": "8ad8bdeb-1821-4876-bb19-d3827b5f3b5c",
   "metadata": {},
   "source": [
    "#### Both Spearman's Correlation and Pearson's Correlation show's strong negative Correlation between BMI and exercise time"
   ]
  },
  {
   "cell_type": "code",
   "execution_count": 13,
   "id": "670b9960-e4e2-433f-9fd1-b05275148a20",
   "metadata": {},
   "outputs": [
    {
     "data": {
      "text/plain": [
       "<AxesSubplot: title={'center': 'BMI vs Exercise Hours'}, xlabel='exercise_hours', ylabel='BMI'>"
      ]
     },
     "execution_count": 13,
     "metadata": {},
     "output_type": "execute_result"
    },
    {
     "data": {
      "image/png": "[encoded data removed]",
      "text/plain": [
       "<Figure size 640x480 with 1 Axes>"
      ]
     },
     "metadata": {},
     "output_type": "display_data"
    }
   ],
   "source": [
    "df.plot(kind='scatter',x='exercise_hours',y='BMI',title='BMI vs Exercise Hours')"
   ]
  },
  {
   "cell_type": "code",
   "execution_count": 14,
   "id": "449efa67-05d5-4ed9-be74-38ee4ececa3f",
   "metadata": {},
   "outputs": [
    {
     "data": {
      "text/plain": [
       "<AxesSubplot: xlabel='exercise_hours', ylabel='BMI'>"
      ]
     },
     "execution_count": 14,
     "metadata": {},
     "output_type": "execute_result"
    },
    {
     "data": {
      "image/png": "[encoded data removed]",
      "text/plain": [
       "<Figure size 640x480 with 1 Axes>"
      ]
     },
     "metadata": {},
     "output_type": "display_data"
    }
   ],
   "source": [
    "import seaborn as sns\n",
    "sns.regplot(data=df,x='exercise_hours',y='BMI',line_kws={\"color\": \"red\"},ci=95)"
   ]
  },
  {
   "cell_type": "markdown",
   "id": "1ec94f3c-6289-42e3-b739-3f45df84fe9b",
   "metadata": {},
   "source": [
    "### Q4 : A researcher is interested in examining the relationship between the number of hours individuals spend watching television per day and their level of physical activity. The researcher collected data on both variables from a sample of 50 participants. Calculate the Pearson correlation coefficient between these two variables."
   ]
  },
  {
   "cell_type": "markdown",
   "id": "694e07fd-2463-47d8-b127-4c8efb9c0cd3",
   "metadata": {},
   "source": [
    "#### Below is python code for above "
   ]
  },
  {
   "cell_type": "code",
   "execution_count": 17,
   "id": "a0f79618-0656-4e43-aea9-f09322c62090",
   "metadata": {},
   "outputs": [
    {
     "name": "stdout",
     "output_type": "stream",
     "text": [
      "   tv_hours  physical_activity\n",
      "0  1.914369           6.541393\n",
      "1  3.997345           2.713702\n",
      "2  3.282978           6.312734\n",
      "3  1.493705           9.244079\n",
      "4  2.421400           6.224447\n",
      "\n",
      "===========================================================\n",
      "\n",
      "Pearson correlation coefficient: -0.5795118368116692\n",
      "p-value: 1.0347687880405448e-05\n"
     ]
    }
   ],
   "source": [
    "import numpy as np\n",
    "import pandas as pd\n",
    "from scipy.stats import pearsonr\n",
    "\n",
    "# Set the random seed for reproducibility\n",
    "np.random.seed(123)\n",
    "\n",
    "# Generate synthetic data for hours of TV watching and physical activity\n",
    "tv_hours = np.random.normal(loc=3, scale=1, size=50)\n",
    "physical_activity = 15/tv_hours + np.random.normal(loc=0, scale=1, size=50)\n",
    "\n",
    "# Showing Dataframe\n",
    "df = pd.DataFrame({'tv_hours':tv_hours,'physical_activity':physical_activity})\n",
    "print(df.head())\n",
    "\n",
    "print('\\n===========================================================\\n')\n",
    "\n",
    "# Compute the Pearson correlation coefficient and p-value\n",
    "corr, pval = pearsonr(tv_hours, physical_activity)\n",
    "\n",
    "# Print the results\n",
    "print(\"Pearson correlation coefficient:\", corr)\n",
    "print(\"p-value:\", pval)"
   ]
  },
  {
   "cell_type": "markdown",
   "id": "005ae393-5521-46c5-a029-484ca0e9da01",
   "metadata": {},
   "source": [
    "* **Moderate Negative Correlation found between tv_hours and phyiscal_activity**\n",
    "\n",
    "* In this example, we first import the NumPy library and the pearsonr function from the SciPy library. We then set the random seed for reproducibility and generate synthetic data for the number of hours individuals spend watching television per day and their level of physical activity, using the np.random.normal() function.\n",
    "\n",
    "* Next, we use the pearsonr() function to calculate the Pearson correlation coefficient between the two variables, and store the results in the corr and pval variables. Finally, we print the results to the console.\n",
    "\n",
    "* Note that the pearsonr() function returns two values: the Pearson correlation coefficient and the corresponding p-value. The p-value is a measure of the strength of evidence against the null hypothesis of no correlation, and a p-value less than 0.05 is generally considered to be statistically significant."
   ]
  },
  {
   "cell_type": "code",
   "execution_count": 18,
   "id": "41920ec0-d244-423e-bf36-0943bbe72b3c",
   "metadata": {},
   "outputs": [
    {
     "data": {
      "text/plain": [
       "<AxesSubplot: xlabel='tv_hours', ylabel='physical_activity'>"
      ]
     },
     "execution_count": 18,
     "metadata": {},
     "output_type": "execute_result"
    },
    {
     "data": {
      "image/png": "[encoded data removed]",
      "text/plain": [
       "<Figure size 640x480 with 1 Axes>"
      ]
     },
     "metadata": {},
     "output_type": "display_data"
    }
   ],
   "source": [
    "import seaborn as sns\n",
    "sns.regplot(data=df,x='tv_hours',y='physical_activity',line_kws={'color':'red'},ci=95)"
   ]
  },
  {
   "cell_type": "markdown",
   "id": "ce9a689c-2338-43f9-b76e-e1b4643cdaa2",
   "metadata": {},
   "source": [
    "### Q5. A survey was conducted to examine the relationship between age and preference for a particular brand of soft drink. The survey results are shown below:\n",
    "\n",
    "| Age(Years) | Soft Drink Preference |\n",
    "|:----------:|:---------------------:|\n",
    "| 25         | Coke |\n",
    "| 42         | Pepsi |\n",
    "| 37         | Mountain Dew |\n",
    "| 19         | Coke |\n",
    "| 31         | Pepsi |\n",
    "| 28         | Coke |"
   ]
  },
  {
   "cell_type": "markdown",
   "id": "6259258d-f69e-4004-9e15-26cb4b8e288c",
   "metadata": {},
   "source": [
    "#### To check if there is significant relationship between continuous and categorical variables ANOVA can be used"
   ]
  },
  {
   "cell_type": "code",
   "execution_count": 19,
   "id": "6515da19-06ca-43ae-809c-5437dacc32f5",
   "metadata": {},
   "outputs": [
    {
     "data": {
      "text/html": [
       "<div>\n",
       "<style scoped>\n",
       "    .dataframe tbody tr th:only-of-type {\n",
       "        vertical-align: middle;\n",
       "    }\n",
       "\n",
       "    .dataframe tbody tr th {\n",
       "        vertical-align: top;\n",
       "    }\n",
       "\n",
       "    .dataframe thead th {\n",
       "        text-align: right;\n",
       "    }\n",
       "</style>\n",
       "<table border=\"1\" class=\"dataframe\">\n",
       "  <thead>\n",
       "    <tr style=\"text-align: right;\">\n",
       "      <th></th>\n",
       "      <th>Age</th>\n",
       "      <th>Soft Drink Preference</th>\n",
       "    </tr>\n",
       "  </thead>\n",
       "  <tbody>\n",
       "    <tr>\n",
       "      <th>0</th>\n",
       "      <td>25</td>\n",
       "      <td>Coke</td>\n",
       "    </tr>\n",
       "    <tr>\n",
       "      <th>1</th>\n",
       "      <td>42</td>\n",
       "      <td>Pepsi</td>\n",
       "    </tr>\n",
       "    <tr>\n",
       "      <th>2</th>\n",
       "      <td>37</td>\n",
       "      <td>Mountain Dew</td>\n",
       "    </tr>\n",
       "    <tr>\n",
       "      <th>3</th>\n",
       "      <td>19</td>\n",
       "      <td>Coke</td>\n",
       "    </tr>\n",
       "    <tr>\n",
       "      <th>4</th>\n",
       "      <td>31</td>\n",
       "      <td>Pepsi</td>\n",
       "    </tr>\n",
       "    <tr>\n",
       "      <th>5</th>\n",
       "      <td>28</td>\n",
       "      <td>Coke</td>\n",
       "    </tr>\n",
       "  </tbody>\n",
       "</table>\n",
       "</div>"
      ],
      "text/plain": [
       "   Age Soft Drink Preference\n",
       "0   25                  Coke\n",
       "1   42                 Pepsi\n",
       "2   37          Mountain Dew\n",
       "3   19                  Coke\n",
       "4   31                 Pepsi\n",
       "5   28                  Coke"
      ]
     },
     "execution_count": 19,
     "metadata": {},
     "output_type": "execute_result"
    }
   ],
   "source": [
    "import pandas as pd\n",
    "data = {'Age': [25, 42, 37, 19, 31, 28],\n",
    "        'Soft Drink Preference': ['Coke', 'Pepsi', 'Mountain Dew', 'Coke', 'Pepsi', 'Coke']}\n",
    "df = pd.DataFrame(data)\n",
    "df"
   ]
  },
  {
   "cell_type": "code",
   "execution_count": 20,
   "id": "6428f636-5623-4a3d-bafb-1378609e4886",
   "metadata": {},
   "outputs": [
    {
     "name": "stdout",
     "output_type": "stream",
     "text": [
      "F-statistic: 3.524390243902438\n",
      "p-value: 0.1631217391539759\n"
     ]
    }
   ],
   "source": [
    "# Perform f oneway test\n",
    "from scipy.stats import f_oneway\n",
    "\n",
    "coke = df[df['Soft Drink Preference'] == 'Coke']['Age']\n",
    "pepsi = df[df['Soft Drink Preference'] == 'Pepsi']['Age']\n",
    "mountain_dew = df[df['Soft Drink Preference'] == 'Mountain Dew']['Age']\n",
    "\n",
    "f_statistic, p_value = f_oneway(coke, pepsi, mountain_dew)\n",
    "print('F-statistic:', f_statistic)\n",
    "print('p-value:', p_value)"
   ]
  },
  {
   "cell_type": "code",
   "execution_count": 21,
   "id": "5db12ade-4255-4f49-bf30-ced6e0b2df55",
   "metadata": {},
   "outputs": [
    {
     "name": "stdout",
     "output_type": "stream",
     "text": [
      "FAIL to reject the Null Hypothesis\n",
      "Conclusion : Age and Soft Drink Preference are INDEPENDENT of each other\n"
     ]
    }
   ],
   "source": [
    "# Assuming alpha value of 0.05 \n",
    "alpha = 0.05\n",
    "if p_value < alpha:\n",
    "    print('Reject the Null Hypothesis')\n",
    "    print('Conclusion : Age and Soft Drink Preference are DEPENDENT of each other')\n",
    "else:\n",
    "    print('FAIL to reject the Null Hypothesis')\n",
    "    print('Conclusion : Age and Soft Drink Preference are INDEPENDENT of each other')"
   ]
  },
  {
   "cell_type": "code",
   "execution_count": 22,
   "id": "f4f73709-007d-48eb-8c44-afd10fafbda6",
   "metadata": {},
   "outputs": [
    {
     "data": {
      "text/plain": [
       "<AxesSubplot: xlabel='Soft Drink Preference', ylabel='Age'>"
      ]
     },
     "execution_count": 22,
     "metadata": {},
     "output_type": "execute_result"
    },
    {
     "data": {
      "image/png": "[encoded data removed]",
      "text/plain": [
       "<Figure size 640x480 with 1 Axes>"
      ]
     },
     "metadata": {},
     "output_type": "display_data"
    }
   ],
   "source": [
    "import seaborn as sns\n",
    "sns.boxplot(data=df,x='Soft Drink Preference',y='Age')"
   ]
  },
  {
   "cell_type": "markdown",
   "id": "c5be40de-dd1b-4960-9395-e69c48221f37",
   "metadata": {},
   "source": [
    "### Q6. A company is interested in examining the relationship between the number of sales calls made per day and the number of sales made per week. The company collected data on both variables from a sample of 30 sales representatives. Calculate the Pearson correlation coefficient between these two variables."
   ]
  },
  {
   "cell_type": "markdown",
   "id": "8c616b46-12a1-4fb8-893d-96fe4a69f924",
   "metadata": {},
   "source": [
    "#### To calculate the Pearson correlation coefficient between the number of sales calls made per day and the number of sales made per week, we can use the pearsonr function from the scipy.stats module in Python. Here is an example code:"
   ]
  },
  {
   "cell_type": "code",
   "execution_count": 25,
   "id": "eaf9cf6f-f0c8-4b8d-a621-cfceb7cd523d",
   "metadata": {},
   "outputs": [
    {
     "name": "stdout",
     "output_type": "stream",
     "text": [
      "   sales_calls  sales_per_week\n",
      "0           97            18.0\n",
      "1           69            14.0\n",
      "2           88             6.0\n",
      "3           62             7.0\n",
      "4           74             9.0\n",
      "\n",
      "==============================================\n",
      "\n",
      "Pearson correlation coefficient: 0.53\n",
      "p-value: 0.00\n"
     ]
    }
   ],
   "source": [
    "import numpy as np\n",
    "import pandas as pd\n",
    "from scipy.stats import pearsonr\n",
    "\n",
    "# Generate synthetic data\n",
    "np.random.seed(1234)  # for reproducibility\n",
    "sales_calls = np.random.randint(low=50, high=100, size=30)\n",
    "sales_per_week = np.round(sales_calls * np.random.uniform(low=0.05, high=0.2, size=30), decimals=0)\n",
    "\n",
    "# Create dataframe for printing\n",
    "df = pd.DataFrame({'sales_calls':sales_calls,'sales_per_week':sales_per_week})\n",
    "print(df.head())\n",
    "\n",
    "print('\\n==============================================\\n')\n",
    "\n",
    "# Calculate Pearson correlation coefficient\n",
    "corr_coef, p_value = pearsonr(sales_calls, sales_per_week)\n",
    "\n",
    "print(\"Pearson correlation coefficient: {:.2f}\".format(corr_coef))\n",
    "print(\"p-value: {:.2f}\".format(p_value))"
   ]
  },
  {
   "cell_type": "markdown",
   "id": "bcf9c702-534e-4aed-8a7e-fe5e32ed5368",
   "metadata": {},
   "source": [
    "#### Pearson correlation of 0.53 shows moderately positive correlation between sales call per day and sales per week"
   ]
  },
  {
   "cell_type": "code",
   "execution_count": 26,
   "id": "311b313b-4b6b-4cc1-a2ca-8966f4a15a7d",
   "metadata": {},
   "outputs": [
    {
     "data": {
      "text/plain": [
       "<AxesSubplot: xlabel='sales_calls', ylabel='sales_per_week'>"
      ]
     },
     "execution_count": 26,
     "metadata": {},
     "output_type": "execute_result"
    },
    {
     "data": {
      "image/png": "[encoded data removed]",
      "text/plain": [
       "<Figure size 640x480 with 1 Axes>"
      ]
     },
     "metadata": {},
     "output_type": "display_data"
    }
   ],
   "source": [
    "import seaborn as sns\n",
    "sns.regplot(data=df, x = 'sales_calls', y='sales_per_week',line_kws={'color':'red'},ci=95)"
   ]
  },
  {
   "cell_type": "code",
   "execution_count": null,
   "id": "c5e7f8fc-bbc4-4892-98e0-5b0c50871377",
   "metadata": {},
   "outputs": [],
   "source": []
  }
 ],
 "metadata": {
  "kernelspec": {
   "display_name": "Python 3 (ipykernel)",
   "language": "python",
   "name": "python3"
  },
  "language_info": {
   "codemirror_mode": {
    "name": "ipython",
    "version": 3
   },
   "file_extension": ".py",
   "mimetype": "text/x-python",
   "name": "python",
   "nbconvert_exporter": "python",
   "pygments_lexer": "ipython3",
   "version": "3.10.8"
  }
 },
 "nbformat": 4,
 "nbformat_minor": 5
}
