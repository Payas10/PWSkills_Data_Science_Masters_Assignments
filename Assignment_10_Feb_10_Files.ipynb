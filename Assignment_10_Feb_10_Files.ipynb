{
 "cells": [
  {
   "cell_type": "markdown",
   "id": "1456e8fb-d07f-439d-8be0-1f7c7b7cd55d",
   "metadata": {
    "tags": []
   },
   "source": [
    "# Assignment 10 - Feb 10' 23 - File Handling"
   ]
  },
  {
   "cell_type": "markdown",
   "id": "84d31bb2-62e6-44d5-9475-b3ce6124d81a",
   "metadata": {
    "tags": []
   },
   "source": [
    "### 1.Which function is used to open a file? What are the different modes of opening a file? Explain each mode of file opening."
   ]
  },
  {
   "cell_type": "markdown",
   "id": "7038300a-2d96-4605-b042-35d8615728f4",
   "metadata": {},
   "source": [
    "There are two ways of opening a file - \n",
    "> 1. Using python inbuilt function **open()** but at the time of opening, we have to specify the mode, which represents the purpose of the opening file.\n",
    ">> Syntax - f = open(\"filename\", 'mode')\n",
    "> 2. Using **with open()**\n",
    ">> Syntax - with open(\"filename\", 'mode') as alias :"
   ]
  },
  {
   "cell_type": "markdown",
   "id": "2dfbfad6-abb1-4400-a59c-d335347923f7",
   "metadata": {},
   "source": [
    "Different modes of opening a file are -\n",
    "\n",
    "1. 'r' - open for reading (default)\n",
    "> * r  : open an existing file for a read operation. returns error if the file does not exist\n",
    "2. 'w' - open for writing, truncating the file first\n",
    "> * w  : open an existing file for a write operation. If the file already contains some data then it will be overridden but if the file is not present then it creates the file as well.\n",
    "3. 'x' - create a new file and open it for writing. Returns an error if the file exists.\n",
    "4. 'a' - open for writing, appending to the end of the file if it exists\n",
    "> * a  : open an existing file for append operation. It won’t override existing data. Creates the file if it does not exist.\n",
    "5. 'b' - binary mode. Used to store images, audio, videos. Extension is '.bin'\n",
    "6. 't' - text mode (default). Extension is '.txt'\n",
    "7. '+' - open a disk file for updating (reading and writing)\n",
    "> * r+ : To read and write data into the file. The previous data in the file will be overridden.\n",
    "> * w+ : To write and read data. It will override existing data.\n",
    "> * a+ : To append and read data from the file. It won’t override existing data.\n",
    "8. 'U' - universal newline mode (deprecated)"
   ]
  },
  {
   "cell_type": "code",
   "execution_count": 9,
   "id": "0f3788af-afa0-40c2-87dd-c3e7dbc9e31e",
   "metadata": {},
   "outputs": [],
   "source": [
    "# Python code to open/create a file in write ('w') mode\n",
    "\n",
    "file = open('pwskills.txt','w')\n",
    "file.write(\"This is the write command \\n\")\n",
    "file.write(\"It allows us to write in a particular file \\n\")\n",
    "file.close()"
   ]
  },
  {
   "cell_type": "code",
   "execution_count": 10,
   "id": "e40949b1-63de-4eb9-bffe-d67e97496359",
   "metadata": {},
   "outputs": [
    {
     "name": "stdout",
     "output_type": "stream",
     "text": [
      "This is the write command \n",
      "It allows us to write in a particular file \n",
      "\n"
     ]
    }
   ],
   "source": [
    "# Python code to illustrate read ('r') mode\n",
    "\n",
    "file = open(\"pwskills.txt\", \"r\")\n",
    "print (file.read())"
   ]
  },
  {
   "cell_type": "code",
   "execution_count": 11,
   "id": "20f598fa-e3ed-40e2-b56c-093fc1522de8",
   "metadata": {},
   "outputs": [
    {
     "name": "stdout",
     "output_type": "stream",
     "text": [
      "This is the write command \n",
      "It allows us to write in a particular file \n",
      "This will add/append this line\n"
     ]
    }
   ],
   "source": [
    "# Python code to illustrate append ('a') mode\n",
    "\n",
    "file = open('pwskills.txt', 'a')\n",
    "file.write(\"This will add/append this line\")\n",
    "file.close()\n",
    "\n",
    "# Python code for read ('r') mode\n",
    "file = open(\"pwskills.txt\", \"r\")\n",
    "print (file.read())"
   ]
  },
  {
   "cell_type": "code",
   "execution_count": 14,
   "id": "5fc9429c-8aaa-4785-8cdf-71bbd6d08630",
   "metadata": {},
   "outputs": [],
   "source": [
    "# to write data in .bin file format. using 'wb' mode i.e. write binary\n",
    "\n",
    "with open(\"pwskills.bin\" , 'wb') as f :  # 'wb' mode is write binary\n",
    "    f.write(b\"\\x01\\x02\\x03\")    # b means binary"
   ]
  },
  {
   "cell_type": "code",
   "execution_count": 15,
   "id": "fa6b7d2c-7331-45b2-bcec-b0a851dc0217",
   "metadata": {},
   "outputs": [
    {
     "name": "stdout",
     "output_type": "stream",
     "text": [
      "b'\\x01\\x02\\x03'\n"
     ]
    }
   ],
   "source": [
    "# to read data from .bin file format. using 'rb' mode i.e. read binary\n",
    "\n",
    "with open(\"pwskills.bin\", 'rb') as f :  # 'rb' is read binary\n",
    "    print(f.read())"
   ]
  },
  {
   "cell_type": "code",
   "execution_count": 20,
   "id": "07b856fc-3aeb-43c6-9a94-a3025073806b",
   "metadata": {},
   "outputs": [
    {
     "name": "stdout",
     "output_type": "stream",
     "text": [
      "Hello, This is sample content for mode 'x'.\n",
      "mode 'x' will create a new file and open it for writing.\n",
      "Returns an error if the file exists.\n",
      "\n"
     ]
    }
   ],
   "source": [
    "# python code to illustrate append ('x') mode\n",
    "\n",
    "with open ('PWskills.txt' , 'x') as f:\n",
    "    f.write (\"Hello, This is sample content for mode 'x'.\\n\")\n",
    "    f.write (\"mode 'x' will create a new file and open it for writing.\\n\")\n",
    "    f.write (\"Returns an error if the file exists.\\n\")\n",
    "    \n",
    "# Python code for read ('r') mode\n",
    "file = open(\"PWskills.txt\", \"r\")\n",
    "print (file.read())"
   ]
  },
  {
   "cell_type": "markdown",
   "id": "2e9e6dfd-a1aa-4cbf-9906-14326c11256e",
   "metadata": {
    "tags": []
   },
   "source": [
    "### 2. Why close() function is used? Why is it important to close a file?"
   ]
  },
  {
   "cell_type": "markdown",
   "id": "9a3e76a5-2adb-4dbe-93b6-f078ef178cbe",
   "metadata": {},
   "source": [
    "* It is general practice to close an opened file as a closed file reduces the risk of being unwarrantedly updated or read. We can close files in python using the close() function.\n",
    "> * syantax - *file.close()*\n",
    "* close() function doesn't take any argument, and you can directly call the close() function using the file object. It can be called multiple times, but if any operation is performed on the closed file, a \"ValueError\" exception is raised.\n",
    "* It is important to close a file because for the most part, many changes to files in python do not go into effect until after the file is closed, so if your script edits, leaves open, and reads a file, it won't see the edits.\n",
    "> * You should always close your files, in some cases, due to buffering, changes made to a file may not show until you close the file."
   ]
  },
  {
   "cell_type": "markdown",
   "id": "2eaafe08-6d71-43c5-a051-c8d2a868bc14",
   "metadata": {
    "tags": []
   },
   "source": [
    "### 3. Write a python program to create a text file. Write ‘I want to become a Data Scientist’ in that file. Then close the file. Open this file and read the content of the file. "
   ]
  },
  {
   "cell_type": "code",
   "execution_count": 45,
   "id": "cc923743-7fc9-4e05-9c84-dcbedcc543a7",
   "metadata": {},
   "outputs": [
    {
     "name": "stdout",
     "output_type": "stream",
     "text": [
      "I want to become a Data Scientist. \n",
      "\n"
     ]
    }
   ],
   "source": [
    "# creation of .txt file and writing in it\n",
    "with open('assignment.txt' , 'w') as f :\n",
    "    f.write(\"I want to become a Data Scientist. \\n\")\n",
    "    f.close()\n",
    "\n",
    "# opening .txt file and reading the contents\n",
    "with open('assignment.txt' , 'r') as f :\n",
    "    print(f.read())"
   ]
  },
  {
   "cell_type": "markdown",
   "id": "e3e4519f-7486-4b79-8148-7ce085996823",
   "metadata": {
    "tags": []
   },
   "source": [
    "### 4. Explain the following with python code: read(), readline() and readlines()."
   ]
  },
  {
   "cell_type": "markdown",
   "id": "a9f50256-3a48-42e6-a72a-708a01995303",
   "metadata": {},
   "source": [
    "* When reading files in Python, there are a few different functions you can use to extract text from a file. The three main functions you can use to read content from a file are read(), readline() and readlines().\n",
    "\n",
    "> * read() reads the entire file and returns a string,\n",
    ">> * The Python file read() function allows us to read an entire file at once and store it in a string. Depending on the size of your file, this could make sense for you and your application.\n",
    ">> * *read([size])*: It reads the entire file and returns it contents in the form of a string. Reads at most size bytes from the file (less if the read hits EOF before obtaining size bytes). If the size argument is negative or omitted, read all data until EOF is reached.\n",
    "> * readline() reads just one line from a file, and \n",
    ">> * when you open a file, we are “pointing” at the first line and so when you use readline(), you can read the first line of the file. But if you want to read multiple lines, then you can use readline() multiple times.\n",
    ">> * readline() can be useful if you are doing processing and just want to access particular line\n",
    ">> * *readline([size])*: It reads the first line of the file i.e till a newline character or an EOF in case of a file having a single line and returns a string. If the size argument is present and non-negative, it is a maximum byte count (including the trailing newline) and an incomplete line may be returned. An empty string is returned only when EOF is encountered immediately.\n",
    "> * readlines() returns a list of strings representing the lines of the file.\n",
    ">> * readlines() reads all of the lines and returns a list of strings. Using readlines() can be useful if you are going to process the file line by line, or want to extract certain lines out of a file.\n",
    ">> * *readlines([sizehint])*: It reads the entire file line by line and updates each line to a list which is returned.Read until EOF using readline() and return a list containing the lines thus read. If the optional sizehint argument is present, instead of reading up to EOF, whole lines totalling approximately sizehint bytes (possibly after rounding up to an internal buffer size) are read."
   ]
  },
  {
   "cell_type": "code",
   "execution_count": 26,
   "id": "a32ce13f-be14-45ad-8160-bf43a7c586d6",
   "metadata": {},
   "outputs": [
    {
     "name": "stdout",
     "output_type": "stream",
     "text": [
      "This is the write command \n",
      "It allows us to write in a particular file \n",
      "This will add/append this line\n"
     ]
    }
   ],
   "source": [
    "# python code to read()\n",
    "with open(\"pwskills.txt\", 'r') as f:\n",
    "    read = f.read()\n",
    "    print(read)\n",
    "    f.close()"
   ]
  },
  {
   "cell_type": "code",
   "execution_count": 27,
   "id": "45c87f82-c31a-4317-9a73-acfd01e61e04",
   "metadata": {},
   "outputs": [
    {
     "name": "stdout",
     "output_type": "stream",
     "text": [
      "This is the write command \n",
      "\n"
     ]
    }
   ],
   "source": [
    "# python code to readline()\n",
    "with open(\"pwskills.txt\", 'r') as f:\n",
    "    readline = f.readline()\n",
    "    print(readline)\n",
    "    f.close()"
   ]
  },
  {
   "cell_type": "code",
   "execution_count": 28,
   "id": "3963e15c-2695-4964-9072-8cf6218e99a5",
   "metadata": {},
   "outputs": [
    {
     "name": "stdout",
     "output_type": "stream",
     "text": [
      "['This is the write command \\n', 'It allows us to write in a particular file \\n', 'This will add/append this line']\n"
     ]
    }
   ],
   "source": [
    "# python code to readlines()\n",
    "with open(\"pwskills.txt\", 'r') as f:\n",
    "    readlines = f.readlines()\n",
    "    print(readlines)\n",
    "    f.close()"
   ]
  },
  {
   "cell_type": "markdown",
   "id": "4bc9b7b6-77ad-4c63-a569-0a81d7a1c275",
   "metadata": {
    "tags": []
   },
   "source": [
    "### 5.  Explain why with statement is used with open(). What is the advantage of using with statement and open() together?"
   ]
  },
  {
   "cell_type": "code",
   "execution_count": 29,
   "id": "04660266-da38-4fa3-a369-f29822500e30",
   "metadata": {},
   "outputs": [],
   "source": [
    "# file handling\n",
    " \n",
    "# 1) without using with statement\n",
    "file = open('pwskills.txt', 'a')\n",
    "file.write('hello world !')\n",
    "file.close()\n",
    "\n",
    "# 2) using with statement\n",
    "with open('pwskills.txt', 'a') as file:\n",
    "    file.write('hello world !')"
   ]
  },
  {
   "cell_type": "markdown",
   "id": "71f9f28b-8d5f-4937-99e6-78ba3d4e2323",
   "metadata": {},
   "source": [
    "* with statement is used in exception handling to make the code cleaner and much more readable. It simplifies the management of common resources like file streams.\n",
    "* Notice that unlike the first implementations (without using with statement), there is no need to call file.close() when using with statement. The with statement itself ensures proper acquisition and release of resources. \n",
    "* An exception during the file.write() call in the first implementation can prevent the file from closing properly which may introduce several bugs in the code, i.e. many changes in files do not go into effect until the file is properly closed.\n",
    "* Using the with statement makes the code compact and much more readable. Thus, with statement helps avoiding bugs and leaks by ensuring that a resource is properly released when the code using the resource is completely executed.\n",
    "* Using with means that the file will be closed as soon as you leave the block. This is beneficial because closing a file is something that can easily be forgotten and ties up resources that you no longer need.\n",
    "* The with statement is popularly used with file streams, as shown above and with Locks, sockets, subprocesses and telnets etc."
   ]
  },
  {
   "cell_type": "markdown",
   "id": "6d1f74a2-ae1b-4a3a-ac3a-a72bb72fb90b",
   "metadata": {
    "tags": []
   },
   "source": [
    "### 6. Explain the write() and writelines() functions. Give a suitable example."
   ]
  },
  {
   "cell_type": "markdown",
   "id": "66ddae9e-e9de-4c6e-94f3-ceab8c77b337",
   "metadata": {},
   "source": [
    "#### write() function\n",
    "\n",
    "* The write() function will write the content in the file without adding any extra characters.\n",
    "> * Writes string content referenced by file object.\n",
    "> * Syntax - *file_name.write(content)*\n",
    "* As per the syntax, the string that is passed to the write() function is written into the opened file. \n",
    "* The string may include numbers, special characters, or symbols. \n",
    "* While writing data to a file, we must know that the write function does not add a newline character(\\n) to the end of the string. \n",
    "* The write() function returns None.\n",
    "\n",
    "#### writelines() function\n",
    "\n",
    "* This function writes the content of a list to a file.\n",
    "> * write all the strings present in the list \"list_of_lines\" referenced by file object.\n",
    "> * Syntax - *file_name.writelines(list_of_lines)*\n",
    "* As per the syntax, the list of strings that is passed to the writelines() function is written into the opened file.\n",
    "* Similar to the write() function, the writelines() function does not add a newline character(\\n) to the end of the string.\n",
    "\n",
    "#### The only difference between the write() and writelines() is that write() is used to write a *string* to an already opened file while writelines() method is used to write a *list of strings* in an opened file."
   ]
  },
  {
   "cell_type": "code",
   "execution_count": 46,
   "id": "c21625c0-86d3-43ae-aa3a-6ac542909acb",
   "metadata": {},
   "outputs": [
    {
     "name": "stdout",
     "output_type": "stream",
     "text": [
      "Data is written into the file.\n",
      "Data is written into the file. \n",
      "\n",
      "I want to become a Data Scientist. \n",
      "This is illustration for write() \n",
      "This is illustration for writelines() \n"
     ]
    }
   ],
   "source": [
    "# illustration for write()\n",
    "with open('assignment.txt' , 'a') as f :\n",
    "    f.write(\"This is illustration for write() \\n\")\n",
    "    f.close()\n",
    "    print(\"Data is written into the file.\") \n",
    "    \n",
    "# illustration for writelines()\n",
    "data = [\"This \", \"is \", \"illustration \", \"for \", \"writelines() \"]\n",
    "\n",
    "with open('assignment.txt' , 'a') as f :\n",
    "    f.writelines(data)\n",
    "    f.close()\n",
    "    print(\"Data is written into the file. \\n\")\n",
    "    \n",
    "# reading the file contents\n",
    "with open('assignment.txt' , 'r') as f :\n",
    "    read = f.read()\n",
    "    print(read)\n",
    "    "
   ]
  },
  {
   "cell_type": "code",
   "execution_count": null,
   "id": "3ff33104-95dd-4d57-8edb-ecc1acc07a58",
   "metadata": {},
   "outputs": [],
   "source": []
  }
 ],
 "metadata": {
  "kernelspec": {
   "display_name": "Python 3 (ipykernel)",
   "language": "python",
   "name": "python3"
  },
  "language_info": {
   "codemirror_mode": {
    "name": "ipython",
    "version": 3
   },
   "file_extension": ".py",
   "mimetype": "text/x-python",
   "name": "python",
   "nbconvert_exporter": "python",
   "pygments_lexer": "ipython3",
   "version": "3.10.8"
  }
 },
 "nbformat": 4,
 "nbformat_minor": 5
}
