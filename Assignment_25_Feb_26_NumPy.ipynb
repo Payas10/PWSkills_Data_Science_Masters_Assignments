{
 "cells": [
  {
   "cell_type": "markdown",
   "id": "e3904122-443a-427a-89c3-bf3fd5d7d60a",
   "metadata": {},
   "source": [
    "# Assignment 25 - Feb 26' 23 - NumPy"
   ]
  },
  {
   "cell_type": "markdown",
   "id": "da6107d8-cb7c-4cc9-be67-5ea705230576",
   "metadata": {},
   "source": [
    "## Consider the below code to answer further questions."
   ]
  },
  {
   "cell_type": "code",
   "execution_count": 1,
   "id": "00c34aab-ddb6-4e85-a1d1-e335c07dbdab",
   "metadata": {},
   "outputs": [
    {
     "data": {
      "text/plain": [
       "array(['1', '2', '3', '4', '5'], dtype='<U1')"
      ]
     },
     "execution_count": 1,
     "metadata": {},
     "output_type": "execute_result"
    }
   ],
   "source": [
    "import numpy as np\n",
    "list_ = [ '1' , '2' , '3' , '4' , '5' ]\n",
    "array_list = np.array(object = list_)\n",
    "array_list"
   ]
  },
  {
   "cell_type": "markdown",
   "id": "f3001baf-f7fc-4c8a-bcf2-61d428942b4b",
   "metadata": {},
   "source": [
    "###  1. Is there any difference in the data type of variables list_ and array_list? If there is then write a code to print the data types of both the variables."
   ]
  },
  {
   "cell_type": "markdown",
   "id": "bb516cf9-a361-4afe-97d3-81cd778807cc",
   "metadata": {},
   "source": [
    "Yes. The data type of variable list_ is *list* whereas the data type of variable array_list is *numpy array*"
   ]
  },
  {
   "cell_type": "code",
   "execution_count": 2,
   "id": "c0c6b082-7e91-4541-aac5-b97f1fdef1cc",
   "metadata": {},
   "outputs": [
    {
     "data": {
      "text/plain": [
       "list"
      ]
     },
     "execution_count": 2,
     "metadata": {},
     "output_type": "execute_result"
    }
   ],
   "source": [
    "type(list_)"
   ]
  },
  {
   "cell_type": "code",
   "execution_count": 3,
   "id": "e29ba911-b643-4972-b49e-e5cc38973336",
   "metadata": {},
   "outputs": [
    {
     "data": {
      "text/plain": [
       "numpy.ndarray"
      ]
     },
     "execution_count": 3,
     "metadata": {},
     "output_type": "execute_result"
    }
   ],
   "source": [
    "type(array_list)"
   ]
  },
  {
   "cell_type": "markdown",
   "id": "b7f5f2ad-87af-425f-b9f5-352c697f4fd2",
   "metadata": {},
   "source": [
    "### 2.  Write a code to print the data type of each and every element of both the variables list_ and array_list."
   ]
  },
  {
   "cell_type": "code",
   "execution_count": 10,
   "id": "db3bdeb2-c1fc-428d-bcc1-c036173fea37",
   "metadata": {},
   "outputs": [
    {
     "name": "stdout",
     "output_type": "stream",
     "text": [
      "Data type of all the elements in list_\n",
      "type of 1 is: <class 'str'>\n",
      "type of 2 is: <class 'str'>\n",
      "type of 3 is: <class 'str'>\n",
      "type of 4 is: <class 'str'>\n",
      "type of 5 is: <class 'str'>\n"
     ]
    }
   ],
   "source": [
    "# code to print the data type of each and every element of list_\n",
    "\n",
    "print(\"Data type of all the elements in list_\")\n",
    "for i in list_:\n",
    "    print(f\"type of {i} is: {type(i)}\")"
   ]
  },
  {
   "cell_type": "code",
   "execution_count": 12,
   "id": "62b3cca1-9e6a-45df-9497-dec05cefcb34",
   "metadata": {},
   "outputs": [
    {
     "name": "stdout",
     "output_type": "stream",
     "text": [
      "Data type of all the elements in array_list\n",
      "type of 1 is: <class 'numpy.str_'>\n",
      "type of 2 is: <class 'numpy.str_'>\n",
      "type of 3 is: <class 'numpy.str_'>\n",
      "type of 4 is: <class 'numpy.str_'>\n",
      "type of 5 is: <class 'numpy.str_'>\n"
     ]
    }
   ],
   "source": [
    "# code to print the data type of each and every element of array_list\n",
    "\n",
    "print(\"Data type of all the elements in array_list\")\n",
    "for i in array_list:\n",
    "    print(f\"type of {i} is: {type(i)}\")"
   ]
  },
  {
   "cell_type": "markdown",
   "id": "39aac9e6-0a41-4dd2-b285-d9f93f1f92c6",
   "metadata": {},
   "source": [
    "### 3. Considering the following changes in the variable, array_list:\n",
    "* array_list = np.array(object = list_, dtype = int)\n",
    "### Will there be any difference in the data type of the elements present in both the variables, list_ and array_list? If so then print the data types of each and every element present in both the variables, list_ and array_list."
   ]
  },
  {
   "cell_type": "code",
   "execution_count": 13,
   "id": "8b651f36-166d-42c3-85b7-e7277a72ae35",
   "metadata": {},
   "outputs": [],
   "source": [
    "array_list = np.array(object = list_, dtype = int)"
   ]
  },
  {
   "cell_type": "markdown",
   "id": "058150f5-ec2e-4a11-9310-8c2f09a456c0",
   "metadata": {},
   "source": [
    "Yes. The data type of the elements present in both the variables, list_ and array_list will be different."
   ]
  },
  {
   "cell_type": "code",
   "execution_count": 16,
   "id": "8a74791e-453d-44ed-8a08-1b26930eda47",
   "metadata": {},
   "outputs": [
    {
     "name": "stdout",
     "output_type": "stream",
     "text": [
      "Data type of all the elements in list_\n",
      "type of 1 is: <class 'str'>\n",
      "type of 2 is: <class 'str'>\n",
      "type of 3 is: <class 'str'>\n",
      "type of 4 is: <class 'str'>\n",
      "type of 5 is: <class 'str'>\n",
      "\n",
      "\n",
      "Data type of all the elements in array_list\n",
      "type of 1 is: <class 'numpy.int64'>\n",
      "type of 2 is: <class 'numpy.int64'>\n",
      "type of 3 is: <class 'numpy.int64'>\n",
      "type of 4 is: <class 'numpy.int64'>\n",
      "type of 5 is: <class 'numpy.int64'>\n"
     ]
    }
   ],
   "source": [
    "# code to print the data type of each and every element of list_\n",
    "\n",
    "print(\"Data type of all the elements in list_\")\n",
    "for i in list_:\n",
    "    print(f\"type of {i} is: {type(i)}\")\n",
    "    \n",
    "print(\"\\n\")\n",
    "\n",
    "# code to print the data type of each and every element of array_list\n",
    "\n",
    "print(\"Data type of all the elements in array_list\")\n",
    "for i in array_list:\n",
    "    print(f\"type of {i} is: {type(i)}\")"
   ]
  },
  {
   "cell_type": "markdown",
   "id": "6b7af282-1154-41a3-92cf-1ed72a721a7d",
   "metadata": {},
   "source": [
    "## Consider the below code to answer further questions."
   ]
  },
  {
   "cell_type": "code",
   "execution_count": 18,
   "id": "82551e96-33c1-4c7c-be3d-187d55d7253e",
   "metadata": {},
   "outputs": [
    {
     "data": {
      "text/plain": [
       "array([[1, 2, 3],\n",
       "       [4, 5, 6]])"
      ]
     },
     "execution_count": 18,
     "metadata": {},
     "output_type": "execute_result"
    }
   ],
   "source": [
    "import numpy as np\n",
    "num_list = [ [ 1 , 2 , 3 ] , [ 4 , 5 , 6 ] ]\n",
    "num_array = np.array(object = num_list)\n",
    "num_array"
   ]
  },
  {
   "cell_type": "markdown",
   "id": "90213ed0-7e5b-45d6-bd3c-e749a98c9a13",
   "metadata": {},
   "source": [
    "### 4.  Write a code to find the following characteristics of variable, num_array:\n",
    "#### (i)\t shape\n",
    "#### (ii) size"
   ]
  },
  {
   "cell_type": "code",
   "execution_count": 20,
   "id": "0ceb1562-9806-45c7-95d7-46783cbf463c",
   "metadata": {},
   "outputs": [
    {
     "name": "stdout",
     "output_type": "stream",
     "text": [
      "The shape of num_array is: (2, 3)\n"
     ]
    }
   ],
   "source": [
    "# i. shape \n",
    "print(f\"The shape of num_array is: {num_array.shape}\")"
   ]
  },
  {
   "cell_type": "code",
   "execution_count": 22,
   "id": "f8d9395b-1fa3-41b7-a314-42f81282ee26",
   "metadata": {},
   "outputs": [
    {
     "name": "stdout",
     "output_type": "stream",
     "text": [
      "The size of num_array is: 6\n"
     ]
    }
   ],
   "source": [
    "# ii. size\n",
    "print(f\"The size of num_array is: {num_array.size}\")"
   ]
  },
  {
   "cell_type": "markdown",
   "id": "6bbe140c-75b3-4759-a0be-6dd6935e2b4e",
   "metadata": {},
   "source": [
    "### 5. Write a code to create numpy array of 3*3 matrix containing zeros only, using a numpy array creation function.\n",
    "[Hint: The size of the array will be 9 and the shape will be (3,3).]"
   ]
  },
  {
   "cell_type": "code",
   "execution_count": 26,
   "id": "9fd66568-e160-4a24-a0c4-3ac695326f96",
   "metadata": {},
   "outputs": [
    {
     "data": {
      "text/plain": [
       "array([[0., 0., 0.],\n",
       "       [0., 0., 0.],\n",
       "       [0., 0., 0.]])"
      ]
     },
     "execution_count": 26,
     "metadata": {},
     "output_type": "execute_result"
    }
   ],
   "source": [
    "# code to create numpy array of 3*3 matrix containing zeros only\n",
    "zero_matrix = np.zeros((3,3))\n",
    "zero_matrix"
   ]
  },
  {
   "cell_type": "code",
   "execution_count": 27,
   "id": "498a2a5c-b5e7-49ac-b2b7-97b696e64c63",
   "metadata": {},
   "outputs": [
    {
     "name": "stdout",
     "output_type": "stream",
     "text": [
      "The shape of zero matrix is: (3, 3)\n",
      "The size of zero matrix is: 9\n"
     ]
    }
   ],
   "source": [
    "print(f\"The shape of zero matrix is: {zero_matrix.shape}\")\n",
    "print(f\"The size of zero matrix is: {zero_matrix.size}\")"
   ]
  },
  {
   "cell_type": "markdown",
   "id": "2730ed8f-0a58-49e2-9de7-09d6451a0bd6",
   "metadata": {},
   "source": [
    "### 6. Create an identity matrix of shape (5,5) using numpy functions?\n",
    "[Hint: An identity matrix is a matrix containing 1 diagonally and other elements will be 0.]"
   ]
  },
  {
   "cell_type": "code",
   "execution_count": 30,
   "id": "b0d438d5-38e4-414e-a856-49eff0f8c070",
   "metadata": {},
   "outputs": [
    {
     "data": {
      "text/plain": [
       "array([[1, 0, 0, 0, 0],\n",
       "       [0, 1, 0, 0, 0],\n",
       "       [0, 0, 1, 0, 0],\n",
       "       [0, 0, 0, 1, 0],\n",
       "       [0, 0, 0, 0, 1]])"
      ]
     },
     "execution_count": 30,
     "metadata": {},
     "output_type": "execute_result"
    }
   ],
   "source": [
    "identity_matrix = np.eye(5, dtype=int)\n",
    "identity_matrix"
   ]
  },
  {
   "cell_type": "code",
   "execution_count": 31,
   "id": "45f6d8b9-85cc-4f58-9cdd-55afcf4aa4c2",
   "metadata": {},
   "outputs": [
    {
     "data": {
      "text/plain": [
       "array([[1, 0, 0, 0, 0],\n",
       "       [0, 1, 0, 0, 0],\n",
       "       [0, 0, 1, 0, 0],\n",
       "       [0, 0, 0, 1, 0],\n",
       "       [0, 0, 0, 0, 1]])"
      ]
     },
     "execution_count": 31,
     "metadata": {},
     "output_type": "execute_result"
    }
   ],
   "source": [
    "np.identity(5, dtype=int)"
   ]
  },
  {
   "cell_type": "code",
   "execution_count": null,
   "id": "1f0d3d29-6c19-4da2-afdf-f49e04879f91",
   "metadata": {},
   "outputs": [],
   "source": []
  }
 ],
 "metadata": {
  "kernelspec": {
   "display_name": "Python 3 (ipykernel)",
   "language": "python",
   "name": "python3"
  },
  "language_info": {
   "codemirror_mode": {
    "name": "ipython",
    "version": 3
   },
   "file_extension": ".py",
   "mimetype": "text/x-python",
   "name": "python",
   "nbconvert_exporter": "python",
   "pygments_lexer": "ipython3",
   "version": "3.10.8"
  }
 },
 "nbformat": 4,
 "nbformat_minor": 5
}
