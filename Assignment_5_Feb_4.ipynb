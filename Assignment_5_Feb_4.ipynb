{
 "cells": [
  {
   "cell_type": "markdown",
   "id": "c5a5320a-6bf2-4eae-a883-d8096c5de498",
   "metadata": {},
   "source": [
    "# Assignment 5 - Feb 4' 23 - Functions Part 2"
   ]
  },
  {
   "cell_type": "markdown",
   "id": "77365325-92aa-4682-b43f-216620b321ab",
   "metadata": {},
   "source": [
    "### 1. Create a python program to sort the given list of tuples based on integer value using a lambda function.\n",
    "#### [('Sachin Tendulkar', 34357), ('Ricky Ponting', 27483), ('Jack Kallis', 25534), ('Virat Kohli', 24936)]"
   ]
  },
  {
   "cell_type": "code",
   "execution_count": 6,
   "id": "47174950-1df7-4b11-a9b6-331d85529c1e",
   "metadata": {},
   "outputs": [
    {
     "name": "stdout",
     "output_type": "stream",
     "text": [
      "original list is: [('Sachin Tendulkar', 34357), ('Ricky Ponting', 27483), ('Jack Kallis', 25534), ('Virat Kohli', 24936)]\n",
      "sorted list is: [('Virat Kohli', 24936), ('Jack Kallis', 25534), ('Ricky Ponting', 27483), ('Sachin Tendulkar', 34357)]\n"
     ]
    }
   ],
   "source": [
    "# python program to sort the given list of tuples based on integer value using a lambda function\n",
    "\n",
    "lst = [('Sachin Tendulkar', 34357), ('Ricky Ponting', 27483), ('Jack Kallis', 25534), ('Virat Kohli', 24936)]\n",
    "print(f\"original list is: {lst}\")\n",
    "lst.sort(key = lambda x : x[1])\n",
    "print(f\"sorted list is: {lst}\")"
   ]
  },
  {
   "cell_type": "markdown",
   "id": "44ea2b21-15cc-4f47-bb3a-9289111e512d",
   "metadata": {},
   "source": [
    "### 2. Write a Python Program to find the squares of all the numbers in the given list of integers using lambda and map functions.\n",
    "#### [1, 2, 3, 4, 5, 6, 7, 8, 9, 10]"
   ]
  },
  {
   "cell_type": "code",
   "execution_count": 9,
   "id": "79f09d53-e388-4331-b9ff-c06ea331c4c5",
   "metadata": {},
   "outputs": [
    {
     "name": "stdout",
     "output_type": "stream",
     "text": [
      "Given list is: [1, 2, 3, 4, 5, 6, 7, 8, 9, 10]\n",
      "list with square of all elements: [1, 4, 9, 16, 25, 36, 49, 64, 81, 100]\n"
     ]
    }
   ],
   "source": [
    "\"\"\" \n",
    "Python Program to find the squares of all the numbers\n",
    "in the given list of integers \n",
    "using lambda and map functions.\n",
    "\"\"\"\n",
    "\n",
    "int_list = [1, 2, 3, 4, 5, 6, 7, 8, 9, 10]\n",
    "print(f\"Given list is: {int_list}\")\n",
    "sq_list = list(map(lambda x : x**2 , int_list))\n",
    "print(f\"list with square of all elements: {sq_list}\")"
   ]
  },
  {
   "cell_type": "markdown",
   "id": "d660eaa6-7815-4e07-a57b-4992201e7ac1",
   "metadata": {},
   "source": [
    "### 3.  Write a python program to convert the given list of integers into a tuple of strings. Use map and lambda functions\n",
    "\n",
    "#### Given String: [1, 2, 3, 4, 5, 6, 7, 8, 9, 10]\n",
    "#### Expected output: ('1', '2', '3', '4', '5', '6', '7', '8', '9', '10')"
   ]
  },
  {
   "cell_type": "code",
   "execution_count": 10,
   "id": "cc0374c5-0b0a-494e-ab4b-026c6214f52b",
   "metadata": {},
   "outputs": [
    {
     "name": "stdout",
     "output_type": "stream",
     "text": [
      "Given list is: [1, 2, 3, 4, 5, 6, 7, 8, 9, 10]\n",
      "Converted list of integers into a tuple of strings: ('1', '2', '3', '4', '5', '6', '7', '8', '9', '10')\n"
     ]
    }
   ],
   "source": [
    "'''\n",
    "python program to convert the given list of integers into a tuple of strings. \n",
    "Use map and lambda functions\n",
    "'''\n",
    "list_int = [1, 2, 3, 4, 5, 6, 7, 8, 9, 10]\n",
    "print(f\"Given list is: {list_int}\")\n",
    "tuple_str = tuple(map(lambda x : str(x) , list_int))\n",
    "print(f\"Converted list of integers into a tuple of strings: {tuple_str}\")"
   ]
  },
  {
   "cell_type": "markdown",
   "id": "d5372cce-fc5b-4ec3-b94c-2005e62f40c2",
   "metadata": {},
   "source": [
    "### 4.  Write a python program using reduce function to compute the product of a list containing numbers from 1 to 25. "
   ]
  },
  {
   "cell_type": "code",
   "execution_count": 12,
   "id": "8ae863a3-6711-4e73-9193-08e7f817dcc4",
   "metadata": {},
   "outputs": [
    {
     "name": "stdout",
     "output_type": "stream",
     "text": [
      "Given list is: [1, 2, 3, 4, 5, 6, 7, 8, 9, 10, 11, 12, 13, 14, 15, 16, 17, 18, 19, 20, 21, 22, 23, 24, 25]\n",
      "Product of the elements in list is: 15511210043330985984000000\n"
     ]
    }
   ],
   "source": [
    "#  python program using reduce function to compute the product of a list\n",
    "\n",
    "lst = [i for i in range(1,26)]\n",
    "print(f\"Given list is: {lst}\")\n",
    "\n",
    "from functools import reduce\n",
    "product = reduce(lambda x , y : x * y , lst)\n",
    "print(f\"Product of the elements in list is: {product}\")"
   ]
  },
  {
   "cell_type": "markdown",
   "id": "c768340f-5f85-4e80-91fe-0e0ca602ddad",
   "metadata": {},
   "source": [
    "### 5. Write a python program to filter the numbers in a given list that are divisible by 2 and 3 using the filter function.\n",
    "#### [2, 3, 6, 9, 27, 60, 90, 120, 55, 46]"
   ]
  },
  {
   "cell_type": "code",
   "execution_count": 14,
   "id": "69ea4924-aa8c-4eca-9672-e9dd0e9355d0",
   "metadata": {},
   "outputs": [
    {
     "name": "stdout",
     "output_type": "stream",
     "text": [
      "Given list is: [2, 3, 6, 9, 27, 60, 90, 120, 55, 46]\n",
      "list of numbers divisible by 2 and 3 is: [6, 60, 90, 120]\n"
     ]
    }
   ],
   "source": [
    "# python program to filter the numbers in a given list that are divisible by 2 and 3 using the filter function\n",
    "\n",
    "given_list = [2, 3, 6, 9, 27, 60, 90, 120, 55, 46]\n",
    "print(f\"Given list is: {given_list}\")\n",
    "div_list = list(filter(lambda x : x % 2 == 0 and x % 3 == 0 , given_list))\n",
    "print(f\"list of numbers divisible by 2 and 3 is: {div_list}\")"
   ]
  },
  {
   "cell_type": "markdown",
   "id": "6b3aec57-ff55-4899-aab0-ca39b5e8e557",
   "metadata": {},
   "source": [
    "### 6. Write a python program to find palindromes in the given list of strings using lambda and filter function.\n",
    "\n",
    "#### ['python', 'php', 'aba', 'radar', 'level']"
   ]
  },
  {
   "cell_type": "code",
   "execution_count": 37,
   "id": "10b2ff1d-9171-4513-93e0-94a5cfdbf785",
   "metadata": {},
   "outputs": [
    {
     "name": "stdout",
     "output_type": "stream",
     "text": [
      "Given list is: ['python', 'php', 'aba', 'radar', 'level']\n",
      "list with all palindrome strings is: ['php', 'aba', 'radar', 'level']\n"
     ]
    }
   ],
   "source": [
    "# python program to find palindromes in the given list of strings using lambda and filter function\n",
    "\n",
    "str_list = ['python', 'php', 'aba', 'radar', 'level']\n",
    "print(f\"Given list is: {str_list}\")\n",
    "palindrome_list = list(filter(lambda x : x == \"\".join(reversed(x)) , str_list))\n",
    "print(f\"list with all palindrome strings is: {palindrome_list}\")"
   ]
  },
  {
   "cell_type": "code",
   "execution_count": 36,
   "id": "8728b492-26a6-4785-8b16-4d273cdca599",
   "metadata": {},
   "outputs": [
    {
     "data": {
      "text/plain": [
       "'sayap'"
      ]
     },
     "execution_count": 36,
     "metadata": {},
     "output_type": "execute_result"
    }
   ],
   "source": [
    "# Hint\n",
    "name = \"payas\"\n",
    "\"\".join(reversed(name))"
   ]
  },
  {
   "cell_type": "code",
   "execution_count": null,
   "id": "812da65b-c9d7-43b9-8832-cfcce96c1cb3",
   "metadata": {},
   "outputs": [],
   "source": []
  }
 ],
 "metadata": {
  "kernelspec": {
   "display_name": "Python 3 (ipykernel)",
   "language": "python",
   "name": "python3"
  },
  "language_info": {
   "codemirror_mode": {
    "name": "ipython",
    "version": 3
   },
   "file_extension": ".py",
   "mimetype": "text/x-python",
   "name": "python",
   "nbconvert_exporter": "python",
   "pygments_lexer": "ipython3",
   "version": "3.10.8"
  }
 },
 "nbformat": 4,
 "nbformat_minor": 5
}
