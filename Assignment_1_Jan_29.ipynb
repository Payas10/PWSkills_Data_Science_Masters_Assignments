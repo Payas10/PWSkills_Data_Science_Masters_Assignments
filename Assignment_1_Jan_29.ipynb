{
 "cells": [
  {
   "cell_type": "raw",
   "id": "eb4f4ec3-eaa2-4b81-bc23-ce777a298363",
   "metadata": {},
   "source": [
    "1) Who developed python programming language?\n",
    "\n",
    "A) Python programming language is created by GUIDO VAN ROSSUM and first released in the year 1991."
   ]
  },
  {
   "cell_type": "raw",
   "id": "f4de61bf-a2ed-4f47-909f-d1818f72dd0d",
   "metadata": {},
   "source": [
    "2) Which type of programming does Python support?\n",
    "\n",
    "A) Python is an interpreted programming language, supporting object-oriented programming (OOP), structured programming, and functional programming."
   ]
  },
  {
   "cell_type": "raw",
   "id": "e4f66979-3c82-4d01-8c6e-a485e19584cd",
   "metadata": {},
   "source": [
    "3) Is Python case sensitive when dealing with identifiers?\n",
    "\n",
    "A) YES, python is case sensitive when dealing with identifiers."
   ]
  },
  {
   "cell_type": "raw",
   "id": "fd7d6037-4089-4236-9f0e-c5a04ee11c6d",
   "metadata": {},
   "source": [
    "4) What is the correct extension of python file?\n",
    "\n",
    "A) The correct extension of python file is .py"
   ]
  },
  {
   "cell_type": "raw",
   "id": "ddb25ab9-3f86-47ff-a01e-1e59e02979ec",
   "metadata": {},
   "source": [
    "5) Is python code compiled or interpreted?\n",
    "\n",
    "A) Python code are BOTH COMPILED AND INTERPRETED but the compilation part is hidden from the programmer.\n",
    "\n",
    "The compilation part is done first when we execute our code and this will generate byte code and internally this byte code gets converted or iterpreted by the python virtual machine(p.v.m) according to the underlying platform(machine+operating system)."
   ]
  },
  {
   "cell_type": "raw",
   "id": "95185f84-841c-4a23-8f4e-c11ea49e4013",
   "metadata": {},
   "source": [
    "6) Name a few blocks of code used to define in Python language?\n",
    "\n",
    "A) INDENTATION is used to define blocks of code in python language. It is done with whitespaces.\n",
    "\n",
    "While in most other language like C, C++, and Java, braces {} are used to define block of code and indentation is used to make code looks good. But in Python it is required to identify which block of code a statement belongs to."
   ]
  },
  {
   "cell_type": "code",
   "execution_count": 3,
   "id": "0c7df4cb-0da6-4d88-8166-e5bcb2c93f50",
   "metadata": {},
   "outputs": [
    {
     "name": "stdin",
     "output_type": "stream",
     "text": [
      "Enter your age: 25\n"
     ]
    },
    {
     "name": "stdout",
     "output_type": "stream",
     "text": [
      "You are eligible to Vote.\n"
     ]
    }
   ],
   "source": [
    "# Example of indentation\n",
    "# code to check if age is eligible to vote or not\n",
    "\n",
    "age = int(input(\"Enter your age:\"))\n",
    "if age >=18:\n",
    "    print(\"You are eligible to Vote.\")\n",
    "else:\n",
    "    print(\"you are not eligible to vote.\")"
   ]
  },
  {
   "cell_type": "raw",
   "id": "0f216ce9-b652-4106-ab75-cf4123d7497f",
   "metadata": {},
   "source": [
    "7) State the character used to give single line comments in python.\n",
    "\n",
    "A) # is used to give single line comment in python."
   ]
  },
  {
   "cell_type": "code",
   "execution_count": 4,
   "id": "eabb8029-63ac-46db-a696-004b544a134c",
   "metadata": {},
   "outputs": [],
   "source": [
    "# this is example of singleline comment"
   ]
  },
  {
   "cell_type": "raw",
   "id": "2a036445-64af-4425-8c1b-bf2742428024",
   "metadata": {},
   "source": [
    "8) Mention the function which can help us to find the version of python that we are currently working on.\n",
    "\n",
    "A) sys.version is the function which can help us to find the version of python that we are currently working on."
   ]
  },
  {
   "cell_type": "code",
   "execution_count": 9,
   "id": "e71d96cb-4595-4a11-969e-1f92c8986076",
   "metadata": {},
   "outputs": [
    {
     "name": "stdout",
     "output_type": "stream",
     "text": [
      "3.10.8 | packaged by conda-forge | (main, Nov 22 2022, 08:26:04) [GCC 10.4.0]\n"
     ]
    }
   ],
   "source": [
    "# version of python that we are currently working on\n",
    "import sys\n",
    "print(sys.version)"
   ]
  },
  {
   "cell_type": "raw",
   "id": "6cf02bb1-7cac-43d3-8054-628aa74aa1bd",
   "metadata": {},
   "source": [
    "9) Python supports the creation of anonymous function at runtime, using a construct called ________.\n",
    "\n",
    "A) lambda"
   ]
  },
  {
   "cell_type": "raw",
   "id": "bbeb32bb-3df7-4ee1-9b13-252392c67d88",
   "metadata": {},
   "source": [
    "10) What does pip stand for in python?\n",
    "\n",
    "A) Pip stands for \"Preferred Installer Program\".\n",
    "   Pip is a package-management system written in Python and is used to install and manage software packages from the Python Package Index (PyPI), PyPI.org or other online repositories."
   ]
  },
  {
   "cell_type": "raw",
   "id": "8b20df8e-8118-4fa3-9e6c-b7c0367b3544",
   "metadata": {},
   "source": [
    "11) Mention a few built in functions in Python?\n",
    "\n",
    "A) Few built in functions in python are -\n",
    "   abs() - Returns the absolute value of a number\n",
    "   bin() - Returns the binary version of a number\n",
    "   bool() - Returns the boolean value of the specified object\n",
    "   dir() - Returns a list of the specified object's properties and methods\n",
    "   format() - Formats a specified value\n",
    "   id() - Returns the id of an object\n",
    "   input() - Allowing user input\n",
    "   print() - Prints to the standard output device\n",
    "   len() - Returns the length of an object\n",
    "   \n",
    "   Etc."
   ]
  },
  {
   "cell_type": "raw",
   "id": "fb598ead-c80e-4c61-9897-82f4f61b074a",
   "metadata": {},
   "source": [
    "12) What is the maximum possible length of an identifier in Python?\n",
    "\n",
    "A) 79 characters"
   ]
  },
  {
   "cell_type": "raw",
   "id": "0c5290f5-4e23-4922-8cf0-04a787554dfd",
   "metadata": {},
   "source": [
    "13) What are the benefits of using Python?\n",
    "\n",
    "A) 1. Presence of third-party modules \n",
    "   2. Extensive support libraries(NumPy for numerical calculations, Pandas for data analytics, etc.) \n",
    "   3. Open source and free\n",
    "   4. large active community base to support \n",
    "   4. Versatile, Easy to read, learn and write (English like syntax)\n",
    "   5. User-friendly data structures (With its built-in data structures, Python can easily construct run-time data structures including Arrays, Lists, tuples, and Files.)\n",
    "   6. Speed (less amount of coding then in other language to achieve same result)"
   ]
  },
  {
   "cell_type": "raw",
   "id": "d47637e8-8b39-4145-b45e-80e6ce680a9d",
   "metadata": {},
   "source": [
    "14) How is memory managed in Python?\n",
    "\n",
    "A)  In Python memory allocation and deallocation method is automatic as the Python developers created a garbage collector for Python so that the user does not have to do manual garbage collection.\n",
    "\n",
    "    Garbage collection is a process in which the interpreter frees up the memory when not in use to make it available for other objects.\n",
    "    \n",
    "    Assume a case where no reference is pointing to an object in memory i.e. it is not in use so, the virtual machine has a garbage collector that automatically deletes that object from the heap memory"
   ]
  },
  {
   "cell_type": "raw",
   "id": "39cd70eb-e4cd-4cb2-9d10-a4997c226d47",
   "metadata": {},
   "source": [
    "15) How to install Python on windows and set path variables?\n",
    "\n",
    "A) I. Install Python\n",
    "    1. Download the latest python version available for Windows from python.org\n",
    "    2. Open the downloaded installer and start installation\n",
    "       * check mark \"Add python to PATH\" and click \"Install Now\"\n",
    "       * It will automatically start to install libraries, pip and other features and finish installation\n",
    "    3. To verify the installation enter the following commands in your Terminal -\n",
    "       * python\n",
    "       \n",
    "   II. Set path Variable (in case if not checked \"Add python to PATH\" during installation)\n",
    "    1. First, we need to locate where the python is being installed after downloading it. Press WINDOWS key and search for “Python”.\n",
    "    2. Click on \"open file location\" and you will be in a location where Python is installed, Copy the location path from the top by clicking over it.\n",
    "    3. Now, we have to add the above-copied path as a variable so that windows can recognize. Press WINDOWS key and Search for “Environmental Variables”\n",
    "    4. Click on \"Edit the system environment variables\"\n",
    "    5. A promt box will open. Now click the “Environmental Variables” button in it.\n",
    "    6. There will be two categories namely “User” and “System”, we have to add it in Users, click on New button in the User section. Now, add a Variable Name and Path which we copied previously and click OK. That’s it, DONE!\n",
    "    7. To the check if the Python is running anywhere in the windows or not, open CMD and type Python. If the environment variable is set then the Python command will run otherwise not.\n",
    "    "
   ]
  },
  {
   "cell_type": "raw",
   "id": "be64c3f7-d886-4f92-b353-aab55aca5c43",
   "metadata": {},
   "source": [
    "16) Is indentation is required in python?\n",
    "\n",
    "A)  YES, indentation is required in Python to identify which block of code a statement belongs to. It is done with whitespaces."
   ]
  },
  {
   "cell_type": "code",
   "execution_count": null,
   "id": "7a9458b9-a977-4cbc-aaa8-81dfc9053961",
   "metadata": {},
   "outputs": [],
   "source": []
  }
 ],
 "metadata": {
  "kernelspec": {
   "display_name": "Python 3 (ipykernel)",
   "language": "python",
   "name": "python3"
  },
  "language_info": {
   "codemirror_mode": {
    "name": "ipython",
    "version": 3
   },
   "file_extension": ".py",
   "mimetype": "text/x-python",
   "name": "python",
   "nbconvert_exporter": "python",
   "pygments_lexer": "ipython3",
   "version": "3.10.8"
  }
 },
 "nbformat": 4,
 "nbformat_minor": 5
}
