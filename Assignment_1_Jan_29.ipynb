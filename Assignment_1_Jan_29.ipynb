{
 "cells": [
  {
   "cell_type": "markdown",
   "id": "302dc218-ec37-49c0-a743-89db55740392",
   "metadata": {
    "tags": []
   },
   "source": [
    "### Q1) Who developed python programming language?\n",
    "\n",
    "Python programming language is created by GUIDO VAN ROSSUM and first released in the year 1991."
   ]
  },
  {
   "cell_type": "markdown",
   "id": "f8ff5ae2-fb9c-4183-a2b7-a6f924787a54",
   "metadata": {},
   "source": [
    "### Q2) Which type of programming does Python support?\n",
    "\n",
    "Python is an interpreted programming language, supporting object-oriented programming (OOP), structured programming, and functional programming."
   ]
  },
  {
   "cell_type": "markdown",
   "id": "cef454a9-ade5-434a-b7a0-695b94260908",
   "metadata": {},
   "source": [
    "### Q3) Is Python case sensitive when dealing with identifiers?\n",
    "\n",
    "YES, python is case sensitive when dealing with identifiers."
   ]
  },
  {
   "cell_type": "markdown",
   "id": "5c992562-5776-4b4a-bd2b-f7ce4c36b3a9",
   "metadata": {},
   "source": [
    "### Q4) What is the correct extension of python file?\n",
    "\n",
    "The correct extension of python file is .py"
   ]
  },
  {
   "cell_type": "markdown",
   "id": "9624c924-2f5a-471a-8b13-852f12be3649",
   "metadata": {},
   "source": [
    "### Q5) Is python code compiled or interpreted?\n",
    " \n",
    "* Python code are BOTH COMPILED AND INTERPRETED but the compilation part is hidden from the programmer.\n",
    "\n",
    "* The compilation part is done first when we execute our code and this will generate byte code and internally this byte code gets converted or iterpreted by the python virtual machine(p.v.m) according to the underlying platform(machine+operating system)."
   ]
  },
  {
   "cell_type": "markdown",
   "id": "ab275b6b-61e2-4fae-9b4d-092bd12588f3",
   "metadata": {
    "jp-MarkdownHeadingCollapsed": true,
    "tags": []
   },
   "source": [
    "### Q6) Name a few blocks of code used to define in Python language?\n",
    "\n",
    "* INDENTATION is used to define blocks of code in python language. It is done with whitespaces.\n",
    "\n",
    "* While in most other language like C, C++, and Java, braces {} are used to define block of code and indentation is used to make code looks good. But in Python it is required to identify which block of code a statement belongs to."
   ]
  },
  {
   "cell_type": "code",
   "execution_count": 14,
   "id": "8a5cb49c-2ce2-4323-9a8d-c98e0a80ba6e",
   "metadata": {},
   "outputs": [
    {
     "name": "stdin",
     "output_type": "stream",
     "text": [
      "Enter your age: 26\n"
     ]
    },
    {
     "name": "stdout",
     "output_type": "stream",
     "text": [
      "You are eligible to Vote.\n"
     ]
    }
   ],
   "source": [
    "# Example of indentation\n",
    "# code to check if age is eligible to vote or not\n",
    "\n",
    "age = int(input(\"Enter your age:\"))\n",
    "if age >=18:\n",
    "    print(\"You are eligible to Vote.\")\n",
    "else:\n",
    "    print(\"you are not eligible to vote.\")"
   ]
  },
  {
   "cell_type": "markdown",
   "id": "4d66504d-6f3a-4908-8134-c31c4a8399b3",
   "metadata": {
    "jp-MarkdownHeadingCollapsed": true,
    "tags": []
   },
   "source": [
    "### Q7) State the character used to give single line comments in python.\n",
    "\n",
    "\"#\" is used to give single line comment in python."
   ]
  },
  {
   "cell_type": "code",
   "execution_count": 15,
   "id": "73232f76-e2f7-4952-b0a2-c20c7e03667f",
   "metadata": {},
   "outputs": [],
   "source": [
    "# this is example of singleline comment"
   ]
  },
  {
   "cell_type": "markdown",
   "id": "5215ea33-6fa2-4c75-a383-57e0940add14",
   "metadata": {},
   "source": [
    "### Q8) Mention the function which can help us to find the version of python that we are currently working on.\n",
    "\n",
    "\"sys.version\" is the function which can help us to find the version of python that we are currently working on."
   ]
  },
  {
   "cell_type": "code",
   "execution_count": 16,
   "id": "3d36bcc1-7efb-456e-9796-1439ce2438b0",
   "metadata": {},
   "outputs": [
    {
     "name": "stdout",
     "output_type": "stream",
     "text": [
      "3.10.8 | packaged by conda-forge | (main, Nov 22 2022, 08:26:04) [GCC 10.4.0]\n"
     ]
    }
   ],
   "source": [
    "# version of python that we are currently working on\n",
    "import sys\n",
    "print(sys.version)"
   ]
  },
  {
   "cell_type": "markdown",
   "id": "d5594d4e-0415-4103-a18c-e2b6089f2271",
   "metadata": {},
   "source": [
    "### Q9) Python supports the creation of anonymous function at runtime, using a construct called ________.\n",
    "\n",
    "*lambda*"
   ]
  },
  {
   "cell_type": "markdown",
   "id": "ff1cb673-d272-403c-a1e2-d18baba2c99c",
   "metadata": {},
   "source": [
    "### Q10) What does pip stand for in python?\n",
    "\n",
    "* Pip stands for \"Preferred Installer Program\".\n",
    "\n",
    "* Pip is a package-management system written in Python and is used to install and manage software packages from the Python Package Index (PyPI), PyPI.org or other online repositories."
   ]
  },
  {
   "cell_type": "markdown",
   "id": "63796d80-8420-44c3-93fc-dd4e0003e9a9",
   "metadata": {
    "tags": []
   },
   "source": [
    "### Q11) Mention a few built in functions in Python?\n",
    "\n",
    "Few built in functions in python are -\n",
    "   > * abs() - Returns the absolute value of a number\n",
    "   > * bin() - Returns the binary version of a number\n",
    "   > * bool() - Returns the boolean value of the specified object\n",
    "   > * dir() - Returns a list of the specified object's properties and methods\n",
    "   > * format() - Formats a specified value\n",
    "   > * id() - Returns the id of an object\n",
    "   > * input() - Allowing user input\n",
    "   > * print() - Prints to the standard output device\n",
    "   > * len() - Returns the length of an object\n",
    "   \n",
    "   Etc."
   ]
  },
  {
   "cell_type": "markdown",
   "id": "31290e6f-a6db-46d3-af14-cfbdf006df9b",
   "metadata": {},
   "source": [
    "### Q12) What is the maximum possible length of an identifier in Python?\n",
    "\n",
    "Maximum possible length of an identifier in Python is *79 characters*"
   ]
  },
  {
   "cell_type": "markdown",
   "id": "749c786e-0fe5-4ae8-a976-76cb49a03cbf",
   "metadata": {},
   "source": [
    "### Q13) What are the benefits of using Python?\n",
    "\n",
    "   * Presence of third-party modules \n",
    "   * Extensive support libraries(NumPy for numerical calculations, Pandas for data analytics, etc.) \n",
    "   * Open source and free\n",
    "   * large active community base to support \n",
    "   * Versatile, Easy to read, learn and write (English like syntax)\n",
    "   * User-friendly data structures (With its built-in data structures, Python can easily construct run-time data structures including Arrays, Lists, tuples, and Files.)\n",
    "   * Speed (less amount of coding then in other language to achieve same result)"
   ]
  },
  {
   "cell_type": "markdown",
   "id": "cba7061a-e10e-463e-be0d-8cfbb3867063",
   "metadata": {},
   "source": [
    "### Q14) How is memory managed in Python?\n",
    "\n",
    "* In Python memory allocation and deallocation method is automatic as the Python developers created a garbage collector for Python so that the user does not have to do manual garbage collection.\n",
    "\n",
    "* Garbage collection is a process in which the interpreter frees up the memory when not in use to make it available for other objects.\n",
    "* Assume a case where no reference is pointing to an object in memory i.e. it is not in use so, the virtual machine has a garbage collector that automatically deletes that object from the heap memory"
   ]
  },
  {
   "cell_type": "markdown",
   "id": "98b7f262-1f2a-48ea-bf09-e6b9c479872a",
   "metadata": {},
   "source": [
    "### Q15) How to install Python on windows and set path variables?\n",
    "\n",
    "*1. Install Python*\n",
    "    \n",
    "    1. Download the latest python version available for Windows from python.org\n",
    "    \n",
    "    2. Open the downloaded installer and start installation\n",
    "        * check mark \"Add python to PATH\" and click \"Install Now\"\n",
    "        * It will automatically start to install libraries, pip and other features and finish installation\n",
    "        \n",
    "    3. To verify the installation enter the following commands in your Terminal -\n",
    "        * python\n",
    "\n",
    "<br> \n",
    "\n",
    "*2. Set path Variable (in case if not checked \"Add python to PATH\" during installation)*\n",
    "    \n",
    "    1. First, we need to locate where the python is being installed after downloading it. Press WINDOWS key and search for “Python”.\n",
    "    \n",
    "    2. Click on \"open file location\" and you will be in a location where Python is installed, Copy the location path from the top by clicking over it.\n",
    "    \n",
    "    3. Now, we have to add the above-copied path as a variable so that windows can recognize. Press WINDOWS key and Search for “Environmental Variables”\n",
    "    \n",
    "    4. Click on \"Edit the system environment variables\"\n",
    "    \n",
    "    5. A promt box will open. Now click the “Environmental Variables” button in it.\n",
    "    \n",
    "    6. There will be two categories namely “User” and “System”, we have to add it in Users, click on New button in the User section. Now, add a Variable Name and Path which we copied previously and click OK. That’s it, DONE!\n",
    "    \n",
    "    7. To the check if the Python is running anywhere in the windows or not, open CMD and type Python. If the environment variable is set then the Python command will run otherwise not.\n",
    "    "
   ]
  },
  {
   "cell_type": "markdown",
   "id": "95ad3e6e-1b69-4146-a734-3a9fc1a2ad6a",
   "metadata": {},
   "source": [
    "### Q16) Is indentation is required in python?\n",
    "\n",
    "YES, indentation is required in Python to identify which block of code a statement belongs to. It is done with whitespaces."
   ]
  }
 ],
 "metadata": {
  "kernelspec": {
   "display_name": "Python 3 (ipykernel)",
   "language": "python",
   "name": "python3"
  },
  "language_info": {
   "codemirror_mode": {
    "name": "ipython",
    "version": 3
   },
   "file_extension": ".py",
   "mimetype": "text/x-python",
   "name": "python",
   "nbconvert_exporter": "python",
   "pygments_lexer": "ipython3",
   "version": "3.10.8"
  }
 },
 "nbformat": 4,
 "nbformat_minor": 5
}
