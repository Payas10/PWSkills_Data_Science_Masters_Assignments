{
 "cells": [
  {
   "cell_type": "markdown",
   "id": "02d4d206-67bf-4b83-ae93-aa3a3dd6ae99",
   "metadata": {},
   "source": [
    "# Assignment 39 - Mar 15' 23 - Intro to Machine Learning"
   ]
  },
  {
   "cell_type": "markdown",
   "id": "5a863f17-5d87-4182-846f-0bde713aa331",
   "metadata": {},
   "source": [
    "### Q1 : Explain the following with example :\n",
    "    1. Artififial Intelligence\n",
    "    2. Machine Learning\n",
    "    3. Deep Learning"
   ]
  },
  {
   "cell_type": "markdown",
   "id": "21c5cdf2-b200-40bf-ab64-65e0d96e3f6a",
   "metadata": {},
   "source": [
    "#### 1. Artificial Intelligence (AI): \n",
    "* It is the branch of computer science that aims to create intelligent machines that can perform tasks that typically require human intelligence, such as visual perception, speech recognition, decision making, and language translation. \n",
    "* AI can be classified into two types: weak AI and strong AI. Weak AI is designed to perform specific tasks, whereas strong AI is designed to have general intelligence like a human being. \n",
    "* Examples of AI include virtual personal assistants like Siri, Alexa, and Google Assistant, self-driving cars, and facial recognition technology.\n",
    "\n",
    "#### 2. Machine Learning (ML): \n",
    "* It is a subset of AI that focuses on enabling machines to learn and improve from experience without being explicitly programmed. \n",
    "* In other words, ML algorithms can automatically learn patterns and insights from data and make predictions or decisions based on that learning. \n",
    "* There are three types of ML: \n",
    "> 1. Supervised learning \n",
    "> 2. Unsupervised learning \n",
    "> 3. Reinforcement learning \n",
    "* Supervised learning involves training the algorithm with labeled data, unsupervised learning involves finding patterns in unlabeled data, and reinforcement learning involves training the algorithm to make decisions based on rewards and punishments. \n",
    "* Examples of ML include spam filters, recommendation systems, and fraud detection systems.\n",
    "\n",
    "#### 3. Deep Learning (DL): \n",
    "* It is a subset of ML that focuses on training artificial neural networks with many layers, which can learn and represent complex relationships between inputs and outputs. \n",
    "* DL algorithms can be used for tasks such as image recognition, speech recognition, natural language processing, and autonomous driving. \n",
    "* Deep neural networks are composed of multiple layers of interconnected nodes that transform input data and extract features at each layer. \n",
    "* Examples of DL include Google's AlphaGo, which defeated the world champion at the board game Go, and self-driving cars developed by companies like Tesla and Waymo."
   ]
  },
  {
   "cell_type": "markdown",
   "id": "42da6891-9e85-4581-a8c9-eb7dc3372b62",
   "metadata": {},
   "source": [
    "![AI vs ML vs DL](https://classadviser.in/wp-content/uploads/2021/06/al-ml-dl.png)"
   ]
  },
  {
   "cell_type": "markdown",
   "id": "167ff8f3-0a4b-42de-9fd7-1de54cbbfafc",
   "metadata": {},
   "source": [
    "### Q2: What is supervised learning? List some examples of supervised learning."
   ]
  },
  {
   "cell_type": "markdown",
   "id": "239bf0d5-6e12-453f-b241-7dd25df18e8a",
   "metadata": {},
   "source": [
    "#### WHAT\n",
    "* Supervised machine learning is a type of machine learning where an algorithm learns from labeled data that is already categorized or classified. \n",
    "* The algorithm learns to identify patterns and relationships between the input features (also known as independent variables or predictors) and the corresponding output (also known as dependent variable or response). \n",
    "* The algorithm can then use this learning to predict the output for new input data that it has not seen before.\n",
    "\n",
    "#### Examples\n",
    "1. Predicting house prices based on factors such as size, location, number of bedrooms, and bathrooms.\n",
    "\n",
    "2. Forecasting the demand for a particular product based on historical sales data, time of year, and marketing campaigns.\n",
    "\n",
    "3. Estimating the time it will take to complete a task based on historical data of similar tasks and factors such as complexity and available resources.\n",
    "\n",
    "4. Predicting whether a loan applicant will default or not based on their credit score, income, and other factors.\n",
    "\n",
    "5. Diagnosing a medical condition based on symptoms, test results, and other patient information.\n",
    "\n",
    "6. Identifying whether an email is spam or not based on its content and other features."
   ]
  },
  {
   "cell_type": "markdown",
   "id": "45541643-29a5-4cf0-8ef7-ecc708922a12",
   "metadata": {},
   "source": [
    "![Supervised machine learning](https://www.simplilearn.com/ice9/free_resources_article_thumb/Supervised_ML_3.PNG)"
   ]
  },
  {
   "cell_type": "markdown",
   "id": "8ea6a2af-90f3-476d-87ae-ec86bf9c7654",
   "metadata": {},
   "source": [
    "### Q3 : What is unsupervised learning? List some examples of unsupervised learning."
   ]
  },
  {
   "cell_type": "markdown",
   "id": "0b85c2fe-8b92-494d-9d7e-b1f292bdd3b4",
   "metadata": {},
   "source": [
    "#### WHAT\n",
    "* Unsupervised machine learning is a type of machine learning where an algorithm learns from unlabeled data, without any specific guidance or labels from the user. \n",
    "* The algorithm learns to identify patterns and relationships between the input data, and can then group or cluster the data based on these patterns. \n",
    "* This can be useful for identifying hidden patterns or structures in the data, or for finding outliers or anomalies that may require further investigation.\n",
    "\n",
    "#### Examples\n",
    "1. Clustering: In this application, the algorithm groups similar data points together based on their similarity in terms of features or attributes. This can be used to identify patterns or clusters in data that may not be immediately apparent, such as customer segmentation based on purchasing behavior or fraud detection based on unusual behavior.\n",
    "\n",
    "2. Dimensionality Reduction: In this application, the algorithm reduces the dimensionality of the input data by identifying the most important features or variables. This can be useful for visualizing high-dimensional data or for speeding up the training of machine learning models.\n",
    "\n",
    "3. Anomaly detection: In this application, the algorithm identifies data points that are significantly different from the rest of the data, such as fraudulent transactions or manufacturing defects.\n",
    "\n",
    "4. Association rule mining: In this application, the algorithm identifies patterns and relationships between different variables or features, such as items frequently purchased together in a retail store or words frequently used together in a document.\n",
    "\n",
    "5. Neural Network Unsupervised Learning: In this application, the algorithm uses neural networks to learn from the unlabeled data by training the network to find patterns in the data. Examples of this include autoencoders, which are neural networks designed to compress data into a lower-dimensional representation and then reconstruct it, and generative adversarial networks (GANs), which are neural networks that learn to generate new data that is similar to the training data."
   ]
  },
  {
   "cell_type": "markdown",
   "id": "3c7a51e3-6be3-4b64-bab0-a34b97265642",
   "metadata": {},
   "source": [
    "![Unsupervised ML](https://www.slideteam.net/media/catalog/product/cache/1280x720/u/n/unsupervised_machine_learning_ml_and_how_it_works_slide03.jpg)"
   ]
  },
  {
   "cell_type": "markdown",
   "id": "8bcfbc41-17e4-4f49-8bb9-39b364a765a3",
   "metadata": {},
   "source": [
    "### Q4 : What is difference between AI , ML, DL and DS?"
   ]
  },
  {
   "cell_type": "markdown",
   "id": "8e9a3d28-f375-4e85-98ac-686471f2f72d",
   "metadata": {},
   "source": [
    "| Key Aspect         | Artificial Intelligence | Machine Learning  | Deep Learning      | Data Science      |\n",
    "|:------------------:|-------------------------|-------------------|--------------------|-------------------|\n",
    "| Definition         | Machines that mimic human intelligence to perform tasks. | Algorithms that learn from data and improve their performance over time. | Subset of machine learning that uses neural networks with multiple hidden layers. | Interdisciplinary field that uses various techniques to extract insights from data. |\n",
    "| Applications       | Robotics, Natural Language Processing, Computer Vision, Expert Systems. | Image recognition, Speech recognition, Recommender systems, Fraud detection. | Image and speech recognition, Natural Language Processing, Robotics, Game AI. | Business intelligence, Predictive analytics, Data mining, Machine learning. |\n",
    "| Approach           | Rule-based systems, Symbolic reasoning, Bayesian networks, Fuzzy logic. | Supervised, unsupervised, and reinforcement learning. | Neural networks with multiple hidden layers. | Exploratory data analysis, Data visualization, Hypothesis testing, Machine learning. |\n",
    "| Learning           | Explicit programming to perform tasks. | Learning from labeled or unlabeled data to make predictions or decisions. | Learning from large amounts of labeled data to recognize patterns. | Learning from data to understand and communicate insights. |\n",
    "| Examples           | Siri, Alexa, Robotics. | Spam filtering, Image recognition, Predictive analytics. | Speech recognition, Computer vision, Natural Language Processing. | Netflix recommendation engine, Facebook Insights, Google Analytics. |\n",
    "| Tools              | TensorFlow, Keras, PyTorch, OpenCV. | Scikit-learn, TensorFlow, Keras, PyTorch. | TensorFlow, Keras, PyTorch. | R, Python, SQL, Tableau, Excel. |\n",
    "| Skills required    | Programming, Statistics, Logic, Mathematics, Knowledge representation. | Programming, Statistics, Mathematics, Data wrangling, Visualization. | Programming, Mathematics, Neural networks, GPU programming. | Programming, Statistics, Machine learning, Data wrangling, Communication. |\n",
    "\n",
    "**Note that these fields are interconnected and often overlap, with deep learning being a subset of machine learning, and machine learning being a subset of artificial intelligence. Data science also incorporates elements of machine learning and statistical analysis, as well as other techniques for data processing and analysis.**"
   ]
  },
  {
   "cell_type": "markdown",
   "id": "520688c1-6595-4ea9-9078-b4fe79ad7a86",
   "metadata": {},
   "source": [
    "![AI vs ML vs DL](https://www.corpnce.com/wp-content/uploads/2019/08/DS_MLRelationship.jpg)"
   ]
  },
  {
   "cell_type": "markdown",
   "id": "01e64a9d-50ca-4164-a7c9-db0c773bb853",
   "metadata": {},
   "source": [
    "### Q5 : What are main differences between supervised, unsupervised and semi-supervised learning?"
   ]
  },
  {
   "cell_type": "markdown",
   "id": "61fed49f-9f6a-43d3-b054-64e15628eb6e",
   "metadata": {},
   "source": [
    "Supervised, unsupervised, and semi-supervised learning are three main types of machine learning. Here are the key differences between them:\n",
    "\n",
    "1. **Supervised learning :**\n",
    "> * Supervised learning is a type of machine learning in which an algorithm learns from labeled data. \n",
    "> * The input data is labeled with the correct output, and the algorithm learns to map the input to the output. \n",
    "> * The goal of supervised learning is to build a model that can accurately predict the output for new, unseen data. \n",
    "> * Examples of supervised learning include classification and regression problems.\n",
    "\n",
    "2. **Unsupervised learning :** \n",
    "> * Unsupervised learning is a type of machine learning in which the algorithm learns from unlabeled data. \n",
    "> * The goal of unsupervised learning is to identify patterns in the data without any prior knowledge of what those patterns might be. The algorithm tries to find the underlying structure or distribution of the data. \n",
    "> * Examples of unsupervised learning include clustering, dimensionality reduction, and anomaly detection.\n",
    "\n",
    "3. **Semi-supervised learning :** \n",
    "> * Semi-supervised learning is a type of machine learning that combines both labeled and unlabeled data. \n",
    "> * The algorithm learns from the labeled data and tries to generalize to the unlabeled data. \n",
    "> * The goal of semi-supervised learning is to improve the accuracy of the model by using the unlabeled data. \n",
    "> * Semi-supervised learning can be useful when there is a large amount of unlabeled data available, but labeling the data is expensive or time-consuming."
   ]
  },
  {
   "cell_type": "markdown",
   "id": "4056825c-25c7-43f6-8d8f-5e21f337d9b4",
   "metadata": {},
   "source": [
    "![Supervised vs Unsupervised](https://www.altexsoft.com/media/2022/03/supervised-vs-unsupervised-vs-semi-supervised-mach.png)"
   ]
  },
  {
   "cell_type": "markdown",
   "id": "c25ff453-5f8f-4d81-8a06-42849f8e3a0c",
   "metadata": {},
   "source": [
    "### Q6 : What is train, test and validation split? Explain Importance of each term."
   ]
  },
  {
   "cell_type": "markdown",
   "id": "1b102ca8-8e45-4c38-ac89-f3829d1fdacd",
   "metadata": {},
   "source": [
    "#### 1. Training Set : \n",
    "* The training set is the dataset that we employ to train our model. It is this dataset that our model uses to learn any underlying patterns or relationships that will enable making predictions later on.\n",
    "* The training set should be as representative as possible of the population that we are trying to model. Additionally, we need to be careful and ensure that it is as unbiased as possible, as any bias at this stage may be propagated downstream during inference.\n",
    "\n",
    "#### 2. Validation Set : \n",
    "* It acts as an independent, unbiased dataset for comparing the performance of different algorithms trained on our training set.\n",
    "* It also helps for hyper-parameter tuning in the model that we train to further increase the accuracy of prediction.\n",
    "\n",
    "#### 3.Test Set: \n",
    "* Once we have used the validation set to determine the algorithm and parameter choices that we would like to use in production, the test set is used to approximate the models's true performance in the wild. It is the final step in evaluating our model's performance on unseen data."
   ]
  },
  {
   "cell_type": "markdown",
   "id": "37c7fc28-30ac-45c1-81dc-a1df13fabf5d",
   "metadata": {},
   "source": [
    "![Train Test split](https://vitalflux.com/wp-content/uploads/2020/12/Hold-out-method-Training-Validation-Test-Dataset.png)"
   ]
  },
  {
   "cell_type": "markdown",
   "id": "ab185684-3c34-4f9d-8c8a-e64175993b4e",
   "metadata": {},
   "source": [
    "### Q7 : How can unsupervised machine learning be used in anomaly detection ?"
   ]
  },
  {
   "cell_type": "markdown",
   "id": "4e1f0c48-dbd0-4268-aaf3-7b7612a6bdab",
   "metadata": {},
   "source": [
    "Unsupervised machine learning can be used in anomaly detection by leveraging the fact that anomalies are rare and unusual events that deviate significantly from the normal behavior of a system. Here are some common techniques used for anomaly detection using unsupervised machine learning:\n",
    "\n",
    "1. Clustering: Clustering algorithms such as k-means, DBSCAN, and hierarchical clustering can be used to group similar data points together. Anomalies can then be identified as data points that do not belong to any of the clusters or are in small, isolated clusters.\n",
    "\n",
    "2. Density-Based Outlier Detection: Density-based techniques such as Local Outlier Factor (LOF) and Isolation Forest can be used to identify outliers that have a low density compared to their neighbors.\n",
    "\n",
    "3. Dimensionality Reduction: Dimensionality reduction techniques such as Principal Component Analysis (PCA) and t-SNE can be used to reduce the high-dimensional data into a lower-dimensional space. Anomalies can then be identified as data points that are far from the bulk of the data in the reduced space.\n",
    "\n",
    "4. Autoencoders: Autoencoders are a type of neural network that can be used for unsupervised anomaly detection. The autoencoder learns to reconstruct the input data, and anomalies can be identified as data points that are poorly reconstructed.\n",
    "\n",
    "Overall, unsupervised machine learning is a useful tool for anomaly detection because it can identify anomalies without requiring a labeled dataset. However, it's important to note that the success of the unsupervised approach depends heavily on the quality of the data and the choice of the algorithm."
   ]
  },
  {
   "cell_type": "markdown",
   "id": "61a7a688-ba09-486e-9ad9-55aa35ca805f",
   "metadata": {},
   "source": [
    "### Q8 : List down some commonly used supervised learning algorithms and unsupervised learning algorithms."
   ]
  },
  {
   "cell_type": "markdown",
   "id": "24f83537-8bd5-4f15-8859-570a4bf71c5e",
   "metadata": {},
   "source": [
    "Below are commonly used supervised and unsupervised Machine Learning algorithms :\n",
    "\n",
    "| Supervised Learning Algorithms | Unsupervised Learning Algorithms |\n",
    "| --- | --- |\n",
    "| Linear Regression | K-Means Clustering |\n",
    "| Logistic Regression | Hierarchical Clustering |\n",
    "| Decision Tree | DBSCAN Clustering |\n",
    "| Random Forest | Principal Component Analysis (PCA) |\n",
    "| Support Vector Machines (SVM) | Independent Component Analysis (ICA) |\n",
    "| Naive Bayes | t-SNE (t-Distributed Stochastic Neighbor Embedding) |\n",
    "| K-Nearest Neighbors (KNN) | Isolation Forest |\n",
    "| Neural Networks | Autoencoders | "
   ]
  },
  {
   "cell_type": "code",
   "execution_count": null,
   "id": "cc9cb93a-2d6c-451f-80e8-6c9b172650fd",
   "metadata": {},
   "outputs": [],
   "source": []
  }
 ],
 "metadata": {
  "kernelspec": {
   "display_name": "Python 3 (ipykernel)",
   "language": "python",
   "name": "python3"
  },
  "language_info": {
   "codemirror_mode": {
    "name": "ipython",
    "version": 3
   },
   "file_extension": ".py",
   "mimetype": "text/x-python",
   "name": "python",
   "nbconvert_exporter": "python",
   "pygments_lexer": "ipython3",
   "version": "3.10.8"
  }
 },
 "nbformat": 4,
 "nbformat_minor": 5
}
