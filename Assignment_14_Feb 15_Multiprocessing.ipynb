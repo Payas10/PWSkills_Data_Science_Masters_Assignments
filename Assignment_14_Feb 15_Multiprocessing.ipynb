{
 "cells": [
  {
   "cell_type": "markdown",
   "id": "1982ea5b-3eb4-4d9e-9897-7d6834ecf720",
   "metadata": {
    "tags": []
   },
   "source": [
    "# Assignment 14 - Feb 15' 23 - Multiprocessing"
   ]
  },
  {
   "cell_type": "markdown",
   "id": "ea31a22d-b965-42ca-bd96-58cbba7dd2c3",
   "metadata": {
    "tags": []
   },
   "source": [
    "### 1. What is multiprocessing in python? Why is it useful?"
   ]
  },
  {
   "cell_type": "markdown",
   "id": "e9c9c9df-7ce6-40b1-8185-ebe5170b2e57",
   "metadata": {},
   "source": [
    "#### WHAT?\n",
    "* Multiprocessing refers to the ability of a system to support more than one processor at the same time. Applications in a multiprocessing system are broken to smaller routines that run independently. The operating system allocates these threads to the processors improving performance of the system.\n",
    "\n",
    "#### WHY?\n",
    "* Consider a computer system with a single processor. If it is assigned several processes at the same time, it will have to interrupt each task and switch briefly to another, to keep all of the processes going.\n",
    "* This situation is just like a chef working in a kitchen alone. He has to do several tasks like baking, stirring, kneading dough, etc.\n",
    "* So the gist is that: The more tasks you must do at once, the more difficult it gets to keep track of them all, and keeping the timing right becomes more of a challenge.\n",
    "* This is where the concept of multiprocessing arises!\n",
    "* A multiprocessing system can have:\n",
    "\n",
    "> * multiprocessor, i.e. a computer with more than one central processor.\n",
    "> * multi-core processor, i.e. a single computing component with two or more independent actual processing units (called “cores”). \n",
    "* Here, the CPU can easily executes several tasks at once, with each task using its own processor.\n",
    "* It is just like the chef in last situation being assisted by his assistants. Now, they can divide the tasks among themselves and chef doesn’t need to switch between his tasks."
   ]
  },
  {
   "cell_type": "markdown",
   "id": "d99a7c61-e5c3-4596-aebf-aaf0fa79cdbe",
   "metadata": {
    "tags": []
   },
   "source": [
    "### 2. What are the differences between multiprocessing and multithreading?"
   ]
  },
  {
   "cell_type": "markdown",
   "id": "b3b36d4a-7745-4daa-a39d-54add5fd8364",
   "metadata": {},
   "source": [
    "| Parameter | Multiprocessing | Multithreading |\n",
    "|-|-|-|\n",
    "|Basic|Multiprocessing helps you to increase computing power.|Multithreading helps you to create computing threads of a single process to increase computing power.|\n",
    "|Concept|Multiple processors/CPUs are added to the system to increase the computing power of the system.|Multiple threads are created of a process to be executed in a parallel fashion to increase the throughput of the system.|\n",
    "|Execution|It allows you to execute multiple processes concurrently.|Multiple threads of a single process are executed concurrently.|\n",
    "|CPU switching|In Multiprocessing, CPU has to switch between multiple programs so that it looks like that multiple programs are running simultaneously.|In multithreading, CPU has to switch between multiple threads to make it appear that all threads are running simultaneously.|\n",
    "|Creation|The creation of a process is slow and resource-specific. Multiprocessing requires a significant amount of time and large number of resources.|The creation of a thread is economical in time and resource. Multithreading requires less time and few resources to create.|\n",
    "|Classification|Multiprocessing can be symmetric or asymmetric.|Multithreading is not classified.|\n",
    "|Memory|Multiprocessing allocates separate memory and resources for each process or program.|Multithreading threads belonging to the same process share the same memory and resources as that of the process.|\n",
    "|Pickling objects|Multiprocessing relies on pickling objects in memory to send to other processes.|Multithreading avoids pickling.|\n",
    "|Program|Multiprocessing system allows executing multiple programs and tasks.|Multithreading system executes multiple threads of the same or different processes.|\n",
    "|Time taken|Less time is taken for job processing.|A moderate amount of time is taken for job processing.|"
   ]
  },
  {
   "cell_type": "markdown",
   "id": "9d4cb931-bffe-43b6-b6e1-4e3b71853cc7",
   "metadata": {
    "tags": []
   },
   "source": [
    "### 3. Write a python code to create a process using the multiprocessing module."
   ]
  },
  {
   "cell_type": "code",
   "execution_count": 2,
   "id": "43149de8-fce5-4edb-9327-3d1cfd75d70f",
   "metadata": {},
   "outputs": [
    {
     "name": "stdout",
     "output_type": "stream",
     "text": [
      "Square: 100\n",
      "Cube: 1000\n",
      "Done!\n"
     ]
    }
   ],
   "source": [
    "# python code to print the square and cube of a number\n",
    "\n",
    "import multiprocessing  # importing the multiprocessing module\n",
    "\n",
    "def print_square(num) :   # fn to print square of a number\n",
    "    print(\"Square: {}\".format(num**2))\n",
    "    \n",
    "def print_cube(num) :    # fn to print cube of a number\n",
    "    print(\"Cube: {}\".format(num**3))\n",
    "    \n",
    "if __name__ == '__main__':   # calling the main function\n",
    "    \n",
    "    # creating the processes\n",
    "    m1 = multiprocessing.Process(target = print_square , args = (10,))  # process to print square\n",
    "    m2 = multiprocessing.Process(target = print_cube , args = (10,))    # process to print cube\n",
    "    \n",
    "    m1.start()  # starting process 1\n",
    "    m2.start()  # starting process 2\n",
    "    m1.join()   # wait until process 1 is finished\n",
    "    m2.join()   # wait untill process 2 is finished\n",
    "    \n",
    "    # both processes finished\n",
    "    print(\"Done!\")"
   ]
  },
  {
   "cell_type": "markdown",
   "id": "b420bf8e-8536-4b41-a4bf-b58341d76697",
   "metadata": {
    "tags": []
   },
   "source": [
    "### 4. What is a multiprocessing pool in python? Why is it used?"
   ]
  },
  {
   "cell_type": "markdown",
   "id": "aae2b2c3-ca85-4d7a-ba18-85e8778dfad2",
   "metadata": {
    "tags": []
   },
   "source": [
    "#### WHAT?\n",
    "* The Pool class in multiprocessing module provides a process pool in Python.\n",
    "> * the process pool class can be accesed via the helpful alias *multiprocessing.Pool*.\n",
    "* Pool class can be used for parallel execution of a function for different input data. The multiprocessing.Pool() class spawns a set of processes called workers and can submit tasks using the methods apply/apply_async and map/map_async. For parallel mapping, you should first initialize a multiprocessing.Pool() object. The first argument is the number of workers; if not given, that number will be equal to the number of cores in the system.asynchronous results with timeouts and callbacks and has a parallel map implementation.\n",
    "* In order to utilize all the cores, multiprocessing module provides a Pool class. The Pool class represents a pool of worker processes. It has methods which allows tasks to be offloaded to the worker processes in a few different ways. Consider the diagram below:\n",
    "<center><img src=\"https://media.geeksforgeeks.org/wp-content/uploads/synchronization-python-3.png\"></center>\n",
    "* This image represents a program which is returning the square of all the numbers in a given list.\n",
    "* In this, multiple worker processes (as sepcified in the code) of the task of squaring a numbers in the list is created and distributed among the cores/processors automatically.\n",
    "* Once all the worker processes finish their task, a list is returned with the final result.\n",
    "### WHY?\n",
    "* Here, the task is offloaded/distributed among the cores/processes automatically by Pool object. User doesn’t need to worry about creating processes explicitly."
   ]
  },
  {
   "cell_type": "markdown",
   "id": "9ba9c702-b680-4f8c-87b8-77cef783035c",
   "metadata": {
    "tags": []
   },
   "source": [
    "### 5.  How can we create a pool of worker processes in python using the multiprocessing module?"
   ]
  },
  {
   "cell_type": "markdown",
   "id": "d6399ddc-8b84-4a45-a5d2-caea20af4435",
   "metadata": {},
   "source": [
    "* Let us understand the the syntax of Pool class first.\n",
    "> We create a Pool object using:\n",
    "> * p = *multiprocessing.Pool()*\n",
    ">> * There are a few arguments for gaining more control over offloading of task. These are:\n",
    ">>> * processes: specify the number of worker processes.\n",
    ">>> * maxtasksperchild: specify the maximum number of task to be assigned per child.\n",
    ">> * All the processes in a pool can be made to perform some initialization using these arguments:\n",
    ">>> * initializer: specify an initialization function for worker processes.\n",
    ">>> * initargs: arguments to be passed to initializer."
   ]
  },
  {
   "cell_type": "code",
   "execution_count": 2,
   "id": "63792176-4c97-4d82-953e-cfec654d9b08",
   "metadata": {},
   "outputs": [
    {
     "name": "stdout",
     "output_type": "stream",
     "text": [
      "[1, 4, 9, 16, 25, 36, 49, 64, 81]\n"
     ]
    }
   ],
   "source": [
    "# Let us consider a simple program to find squares of numbers in a given list.\n",
    "\n",
    "import multiprocessing\n",
    "\n",
    "def square(n):\n",
    "    return n**2\n",
    "\n",
    "if __name__ == '__main__':\n",
    "    \n",
    "    # to provide pool of data inside this program\n",
    "    # if processes = 5, so whatever data is been inserted, it will allocated 5 different processes automatically                                                   \n",
    "    # and then parallely it execute each and everyone, accumulate the result and give the result\n",
    "    with multiprocessing.Pool(processes = 5) as pool : \n",
    "        out = pool.map(square, [1,2,3,4,5,6,7,8,9])\n",
    "        print(out)\n",
    "    \n",
    "    # this will create 5 different processes and distribute the data (i.e list of numbers) along with the function (i.e square())\n",
    "    # there is only one function (i.e square(n)) and it is taking only one arguement/data (i.e 'n')\n",
    "    # so the process will pass all of the data in the function one by one\n",
    "    # so the function will execute itself the no. of times equals to the elements present in the list \n",
    "    # i.e these many instances of the function will get executed\n",
    "    # and only then we'll be able to get square of every element inside the list\n",
    "    # it will distribute the funtion along with the data in 5 different processes (as processes = 5).\n",
    "    # accumulate the result and give the result\n",
    "        "
   ]
  },
  {
   "cell_type": "markdown",
   "id": "65b772ac-79c3-4a29-b81e-d0ce1dabb2fe",
   "metadata": {},
   "source": [
    "### 6. Write a python program to create 4 processes, each process should print a different number using the multiprocessing module in python"
   ]
  },
  {
   "cell_type": "code",
   "execution_count": 3,
   "id": "d82cac6f-92a4-4682-822d-9b3ab0fcd496",
   "metadata": {},
   "outputs": [
    {
     "name": "stdout",
     "output_type": "stream",
     "text": [
      "278\n",
      "25\n",
      "245\n",
      "454\n"
     ]
    }
   ],
   "source": [
    "# python program to create 4 processes, \n",
    "# where each process print a different number using the multiprocessing module in python\n",
    "\n",
    "import multiprocessing\n",
    "import random\n",
    "\n",
    "def num_1():\n",
    "    print(random.randint(1,500))\n",
    "    \n",
    "def num_2():\n",
    "    print(random.randint(1,500))\n",
    "    \n",
    "def num_3():\n",
    "    print(random.randint(1,500))\n",
    "    \n",
    "def num_4():\n",
    "    print(random.randint(1,500))\n",
    "    \n",
    "if __name__ == '__main__':\n",
    "    \n",
    "    # creating new process\n",
    "    p1 = multiprocessing.Process(target = num_1)\n",
    "    p2 = multiprocessing.Process(target = num_2)\n",
    "    p3 = multiprocessing.Process(target = num_3)\n",
    "    p4 = multiprocessing.Process(target = num_4)\n",
    "    \n",
    "    # starting/running process\n",
    "    p1.start()  \n",
    "    p2.start()\n",
    "    p3.start()\n",
    "    p4.start()\n",
    "    \n",
    "    # wait untill process finish\n",
    "    p1.join()\n",
    "    p2.join()\n",
    "    p3.join()\n",
    "    p4.join()"
   ]
  },
  {
   "cell_type": "code",
   "execution_count": null,
   "id": "c43160d2-11b0-4416-a432-b8afb92bb698",
   "metadata": {},
   "outputs": [],
   "source": []
  }
 ],
 "metadata": {
  "kernelspec": {
   "display_name": "Python 3 (ipykernel)",
   "language": "python",
   "name": "python3"
  },
  "language_info": {
   "codemirror_mode": {
    "name": "ipython",
    "version": 3
   },
   "file_extension": ".py",
   "mimetype": "text/x-python",
   "name": "python",
   "nbconvert_exporter": "python",
   "pygments_lexer": "ipython3",
   "version": "3.10.8"
  }
 },
 "nbformat": 4,
 "nbformat_minor": 5
}
