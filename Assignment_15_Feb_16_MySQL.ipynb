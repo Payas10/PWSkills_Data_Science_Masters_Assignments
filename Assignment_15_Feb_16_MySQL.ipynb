{
 "cells": [
  {
   "cell_type": "markdown",
   "id": "86aeeecf-638d-42c5-a024-88061dc90334",
   "metadata": {},
   "source": [
    "# Assignment 15 - Feb 16' 23 - MySQL"
   ]
  },
  {
   "cell_type": "markdown",
   "id": "a029ecb0-9017-4054-bbbe-32c3b85d0692",
   "metadata": {},
   "source": [
    "### 1. What is a database? Differentiate between SQL and NoSQL databases."
   ]
  },
  {
   "cell_type": "markdown",
   "id": "f72c0638-71d8-41fa-9cc9-08e3fc2e170f",
   "metadata": {},
   "source": [
    "#### WHAT?\n",
    "* A database is a collection of data that is organized, which is also called structured data. It can be accessed or stored in a computer system. It can be managed through a Database Management System (DBMS), a software used to manage data. Database refers to related data in a structured form. \n",
    "* In a database, data is organized into tables consisting of rows and columns and it is indexed so data can be updated, expanded, and deleted easily. Computer databases typically contain file records data like transactions money in one bank account to another bank account, sales and customer details, fee details of students, and product details. There are different kinds of databases, ranging from the most prevalent approach, the relational database, to a distributed database, cloud database, and NoSQL databases. \n",
    "\n",
    "#### Difference between SQL and NoSQL (Not only SQL)\n",
    "\n",
    "| Parameter | SQL | NoSQL |\n",
    "|-|-|-|\n",
    "|**Type**|Relational Database Management System (RDBMS)|Non-relational or distributed database system|\n",
    "|**Language**|These databases have fixed or static or predefined schema|They have dynamic schema|\n",
    "|**data storage**|These databases are not suited for hierarchical data storage|These databases are best suited for hierarchical data storage|\n",
    "|**complex queries**|These databases are best suited for complex queries|These databases are not so good for complex queries|\n",
    "|**Scalability**|Vertically Scalable i.e increase the load on a single server by increasing things like RAM, CPU or SSD|Horizontally scalable i.e This means that you handle more traffic by sharding, or adding more servers in your NoSQL database. Thus NoSQL can ultimately become larger and more powerful, making these databases the preferred choice for large or ever-changing data sets.|\n",
    "|**Property followed**|Follows ACID property i.e. Atomicity, Consistency, Isolation and Durability|Follows CAP(consistency, availability, partition tolerance)|\n",
    "|**Examples**|MySQL, PostgreSQL, Oracle, MS-SQL Server, etc.|MongoDB, GraphQL, HBase, Neo4j, Cassandra, etc.|\n"
   ]
  },
  {
   "cell_type": "markdown",
   "id": "3ac62a87-3590-4b62-b727-49ddb4ffbb85",
   "metadata": {},
   "source": [
    "### 2. What is DDL? Explain why CREATE, DROP, ALTER, and TRUNCATE are used with an example."
   ]
  },
  {
   "cell_type": "markdown",
   "id": "e1fe5a53-db95-4cdc-9bb5-1ea77cebde2c",
   "metadata": {},
   "source": [
    "* Data Definition Language(DDL) is a subset of SQL and a part of DBMS(Database Management System). DDL consist of Commands to commands like CREATE, ALTER, TRUNCATE and DROP. These commands are used to create or modify the tables in SQL. In short, DDL deals with defining the database schemas and descriptions, of how the data should reside in the database.\n",
    "* It simply deals with descriptions of the database schema and is used to create and modify the structure of database objects in the database. \n",
    "* DDL is a set of SQL commands used to create, modify, and delete database structures but not data. These commands are normally not used by a general user, who should be accessing the database via an application.\n",
    "* List of DDL commands : \n",
    "\n",
    "> * *CREATE* : This command is used to create the database or its objects (like table, index, function, views, store procedure, and triggers).\n",
    "> * *DROP* : This command is used to delete objects from the database.\n",
    "> * *ALTER* : This is used to alter the structure of the database.\n",
    "> * *TRUNCATE* : This is used to remove all records from a table, including all spaces allocated for the records are removed.\n",
    "> * *COMMENT* : This is used to add comments to the data dictionary.\n",
    "> * *RENAME* : This is used to rename an object existing in the database."
   ]
  },
  {
   "cell_type": "markdown",
   "id": "cd4e1863-2c93-4b23-92b6-12ee4e648c31",
   "metadata": {},
   "source": [
    "* Example of CREATE command - table for storing Student information of a particular College.\n",
    "> CREATE TABLE Student_info </br>\n",
    "( </br>\n",
    "College_Id number(2), </br>\n",
    "College_name varchar(30), </br>\n",
    "Branch varchar(10) </br>\n",
    ");</br>\n",
    "\n",
    "* Example of ALTER command - to add a new column for CGPA.\n",
    "> ALTER TABLE Student_info </br>\n",
    "ADD CGPA number;\n",
    "\n",
    "* Example of TRUNCATE command - to remove the details of all students for new batches but wants to keep the same table structure\n",
    "> TRUNCATE TABLE Student_info;\n",
    "\n",
    "* Example of DROP command - remove an Student_info table along with its structure from the Database.\n",
    "> DROP TABLE Student_info;"
   ]
  },
  {
   "cell_type": "markdown",
   "id": "00d96244-65d4-4307-a0a8-6535df7e5ace",
   "metadata": {},
   "source": [
    "### 3. What is DML? Explain INSERT, UPDATE, and DELETE with an example."
   ]
  },
  {
   "cell_type": "markdown",
   "id": "adece8c5-fef8-4932-a96b-6ab35c350e1b",
   "metadata": {},
   "source": [
    "* The SQL commands that deals with the manipulation of data present in the database belong to DML or Data Manipulation Language and this includes most of the SQL statements. It is the component of the SQL statement that controls access to data and to the database. Basically, DCL statements are grouped with DML statements.\n",
    "* List of DML commands: \n",
    "> * *INSERT* : It is used to insert data into a table.\n",
    "> * *UPDATE* : It is used to update existing data within a table.\n",
    "> * *DELETE* : It is used to delete records from a database table.\n",
    "> * *LOCK* : Table control concurrency.\n",
    "> * *CALL* : Call a PL/SQL or JAVA subprogram.\n",
    "> * *EXPLAIN PLAN* : It describes the access path to data."
   ]
  },
  {
   "cell_type": "markdown",
   "id": "08db4e30-b726-493f-979a-2a9928c7bd18",
   "metadata": {},
   "source": [
    "* Example of INSERT command - inserting Student information in Student_info table.\n",
    "> INSERT INTO Student_info (College_Id, College_name, Branch varchar) </br>\n",
    "VALUES ('ABC456', 'PW Skills College', 'Data Science Masters');\n",
    "\n",
    "* Example of UPDATE command - Updating the column College_ID and set the value to 'PWS001' in all the rows where College_name is 'PW skills College'.\n",
    "> UPDATE Student_info SET College_ID = 'PWS001' </br>\n",
    "WHERE College_name = 'PW skills College';\n",
    "\n",
    "* Example of DELETE command - Delete the rows where College_ID = 'PWS001'.\n",
    "> DELETE FROM Student_info WHERE College_ID = 'PWS001';"
   ]
  },
  {
   "cell_type": "markdown",
   "id": "3fdd79ef-924a-4a53-bd30-c33c280b8f15",
   "metadata": {},
   "source": [
    "### 4. What is DQL? Explain SELECT with an example."
   ]
  },
  {
   "cell_type": "markdown",
   "id": "6f6206bc-4c53-42d5-976a-b4b01fde9352",
   "metadata": {},
   "source": [
    "* DQL statements are used for performing queries on the data within schema objects. \n",
    "* The purpose of the DQL Command is to get some schema relation based on the query passed to it. \n",
    "* We can define DQL as follows \n",
    "> it is a component of SQL statement that allows getting data from the database and imposing order upon it. \n",
    "* It includes the SELECT statement. This command allows getting the data out of the database to perform operations with it. When a SELECT is fired against a table or tables the result is compiled into a further temporary table, which is displayed or perhaps received by the program i.e. a front-end.\n",
    "* List of DQL: \n",
    "> * *SELECT* : It is used to retrieve data from the database.\n",
    "\n",
    "</br>\n",
    "</br>\n",
    "\n",
    "* Example of SELECT command - To fetch the entire table or all the fields in the table\n",
    "> SELECT * FROM Student_info;\n",
    "* Example of SELECT command - to fetch the fields College_ID, Branch from the table Student_info\n",
    "> SELECT College_ID, Branch FROM Student;"
   ]
  },
  {
   "cell_type": "markdown",
   "id": "1729a694-bd4a-41f7-bf21-17bd769bcc2a",
   "metadata": {},
   "source": [
    "### 5. Explain Primary Key and Foreign Key"
   ]
  },
  {
   "cell_type": "markdown",
   "id": "d545566c-95cc-4d46-8eda-bc8cca635d8d",
   "metadata": {},
   "source": [
    "<center><img src=\"https://media.geeksforgeeks.org/wp-content/uploads/20221028180613/1-300x143.png\"></center>\n",
    "\n",
    "#### Primary Key :\n",
    "* A primary key is used to ensure that data in the specific column is unique. A column cannot have NULL values. It is either an existing table column or a column that is specifically generated by the database according to a defined sequence. \n",
    "* Example: Refer the figure – \n",
    "> STUD_NO, as well as STUD_PHONE both, are candidate keys for relation STUDENT but STUD_NO can be chosen as the primary key (only one out of many candidate keys).\n",
    "\n",
    "#### Foreign Key :\n",
    "* A foreign key is a column or group of columns in a relational database table that provides a link between data in two tables. It is a column (or columns) that references a column (most often the primary key) of another table. \n",
    "* Example: Refer the figure – \n",
    "> STUD_NO in STUDENT_COURSE is a foreign key to STUD_NO in STUDENT relation. \n",
    "\n",
    "#### Difference :\n",
    "| Sr. No. | Primary Key | Foreign Key |\n",
    "|-|-|-|\n",
    "|**1**|A primary key is used to ensure data in the specific column is unique.|A foreign key is a column or group of columns in a relational database table that provides a link between data in two tables.|\n",
    "|**2**|It uniquely identifies a record in the relational database table.|It refers to the field in a table which is the primary key of another table.|\n",
    "|**3**|Only one primary key is allowed in a table.|Whereas more than one foreign key are allowed in a table.|\n",
    "|**4**|It is a combination of UNIQUE and Not Null constraints.|It can contain duplicate values and a table in a relational database.|\n",
    "|**5**|It does not allow NULL values.|It can also contain NULL values.|\n",
    "|**6**|Its value cannot be deleted from the parent table.|Its value can be deleted from the child table.|\n",
    "|**7**|It constraint can be implicitly defined on the temporary tables.|It constraint cannot be defined on the local or global temporary tables.|\n"
   ]
  },
  {
   "cell_type": "markdown",
   "id": "1e59931b-b658-4c51-8deb-170958c55980",
   "metadata": {},
   "source": [
    "### 6.  Write a python code to connect MySQL to python. Explain the cursor() and execute() method."
   ]
  },
  {
   "cell_type": "code",
   "execution_count": null,
   "id": "0119d24d-cbd7-448a-8939-35af8cf38a96",
   "metadata": {},
   "outputs": [],
   "source": [
    "# code to connect MySQL to python\n",
    "\n",
    "!pip install mysql-connector\n",
    "\n",
    "import mysql.connector\n",
    "# import mysql.connector\n",
    "#create user 'user'@'%' identified by 'password'\n",
    "mydb = mysql.connector.connect(\n",
    "  host=\"127.0.0.1\",\n",
    "  user=\"abc\",\n",
    "  password=\"password\"\n",
    ")\n",
    "print(mydb)\n",
    "mycursor = mydb.cursor()\n",
    "mycursor.execute(\"SHOW DATABASES\")\n",
    "for x in mycursor:\n",
    "  print(x)"
   ]
  },
  {
   "cell_type": "markdown",
   "id": "143a6d1a-d7f3-45dc-835f-6c5eb5d713fa",
   "metadata": {},
   "source": [
    "#### cursor() \n",
    "* Cursor is a Temporary Memory or Temporary Work Station. It is Allocated by Database Server at the Time of Performing DML(Data Manipulation Language) operations on Table by User. Cursors are used to store Database Tables. \n",
    "* The MySQLCursor of mysql-connector-python (and similar libraries) is used to execute statements to communicate with the MySQL database.\n",
    "* Using the methods of it you can execute SQL statements, fetch data from the result sets, call procedures.\n",
    "* You can create Cursor object using the cursor() method of the Connection object/class.\n",
    "> * Example : mycursor = mydb.cursor()\n",
    "\n",
    "#### execute() method\n",
    "* execute() is one of the method provided by the Cursor class/object.\n",
    "* This method accepts a MySQL query as a parameter and executes the given query.\n",
    "> * Example : mycursor.execute(\"SELECT * FROM Student_info\")"
   ]
  },
  {
   "cell_type": "markdown",
   "id": "97c9ddbc-c1f7-47c9-98bd-44cd8915e0b2",
   "metadata": {},
   "source": [
    "### 7. Give the order of execution of SQL clauses in an SQL query."
   ]
  },
  {
   "cell_type": "markdown",
   "id": "67aaf087-702f-4d7f-99a9-f7fa106fecae",
   "metadata": {},
   "source": [
    "* Knowing the order in which an SQL query is executed can help us a great deal in optimizing our queries. This is especially true with large and complex queries where knowing the order of execution can save us from unwanted results, and help us create queries that execute faster improving spped and performance.\n",
    "* A query engine understands and execute your query in the following order of clauses:\n",
    "> 1. FROM\n",
    "> 2. JOIN / LEFT JOIN / RIGHT JOIN / FULL OUTER JOIN\n",
    "> 3. ON\n",
    "> 4. WHERE\n",
    "> 5. GROUP BY\n",
    "> 6. HAVING\n",
    "> 7. SELECT\n",
    "> 8. ORDER BY\n",
    "> 9. LIMIT / OFFSET\n",
    "* **NOTE** - *that the actual physical execution of an SQL statement is determined by the database's query processor and the order of execution can vary in different DBMS.*"
   ]
  },
  {
   "cell_type": "code",
   "execution_count": null,
   "id": "bb9ad9b0-9156-4eaa-9c19-887b86ba4756",
   "metadata": {},
   "outputs": [],
   "source": []
  }
 ],
 "metadata": {
  "kernelspec": {
   "display_name": "Python 3 (ipykernel)",
   "language": "python",
   "name": "python3"
  },
  "language_info": {
   "codemirror_mode": {
    "name": "ipython",
    "version": 3
   },
   "file_extension": ".py",
   "mimetype": "text/x-python",
   "name": "python",
   "nbconvert_exporter": "python",
   "pygments_lexer": "ipython3",
   "version": "3.10.8"
  }
 },
 "nbformat": 4,
 "nbformat_minor": 5
}
