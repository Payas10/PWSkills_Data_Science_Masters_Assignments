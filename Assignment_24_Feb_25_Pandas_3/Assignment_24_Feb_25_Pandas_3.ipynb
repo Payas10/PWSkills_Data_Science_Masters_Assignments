{
 "cells": [
  {
   "cell_type": "markdown",
   "id": "fe181bb9-888c-4c39-8e6d-700ae9cdc05a",
   "metadata": {},
   "source": [
    "# Assignment 24 - Feb 25' 23 - Pandas 3 & 4"
   ]
  },
  {
   "cell_type": "markdown",
   "id": "801652d6-325a-4c54-a3af-41a0f6103bad",
   "metadata": {},
   "source": [
    "## Consider following code to answer further questions:"
   ]
  },
  {
   "cell_type": "code",
   "execution_count": 1,
   "id": "5da5cf21-ceb3-43f0-8144-c88bfa9cc69c",
   "metadata": {},
   "outputs": [
    {
     "data": {
      "text/html": [
       "<div>\n",
       "<style scoped>\n",
       "    .dataframe tbody tr th:only-of-type {\n",
       "        vertical-align: middle;\n",
       "    }\n",
       "\n",
       "    .dataframe tbody tr th {\n",
       "        vertical-align: top;\n",
       "    }\n",
       "\n",
       "    .dataframe thead th {\n",
       "        text-align: right;\n",
       "    }\n",
       "</style>\n",
       "<table border=\"1\" class=\"dataframe\">\n",
       "  <thead>\n",
       "    <tr style=\"text-align: right;\">\n",
       "      <th></th>\n",
       "      <th>course_name</th>\n",
       "      <th>duration</th>\n",
       "    </tr>\n",
       "  </thead>\n",
       "  <tbody>\n",
       "    <tr>\n",
       "      <th>0</th>\n",
       "      <td>Data Science</td>\n",
       "      <td>2</td>\n",
       "    </tr>\n",
       "    <tr>\n",
       "      <th>1</th>\n",
       "      <td>Machine Learning</td>\n",
       "      <td>3</td>\n",
       "    </tr>\n",
       "    <tr>\n",
       "      <th>2</th>\n",
       "      <td>Big Data</td>\n",
       "      <td>6</td>\n",
       "    </tr>\n",
       "    <tr>\n",
       "      <th>3</th>\n",
       "      <td>Data Engineer</td>\n",
       "      <td>4</td>\n",
       "    </tr>\n",
       "  </tbody>\n",
       "</table>\n",
       "</div>"
      ],
      "text/plain": [
       "        course_name  duration\n",
       "0      Data Science         2\n",
       "1  Machine Learning         3\n",
       "2          Big Data         6\n",
       "3     Data Engineer         4"
      ]
     },
     "execution_count": 1,
     "metadata": {},
     "output_type": "execute_result"
    }
   ],
   "source": [
    "import pandas as pd\n",
    "course_name = ['Data Science', 'Machine Learning', 'Big Data', 'Data Engineer']\n",
    "duration =  [2,3,6,4]\n",
    "df = pd.DataFrame(data = {'course_name' : course_name, 'duration' : duration})\n",
    "df"
   ]
  },
  {
   "cell_type": "markdown",
   "id": "f34a6ca1-0266-4cf0-9278-a00d73cb17b3",
   "metadata": {},
   "source": [
    "### 1. Write a code to print the data present in the second row of the dataframe, df."
   ]
  },
  {
   "cell_type": "code",
   "execution_count": 2,
   "id": "e30b9ce4-b47d-4716-bb6a-e1d8e02b87f2",
   "metadata": {},
   "outputs": [
    {
     "data": {
      "text/plain": [
       "course_name    Machine Learning\n",
       "duration                      3\n",
       "Name: 1, dtype: object"
      ]
     },
     "execution_count": 2,
     "metadata": {},
     "output_type": "execute_result"
    }
   ],
   "source": [
    "df.iloc[1]"
   ]
  },
  {
   "cell_type": "code",
   "execution_count": 3,
   "id": "b326384d-245a-428d-988c-5117cad54770",
   "metadata": {},
   "outputs": [
    {
     "data": {
      "text/plain": [
       "course_name    Machine Learning\n",
       "duration                      3\n",
       "Name: 1, dtype: object"
      ]
     },
     "execution_count": 3,
     "metadata": {},
     "output_type": "execute_result"
    }
   ],
   "source": [
    "df.loc[1]"
   ]
  },
  {
   "cell_type": "code",
   "execution_count": 4,
   "id": "8cf2e5a9-25e8-404c-a7f2-31723462a293",
   "metadata": {},
   "outputs": [
    {
     "data": {
      "text/html": [
       "<div>\n",
       "<style scoped>\n",
       "    .dataframe tbody tr th:only-of-type {\n",
       "        vertical-align: middle;\n",
       "    }\n",
       "\n",
       "    .dataframe tbody tr th {\n",
       "        vertical-align: top;\n",
       "    }\n",
       "\n",
       "    .dataframe thead th {\n",
       "        text-align: right;\n",
       "    }\n",
       "</style>\n",
       "<table border=\"1\" class=\"dataframe\">\n",
       "  <thead>\n",
       "    <tr style=\"text-align: right;\">\n",
       "      <th></th>\n",
       "      <th>course_name</th>\n",
       "      <th>duration</th>\n",
       "    </tr>\n",
       "  </thead>\n",
       "  <tbody>\n",
       "    <tr>\n",
       "      <th>1</th>\n",
       "      <td>Machine Learning</td>\n",
       "      <td>3</td>\n",
       "    </tr>\n",
       "  </tbody>\n",
       "</table>\n",
       "</div>"
      ],
      "text/plain": [
       "        course_name  duration\n",
       "1  Machine Learning         3"
      ]
     },
     "execution_count": 4,
     "metadata": {},
     "output_type": "execute_result"
    }
   ],
   "source": [
    "df[[\"course_name\", \"duration\"]][1:2]"
   ]
  },
  {
   "cell_type": "code",
   "execution_count": 5,
   "id": "a7ffa5ee-a893-408e-b742-85c6d2779879",
   "metadata": {},
   "outputs": [
    {
     "data": {
      "text/html": [
       "<div>\n",
       "<style scoped>\n",
       "    .dataframe tbody tr th:only-of-type {\n",
       "        vertical-align: middle;\n",
       "    }\n",
       "\n",
       "    .dataframe tbody tr th {\n",
       "        vertical-align: top;\n",
       "    }\n",
       "\n",
       "    .dataframe thead th {\n",
       "        text-align: right;\n",
       "    }\n",
       "</style>\n",
       "<table border=\"1\" class=\"dataframe\">\n",
       "  <thead>\n",
       "    <tr style=\"text-align: right;\">\n",
       "      <th></th>\n",
       "      <th>course_name</th>\n",
       "      <th>duration</th>\n",
       "    </tr>\n",
       "  </thead>\n",
       "  <tbody>\n",
       "    <tr>\n",
       "      <th>1</th>\n",
       "      <td>Machine Learning</td>\n",
       "      <td>3</td>\n",
       "    </tr>\n",
       "  </tbody>\n",
       "</table>\n",
       "</div>"
      ],
      "text/plain": [
       "        course_name  duration\n",
       "1  Machine Learning         3"
      ]
     },
     "execution_count": 5,
     "metadata": {},
     "output_type": "execute_result"
    }
   ],
   "source": [
    "df[1:2]"
   ]
  },
  {
   "cell_type": "markdown",
   "id": "a1e5cbf0-57af-46de-b006-bd76431d4c2c",
   "metadata": {},
   "source": [
    "### 2. What is the difference between the functions loc and iloc in pandas.DataFrame?"
   ]
  },
  {
   "cell_type": "markdown",
   "id": "f4adcd74-d254-4122-9ee0-63e81e3154ce",
   "metadata": {},
   "source": [
    "#### loc()\n",
    "* The loc() function is *label based (named index)* data selecting method which means that we have to pass the name of the row or column which we want to select. \n",
    "* This method includes the last element of the range passed in it, unlike iloc(). \n",
    "* loc() can accept the boolean data unlike iloc().\n",
    "\n",
    "#### iloc()\n",
    "* The iloc() function is an *indexed-based (uses default indexes which system defines by-default)* selecting method which means that we have to pass an integer index in the method to select a specific row/column. \n",
    "* This method does not include the last element of the range passed in it unlike loc(). \n",
    "* iloc() does not accept the boolean data unlike loc()."
   ]
  },
  {
   "cell_type": "markdown",
   "id": "df2b682f-1ef3-445f-a2ba-ff966e7e1041",
   "metadata": {},
   "source": [
    "### 3. Reindex the given dataframe using a variable, reindex = [3,0,1,2] and store it in the variable, new_df then find the output for both new_df.loc[2] and new_df.iloc[2]. Did you observe any difference in both the outputs? If so then explain it"
   ]
  },
  {
   "cell_type": "code",
   "execution_count": 6,
   "id": "c8a4b84a-99b0-4aa2-868c-98a75737c7f8",
   "metadata": {},
   "outputs": [
    {
     "data": {
      "text/html": [
       "<div>\n",
       "<style scoped>\n",
       "    .dataframe tbody tr th:only-of-type {\n",
       "        vertical-align: middle;\n",
       "    }\n",
       "\n",
       "    .dataframe tbody tr th {\n",
       "        vertical-align: top;\n",
       "    }\n",
       "\n",
       "    .dataframe thead th {\n",
       "        text-align: right;\n",
       "    }\n",
       "</style>\n",
       "<table border=\"1\" class=\"dataframe\">\n",
       "  <thead>\n",
       "    <tr style=\"text-align: right;\">\n",
       "      <th></th>\n",
       "      <th>course_name</th>\n",
       "      <th>duration</th>\n",
       "    </tr>\n",
       "  </thead>\n",
       "  <tbody>\n",
       "    <tr>\n",
       "      <th>3</th>\n",
       "      <td>Data Engineer</td>\n",
       "      <td>4</td>\n",
       "    </tr>\n",
       "    <tr>\n",
       "      <th>0</th>\n",
       "      <td>Data Science</td>\n",
       "      <td>2</td>\n",
       "    </tr>\n",
       "    <tr>\n",
       "      <th>1</th>\n",
       "      <td>Machine Learning</td>\n",
       "      <td>3</td>\n",
       "    </tr>\n",
       "    <tr>\n",
       "      <th>2</th>\n",
       "      <td>Big Data</td>\n",
       "      <td>6</td>\n",
       "    </tr>\n",
       "  </tbody>\n",
       "</table>\n",
       "</div>"
      ],
      "text/plain": [
       "        course_name  duration\n",
       "3     Data Engineer         4\n",
       "0      Data Science         2\n",
       "1  Machine Learning         3\n",
       "2          Big Data         6"
      ]
     },
     "execution_count": 6,
     "metadata": {},
     "output_type": "execute_result"
    }
   ],
   "source": [
    "reindex = [3,0,1,2]\n",
    "new_df = df.reindex(reindex)\n",
    "new_df"
   ]
  },
  {
   "cell_type": "code",
   "execution_count": 7,
   "id": "ff88fc99-117c-46d7-acdc-9251b42a6f8b",
   "metadata": {},
   "outputs": [
    {
     "data": {
      "text/plain": [
       "course_name    Big Data\n",
       "duration              6\n",
       "Name: 2, dtype: object"
      ]
     },
     "execution_count": 7,
     "metadata": {},
     "output_type": "execute_result"
    }
   ],
   "source": [
    "new_df.loc[2]"
   ]
  },
  {
   "cell_type": "code",
   "execution_count": 8,
   "id": "c7228f50-5c54-40d3-811c-554d5c05d542",
   "metadata": {},
   "outputs": [
    {
     "data": {
      "text/plain": [
       "course_name    Machine Learning\n",
       "duration                      3\n",
       "Name: 1, dtype: object"
      ]
     },
     "execution_count": 8,
     "metadata": {},
     "output_type": "execute_result"
    }
   ],
   "source": [
    "new_df.iloc[2]"
   ]
  },
  {
   "cell_type": "markdown",
   "id": "c17a5106-ed6d-4867-b768-d9099efa583c",
   "metadata": {},
   "source": [
    "#### Explaination\n",
    "\n",
    "#### 1. new_df.loc[2]\n",
    "This code is returning the \"Big Data and 6\" because loc[] uses named indexes or name of the row to return back the specific row/col. Here after reindexing our data rows got rearrenged with the index values. When loc[2] is used, it returns a row whose index name is 2.\n",
    "\n",
    "#### 2. new_df.iloc[2]\n",
    "This code is returning the \"Machine Learning and 3\" because iloc[] uses default indexes or the indexes that system defines by-default to return back the specific row/col. Here after reindexing our data rows got rearrenged with the index values but the default indexes given by the system are still same. When iloc[2] is used, it returns a row whose default index (system defined) is 2."
   ]
  },
  {
   "cell_type": "markdown",
   "id": "6b439067-9341-40b0-b011-2448c1317ede",
   "metadata": {},
   "source": [
    "## Consider the below code to answer further questions:"
   ]
  },
  {
   "cell_type": "code",
   "execution_count": 9,
   "id": "76ce9643-86af-49b4-80af-0a651e3298bc",
   "metadata": {},
   "outputs": [
    {
     "data": {
      "text/html": [
       "<div>\n",
       "<style scoped>\n",
       "    .dataframe tbody tr th:only-of-type {\n",
       "        vertical-align: middle;\n",
       "    }\n",
       "\n",
       "    .dataframe tbody tr th {\n",
       "        vertical-align: top;\n",
       "    }\n",
       "\n",
       "    .dataframe thead th {\n",
       "        text-align: right;\n",
       "    }\n",
       "</style>\n",
       "<table border=\"1\" class=\"dataframe\">\n",
       "  <thead>\n",
       "    <tr style=\"text-align: right;\">\n",
       "      <th></th>\n",
       "      <th>column_1</th>\n",
       "      <th>column_2</th>\n",
       "      <th>column_3</th>\n",
       "      <th>column_4</th>\n",
       "      <th>column_5</th>\n",
       "      <th>column_6</th>\n",
       "    </tr>\n",
       "  </thead>\n",
       "  <tbody>\n",
       "    <tr>\n",
       "      <th>1</th>\n",
       "      <td>0.982897</td>\n",
       "      <td>0.363754</td>\n",
       "      <td>0.410924</td>\n",
       "      <td>0.071984</td>\n",
       "      <td>0.484543</td>\n",
       "      <td>0.524730</td>\n",
       "    </tr>\n",
       "    <tr>\n",
       "      <th>2</th>\n",
       "      <td>0.951874</td>\n",
       "      <td>0.432598</td>\n",
       "      <td>0.497271</td>\n",
       "      <td>0.197063</td>\n",
       "      <td>0.038438</td>\n",
       "      <td>0.449592</td>\n",
       "    </tr>\n",
       "    <tr>\n",
       "      <th>3</th>\n",
       "      <td>0.903667</td>\n",
       "      <td>0.278326</td>\n",
       "      <td>0.568838</td>\n",
       "      <td>0.139925</td>\n",
       "      <td>0.777737</td>\n",
       "      <td>0.481655</td>\n",
       "    </tr>\n",
       "    <tr>\n",
       "      <th>4</th>\n",
       "      <td>0.828087</td>\n",
       "      <td>0.100573</td>\n",
       "      <td>0.444776</td>\n",
       "      <td>0.765334</td>\n",
       "      <td>0.521128</td>\n",
       "      <td>0.992698</td>\n",
       "    </tr>\n",
       "    <tr>\n",
       "      <th>5</th>\n",
       "      <td>0.526975</td>\n",
       "      <td>0.883026</td>\n",
       "      <td>0.794413</td>\n",
       "      <td>0.281017</td>\n",
       "      <td>0.957868</td>\n",
       "      <td>0.586914</td>\n",
       "    </tr>\n",
       "    <tr>\n",
       "      <th>6</th>\n",
       "      <td>0.526516</td>\n",
       "      <td>0.922136</td>\n",
       "      <td>0.918378</td>\n",
       "      <td>0.619390</td>\n",
       "      <td>0.162591</td>\n",
       "      <td>0.825602</td>\n",
       "    </tr>\n",
       "  </tbody>\n",
       "</table>\n",
       "</div>"
      ],
      "text/plain": [
       "   column_1  column_2  column_3  column_4  column_5  column_6\n",
       "1  0.982897  0.363754  0.410924  0.071984  0.484543  0.524730\n",
       "2  0.951874  0.432598  0.497271  0.197063  0.038438  0.449592\n",
       "3  0.903667  0.278326  0.568838  0.139925  0.777737  0.481655\n",
       "4  0.828087  0.100573  0.444776  0.765334  0.521128  0.992698\n",
       "5  0.526975  0.883026  0.794413  0.281017  0.957868  0.586914\n",
       "6  0.526516  0.922136  0.918378  0.619390  0.162591  0.825602"
      ]
     },
     "execution_count": 9,
     "metadata": {},
     "output_type": "execute_result"
    }
   ],
   "source": [
    "import pandas as pd\n",
    "import numpy as np\n",
    "columns = ['column_1', 'column_2', 'column_3', 'column_4', 'column_5', 'column_6']\n",
    "indices = [1,2,3,4,5,6]\n",
    "#Creating a dataframe:\n",
    "df1 = pd.DataFrame(np.random.rand(6,6), columns = columns, index = indices)\n",
    "df1"
   ]
  },
  {
   "cell_type": "markdown",
   "id": "1dd0eff2-4781-4ea1-bb3f-051bbce3f50b",
   "metadata": {},
   "source": [
    "### 4. Write a code to find the following statistical measurements for the above dataframe df1:\n",
    "\n",
    "1. mean of each and every column present in the dataframe.\n",
    "2. standard deviation of column, 'column_2'"
   ]
  },
  {
   "cell_type": "code",
   "execution_count": 14,
   "id": "9b6083b7-ea13-4445-925d-44cfc1cf273a",
   "metadata": {},
   "outputs": [
    {
     "data": {
      "text/plain": [
       "column_1    0.786669\n",
       "column_2    0.496736\n",
       "column_3    0.605767\n",
       "column_4    0.345786\n",
       "column_5    0.490384\n",
       "column_6    0.643532\n",
       "dtype: float64"
      ]
     },
     "execution_count": 14,
     "metadata": {},
     "output_type": "execute_result"
    }
   ],
   "source": [
    "# mean of each and every column present in the dataframe.\n",
    "\n",
    "def col_mean(x):\n",
    "    return x.mean()\n",
    "    \n",
    "df1.apply(col_mean, axis=0)"
   ]
  },
  {
   "cell_type": "code",
   "execution_count": 20,
   "id": "90f8585b-c5f5-4778-8ef1-ca4086808cc7",
   "metadata": {},
   "outputs": [
    {
     "name": "stderr",
     "output_type": "stream",
     "text": [
      "/tmp/ipykernel_77/2448107847.py:1: FutureWarning: The default value of numeric_only in DataFrame.mean is deprecated. In a future version, it will default to False. In addition, specifying 'numeric_only=None' is deprecated. Select only valid columns or specify the value of numeric_only to silence this warning.\n",
      "  df1.mean(axis=0)\n"
     ]
    },
    {
     "data": {
      "text/plain": [
       "column_1    0.786669\n",
       "column_3    0.605767\n",
       "column_4    0.345786\n",
       "column_5    0.490384\n",
       "column_6    0.643532\n",
       "dtype: float64"
      ]
     },
     "execution_count": 20,
     "metadata": {},
     "output_type": "execute_result"
    }
   ],
   "source": [
    "df1.mean(axis=0)"
   ]
  },
  {
   "cell_type": "code",
   "execution_count": 15,
   "id": "e51d68e4-587d-41f4-9fc4-be19b7e30512",
   "metadata": {},
   "outputs": [
    {
     "data": {
      "text/plain": [
       "0.33365581692763757"
      ]
     },
     "execution_count": 15,
     "metadata": {},
     "output_type": "execute_result"
    }
   ],
   "source": [
    "# standard deviation of column, 'column_2'\n",
    "df1['column_2'].std()"
   ]
  },
  {
   "cell_type": "markdown",
   "id": "6523e6cd-2482-458f-bdfb-fe6b704e5704",
   "metadata": {},
   "source": [
    "### 5. Replace the data present in the second row of column, ‘column_2’ by a string variable then find the mean of column, column_2.\n",
    "* If you are getting errors in executing it then explain why.\n",
    "* [Hint: To replace the data use df1.loc[] and equate this to string data of your choice"
   ]
  },
  {
   "cell_type": "code",
   "execution_count": 17,
   "id": "2fc78e2c-ec98-4b28-8d93-36c54033cbf7",
   "metadata": {},
   "outputs": [],
   "source": [
    "df1.loc[2, \"column_2\"] = \"hello\""
   ]
  },
  {
   "cell_type": "code",
   "execution_count": 18,
   "id": "b641561e-a947-49bb-aaa0-5072c9bf6b61",
   "metadata": {},
   "outputs": [
    {
     "data": {
      "text/html": [
       "<div>\n",
       "<style scoped>\n",
       "    .dataframe tbody tr th:only-of-type {\n",
       "        vertical-align: middle;\n",
       "    }\n",
       "\n",
       "    .dataframe tbody tr th {\n",
       "        vertical-align: top;\n",
       "    }\n",
       "\n",
       "    .dataframe thead th {\n",
       "        text-align: right;\n",
       "    }\n",
       "</style>\n",
       "<table border=\"1\" class=\"dataframe\">\n",
       "  <thead>\n",
       "    <tr style=\"text-align: right;\">\n",
       "      <th></th>\n",
       "      <th>column_1</th>\n",
       "      <th>column_2</th>\n",
       "      <th>column_3</th>\n",
       "      <th>column_4</th>\n",
       "      <th>column_5</th>\n",
       "      <th>column_6</th>\n",
       "    </tr>\n",
       "  </thead>\n",
       "  <tbody>\n",
       "    <tr>\n",
       "      <th>1</th>\n",
       "      <td>0.982897</td>\n",
       "      <td>0.363754</td>\n",
       "      <td>0.410924</td>\n",
       "      <td>0.071984</td>\n",
       "      <td>0.484543</td>\n",
       "      <td>0.524730</td>\n",
       "    </tr>\n",
       "    <tr>\n",
       "      <th>2</th>\n",
       "      <td>0.951874</td>\n",
       "      <td>hello</td>\n",
       "      <td>0.497271</td>\n",
       "      <td>0.197063</td>\n",
       "      <td>0.038438</td>\n",
       "      <td>0.449592</td>\n",
       "    </tr>\n",
       "    <tr>\n",
       "      <th>3</th>\n",
       "      <td>0.903667</td>\n",
       "      <td>0.278326</td>\n",
       "      <td>0.568838</td>\n",
       "      <td>0.139925</td>\n",
       "      <td>0.777737</td>\n",
       "      <td>0.481655</td>\n",
       "    </tr>\n",
       "    <tr>\n",
       "      <th>4</th>\n",
       "      <td>0.828087</td>\n",
       "      <td>0.100573</td>\n",
       "      <td>0.444776</td>\n",
       "      <td>0.765334</td>\n",
       "      <td>0.521128</td>\n",
       "      <td>0.992698</td>\n",
       "    </tr>\n",
       "    <tr>\n",
       "      <th>5</th>\n",
       "      <td>0.526975</td>\n",
       "      <td>0.883026</td>\n",
       "      <td>0.794413</td>\n",
       "      <td>0.281017</td>\n",
       "      <td>0.957868</td>\n",
       "      <td>0.586914</td>\n",
       "    </tr>\n",
       "    <tr>\n",
       "      <th>6</th>\n",
       "      <td>0.526516</td>\n",
       "      <td>0.922136</td>\n",
       "      <td>0.918378</td>\n",
       "      <td>0.619390</td>\n",
       "      <td>0.162591</td>\n",
       "      <td>0.825602</td>\n",
       "    </tr>\n",
       "  </tbody>\n",
       "</table>\n",
       "</div>"
      ],
      "text/plain": [
       "   column_1  column_2  column_3  column_4  column_5  column_6\n",
       "1  0.982897  0.363754  0.410924  0.071984  0.484543  0.524730\n",
       "2  0.951874     hello  0.497271  0.197063  0.038438  0.449592\n",
       "3  0.903667  0.278326  0.568838  0.139925  0.777737  0.481655\n",
       "4  0.828087  0.100573  0.444776  0.765334  0.521128  0.992698\n",
       "5  0.526975  0.883026  0.794413  0.281017  0.957868  0.586914\n",
       "6  0.526516  0.922136  0.918378  0.619390  0.162591  0.825602"
      ]
     },
     "execution_count": 18,
     "metadata": {},
     "output_type": "execute_result"
    }
   ],
   "source": [
    "df1"
   ]
  },
  {
   "cell_type": "code",
   "execution_count": 21,
   "id": "57972cb2-a0f0-4eaa-9a36-ac7bb52b9772",
   "metadata": {},
   "outputs": [
    {
     "name": "stdout",
     "output_type": "stream",
     "text": [
      "Error Occoured 'column_2'\n",
      "mean() does not work on string datatype\n"
     ]
    }
   ],
   "source": [
    "try:\n",
    "    df[\"column_2\"].mean()\n",
    "except Exception as e:\n",
    "    print(\"Error Occoured\", e)\n",
    "    print(\"mean() does not work on string datatype\")"
   ]
  },
  {
   "cell_type": "markdown",
   "id": "5e83e99f-6cbe-42f3-956e-3e68fe6ddd86",
   "metadata": {},
   "source": [
    "#### Explaination\n",
    "The reason that the above code execution is returning because mean is a numerical property and mean() workes only on the numerical data. Since in column_2 we replaced row 2 value with string value and hence the mean cannot be calculated for this column."
   ]
  },
  {
   "cell_type": "markdown",
   "id": "bf09d506-a3cd-477e-aa18-e9c524a44441",
   "metadata": {
    "tags": []
   },
   "source": [
    "### 6.What do you understand about the windows function in pandas and list the types of windows functions?"
   ]
  },
  {
   "cell_type": "markdown",
   "id": "90ee77f4-7574-4418-bb34-02af518b02ef",
   "metadata": {},
   "source": [
    "#### WHAT?\n",
    "* Window function helps in the operations that performs an aggregation over a sliding partition of values.\n",
    "* Simply mean it allows to define window size or partition size (values to be considered in a single window) and perform aggregate functions over these elements giving the result and move to next set of elements by removing one previous value and adding one now value to the window.\n",
    "* Aggregation functions that can be used are -  sum, mean, median, std, min, max, var, corr, cov, etc.\n",
    "\n",
    "#### TYPES of WINDOW fn\n",
    "1. Lag in Pandas\n",
    "> The Lag Window function gets the previous value based on a defined key such as timestamp.\n",
    "2. Lead in Pandas\n",
    "> The Lead Window function gets the next value based on a defined key such as timestamp.\n",
    "3. Rolling window\n",
    "> Generic fixed or variable sliding window over the values.\n",
    "4. Expanding window\n",
    "> Accumulating window over the values. An expanding window yields the value of an aggregation statistic with all the data available up to that point in time.\n",
    "5. Exponentially Weighted window\n",
    "> Exponentially Weighted window: Accumulating and exponentially weighted window over the values. An exponentially weighted window is similar to an expanding window but with each prior point being exponentially weighted down relative to the current point. Available EW functions are mean(), var(), std(), corr(), cov()\n",
    ">> 5.1 **exponentially weighted moving average (ewm)**\n",
    ">>> Exponentially weighted moving average gives more weight to recent observations, which makes it powerful to capture recent trends more quickly.\n",
    "6. cumsum()\n",
    "> gives cumulative sum one by one based on previous elements"
   ]
  },
  {
   "cell_type": "markdown",
   "id": "2f411aff-a43a-44a3-85c1-dbea1884265f",
   "metadata": {},
   "source": [
    "### 7.  Write a code to print only the current month and year at the time of answering this question.\n",
    "[Hint: Use pandas.datetime function]"
   ]
  },
  {
   "cell_type": "code",
   "execution_count": 51,
   "id": "ad88a4d0-0c26-44cb-bc37-24cf2c6a29ff",
   "metadata": {},
   "outputs": [
    {
     "data": {
      "text/plain": [
       "Timestamp('2023-02-27 19:14:59.618218+0530', tz='Asia/Calcutta')"
      ]
     },
     "execution_count": 51,
     "metadata": {},
     "output_type": "execute_result"
    }
   ],
   "source": [
    "dt = pd.Timestamp.now(tz='Asia/Calcutta')\n",
    "dt"
   ]
  },
  {
   "cell_type": "code",
   "execution_count": 55,
   "id": "579924c1-7de1-452a-b56d-a679b40c72ef",
   "metadata": {},
   "outputs": [
    {
     "name": "stdout",
     "output_type": "stream",
     "text": [
      " current month: February \n",
      " current month: 2023\n"
     ]
    }
   ],
   "source": [
    "month = dt.month_name()\n",
    "year = dt.year\n",
    "print(f\" current month: %s \\n current month: %d\" % (month, year))"
   ]
  },
  {
   "cell_type": "markdown",
   "id": "4acf11f7-8583-4f33-86d6-fee1e5c3ec6a",
   "metadata": {},
   "source": [
    "### 8.  Write a Python program that takes in two dates as input (in the format YYYY-MM-DD) and calculates the difference between them in days, hours, and minutes using Pandas time delta. The program should prompt the user to enter the dates and display the result."
   ]
  },
  {
   "cell_type": "code",
   "execution_count": 74,
   "id": "774e074a-61c0-4cb8-9e9a-562edcc1d060",
   "metadata": {},
   "outputs": [
    {
     "name": "stdin",
     "output_type": "stream",
     "text": [
      "Enter first date (yyyy-mm-dd) :  2023-02-25 10:50:34\n",
      "Enter second date (yyyy-mm-dd) :  2023-02-27 22:32:36\n"
     ]
    }
   ],
   "source": [
    "# Python program to calculate the difference between two dates in days, hours, and minutes using Pandas time delta\n",
    "\n",
    "import pandas as pd\n",
    "\n",
    "date_1 = input(\"Enter first date (yyyy-mm-dd) : \")\n",
    "date_2 = input(\"Enter second date (yyyy-mm-dd) : \")\n",
    "\n",
    "# converting the input date to pandas datetime type\n",
    "date_1 = pd.to_datetime(date_1)\n",
    "date_2 = pd.to_datetime(date_2)"
   ]
  },
  {
   "cell_type": "code",
   "execution_count": 79,
   "id": "86a412fe-5fec-403c-949e-c535ca139308",
   "metadata": {},
   "outputs": [
    {
     "name": "stdout",
     "output_type": "stream",
     "text": [
      "The difference between 2023-02-25 10:50:34 and 2023-02-27 22:32:36 is 2 days, 11 hours and 42 minutes\n"
     ]
    }
   ],
   "source": [
    "# Calculate the difference between the two dates using Pandas time delta\n",
    "delta = date_2 - date_1\n",
    "\n",
    "# Extract the difference in days, hours, and minutes from the time delta\n",
    "days = delta.days\n",
    "hours = delta.seconds // 3600  # to convert to hours. (TimeDelta has no such attribute as hours hence not using hours)\n",
    "minutes = (delta.seconds // 60) % 60\n",
    "\n",
    "# Display the result to the user\n",
    "print(f\"The difference between {date_1} and {date_2} is {days} days, {hours} hours and {minutes} minutes\")"
   ]
  },
  {
   "cell_type": "markdown",
   "id": "2478e4f8-4814-4f9a-8023-7de66fffbfd5",
   "metadata": {},
   "source": [
    "### 9.  Write a Python program that reads a CSV file containing categorical data and converts a specified column to a categorical data type. The program should prompt the user to enter the file path, column name, and category order, and then display the sorted data."
   ]
  },
  {
   "cell_type": "code",
   "execution_count": 9,
   "id": "209ee66f-c159-4301-afd5-89e7630dd2ca",
   "metadata": {},
   "outputs": [
    {
     "name": "stdin",
     "output_type": "stream",
     "text": [
      "Enter the file path for CSV file :  Assignment_Q9.csv\n",
      "Enter the column name to convert :  Calegory\n",
      "Enter the category order (comma separated):  B,C,A\n"
     ]
    }
   ],
   "source": [
    "# Taking input from user\n",
    "file_path = input(\"Enter the file path for CSV file : \")\n",
    "column_name = input(\"Enter the column name to convert : \")\n",
    "category_order = input(\"Enter the category order (comma separated): \")"
   ]
  },
  {
   "cell_type": "code",
   "execution_count": 11,
   "id": "76391425-36c1-479b-bacc-e9cd17ea158b",
   "metadata": {},
   "outputs": [
    {
     "name": "stdout",
     "output_type": "stream",
     "text": [
      "file_path = 'Assignment_Q9.csv'\n",
      "column_name = 'Calegory'\n",
      "category_order = 'B,C,A'\n"
     ]
    },
    {
     "data": {
      "text/html": [
       "<div>\n",
       "<style scoped>\n",
       "    .dataframe tbody tr th:only-of-type {\n",
       "        vertical-align: middle;\n",
       "    }\n",
       "\n",
       "    .dataframe tbody tr th {\n",
       "        vertical-align: top;\n",
       "    }\n",
       "\n",
       "    .dataframe thead th {\n",
       "        text-align: right;\n",
       "    }\n",
       "</style>\n",
       "<table border=\"1\" class=\"dataframe\">\n",
       "  <thead>\n",
       "    <tr style=\"text-align: right;\">\n",
       "      <th></th>\n",
       "      <th>ID</th>\n",
       "      <th>Calegory</th>\n",
       "    </tr>\n",
       "  </thead>\n",
       "  <tbody>\n",
       "    <tr>\n",
       "      <th>1</th>\n",
       "      <td>2</td>\n",
       "      <td>B</td>\n",
       "    </tr>\n",
       "    <tr>\n",
       "      <th>2</th>\n",
       "      <td>3</td>\n",
       "      <td>B</td>\n",
       "    </tr>\n",
       "    <tr>\n",
       "      <th>3</th>\n",
       "      <td>4</td>\n",
       "      <td>C</td>\n",
       "    </tr>\n",
       "    <tr>\n",
       "      <th>5</th>\n",
       "      <td>6</td>\n",
       "      <td>C</td>\n",
       "    </tr>\n",
       "    <tr>\n",
       "      <th>0</th>\n",
       "      <td>1</td>\n",
       "      <td>A</td>\n",
       "    </tr>\n",
       "    <tr>\n",
       "      <th>4</th>\n",
       "      <td>5</td>\n",
       "      <td>A</td>\n",
       "    </tr>\n",
       "  </tbody>\n",
       "</table>\n",
       "</div>"
      ],
      "text/plain": [
       "   ID Calegory\n",
       "1   2        B\n",
       "2   3        B\n",
       "3   4        C\n",
       "5   6        C\n",
       "0   1        A\n",
       "4   5        A"
      ]
     },
     "execution_count": 11,
     "metadata": {},
     "output_type": "execute_result"
    }
   ],
   "source": [
    "import pandas as pd\n",
    "\n",
    "# Read the CSV file into a Pandas DataFrame\n",
    "data = pd.read_csv(file_path)\n",
    "\n",
    "# Convert the specified column to a categorical data type\n",
    "categories = category_order.split(\",\")\n",
    "data[column_name] = pd.Categorical(data[column_name], categories=categories, ordered=True)\n",
    "\n",
    "# Sort the data by the specified column\n",
    "sorted_data = data.sort_values(by = column_name)\n",
    "\n",
    "# printing the result\n",
    "print(f'{file_path = }')\n",
    "print(f'{column_name = }')\n",
    "print(f'{category_order = }')\n",
    "\n",
    "sorted_data"
   ]
  },
  {
   "cell_type": "markdown",
   "id": "9570cc43-1af6-4bc1-90cb-2c96d0ae0e33",
   "metadata": {},
   "source": [
    "### 10. Write a Python program that reads a CSV file containing sales data for different products and visualizes the data using a stacked bar chart to show the sales of each product category over time. The program should prompt the user to enter the file path and display the chart."
   ]
  },
  {
   "cell_type": "code",
   "execution_count": 10,
   "id": "c546dc54-8236-4573-9de3-02633c29e4fb",
   "metadata": {},
   "outputs": [
    {
     "name": "stdin",
     "output_type": "stream",
     "text": [
      "Enetr the file path for your sales data:  Assignment_Q10_Sales_Data.csv\n"
     ]
    }
   ],
   "source": [
    "import pandas as pd\n",
    "\n",
    "# taking input from user for file path\n",
    "filePath = input(\"Enetr the file path for your sales data: \")  # Assignment_Q10_Sales_Data.csv\n",
    "\n",
    "# reading CSV file using pandas\n",
    "Sales_df = pd.read_csv(filePath)"
   ]
  },
  {
   "cell_type": "code",
   "execution_count": 11,
   "id": "29ef57ba-7f35-4f5b-87ae-fcea91a5fbe9",
   "metadata": {},
   "outputs": [
    {
     "data": {
      "text/html": [
       "<div>\n",
       "<style scoped>\n",
       "    .dataframe tbody tr th:only-of-type {\n",
       "        vertical-align: middle;\n",
       "    }\n",
       "\n",
       "    .dataframe tbody tr th {\n",
       "        vertical-align: top;\n",
       "    }\n",
       "\n",
       "    .dataframe thead th {\n",
       "        text-align: right;\n",
       "    }\n",
       "</style>\n",
       "<table border=\"1\" class=\"dataframe\">\n",
       "  <thead>\n",
       "    <tr style=\"text-align: right;\">\n",
       "      <th></th>\n",
       "      <th>Date</th>\n",
       "      <th>Product</th>\n",
       "      <th>Category</th>\n",
       "      <th>Sales</th>\n",
       "    </tr>\n",
       "  </thead>\n",
       "  <tbody>\n",
       "    <tr>\n",
       "      <th>0</th>\n",
       "      <td>2022-01-01</td>\n",
       "      <td>Product A</td>\n",
       "      <td>Category 1</td>\n",
       "      <td>100</td>\n",
       "    </tr>\n",
       "    <tr>\n",
       "      <th>1</th>\n",
       "      <td>2022-01-01</td>\n",
       "      <td>Product B</td>\n",
       "      <td>Category 1</td>\n",
       "      <td>200</td>\n",
       "    </tr>\n",
       "    <tr>\n",
       "      <th>2</th>\n",
       "      <td>2022-01-01</td>\n",
       "      <td>Product C</td>\n",
       "      <td>Category 2</td>\n",
       "      <td>150</td>\n",
       "    </tr>\n",
       "    <tr>\n",
       "      <th>3</th>\n",
       "      <td>2022-02-01</td>\n",
       "      <td>Product A</td>\n",
       "      <td>Category 3</td>\n",
       "      <td>120</td>\n",
       "    </tr>\n",
       "    <tr>\n",
       "      <th>4</th>\n",
       "      <td>2022-02-01</td>\n",
       "      <td>Product B</td>\n",
       "      <td>Category 2</td>\n",
       "      <td>220</td>\n",
       "    </tr>\n",
       "  </tbody>\n",
       "</table>\n",
       "</div>"
      ],
      "text/plain": [
       "        Date    Product    Category  Sales\n",
       "0 2022-01-01  Product A  Category 1    100\n",
       "1 2022-01-01  Product B  Category 1    200\n",
       "2 2022-01-01  Product C  Category 2    150\n",
       "3 2022-02-01  Product A  Category 3    120\n",
       "4 2022-02-01  Product B  Category 2    220"
      ]
     },
     "execution_count": 11,
     "metadata": {},
     "output_type": "execute_result"
    }
   ],
   "source": [
    "# to change date type column to pandas datetime\n",
    "\n",
    "Sales_df['Date'] = Sales_df['Date'].astype('datetime64') # or Sales_df[\"Date\"] = pd.to_datetime(Sales_df[\"Date\"])\n",
    "Sales_df.head()"
   ]
  },
  {
   "cell_type": "code",
   "execution_count": 12,
   "id": "437f095f-c21c-416e-9221-0e66c45478a9",
   "metadata": {},
   "outputs": [
    {
     "data": {
      "text/html": [
       "<div>\n",
       "<style scoped>\n",
       "    .dataframe tbody tr th:only-of-type {\n",
       "        vertical-align: middle;\n",
       "    }\n",
       "\n",
       "    .dataframe tbody tr th {\n",
       "        vertical-align: top;\n",
       "    }\n",
       "\n",
       "    .dataframe thead th {\n",
       "        text-align: right;\n",
       "    }\n",
       "</style>\n",
       "<table border=\"1\" class=\"dataframe\">\n",
       "  <thead>\n",
       "    <tr style=\"text-align: right;\">\n",
       "      <th></th>\n",
       "      <th>Date</th>\n",
       "      <th>Category</th>\n",
       "      <th>Sales</th>\n",
       "    </tr>\n",
       "  </thead>\n",
       "  <tbody>\n",
       "    <tr>\n",
       "      <th>0</th>\n",
       "      <td>2022-01-01</td>\n",
       "      <td>Category 1</td>\n",
       "      <td>300</td>\n",
       "    </tr>\n",
       "    <tr>\n",
       "      <th>1</th>\n",
       "      <td>2022-01-01</td>\n",
       "      <td>Category 2</td>\n",
       "      <td>150</td>\n",
       "    </tr>\n",
       "    <tr>\n",
       "      <th>2</th>\n",
       "      <td>2022-02-01</td>\n",
       "      <td>Category 2</td>\n",
       "      <td>220</td>\n",
       "    </tr>\n",
       "    <tr>\n",
       "      <th>3</th>\n",
       "      <td>2022-02-01</td>\n",
       "      <td>Category 3</td>\n",
       "      <td>280</td>\n",
       "    </tr>\n",
       "    <tr>\n",
       "      <th>4</th>\n",
       "      <td>2022-03-01</td>\n",
       "      <td>Category 1</td>\n",
       "      <td>250</td>\n",
       "    </tr>\n",
       "  </tbody>\n",
       "</table>\n",
       "</div>"
      ],
      "text/plain": [
       "        Date    Category  Sales\n",
       "0 2022-01-01  Category 1    300\n",
       "1 2022-01-01  Category 2    150\n",
       "2 2022-02-01  Category 2    220\n",
       "3 2022-02-01  Category 3    280\n",
       "4 2022-03-01  Category 1    250"
      ]
     },
     "execution_count": 12,
     "metadata": {},
     "output_type": "execute_result"
    }
   ],
   "source": [
    "# Group the data by 'Date' and 'Category', and sum the 'Sales' column\n",
    "sales_grouped = Sales_df.groupby([\"Date\", \"Category\"])[\"Sales\"].sum().reset_index()\n",
    "\n",
    "sales_grouped.head()"
   ]
  },
  {
   "cell_type": "code",
   "execution_count": 13,
   "id": "ed331e4a-1dd4-455e-a2c6-6e51670ef75e",
   "metadata": {},
   "outputs": [
    {
     "data": {
      "text/html": [
       "<div>\n",
       "<style scoped>\n",
       "    .dataframe tbody tr th:only-of-type {\n",
       "        vertical-align: middle;\n",
       "    }\n",
       "\n",
       "    .dataframe tbody tr th {\n",
       "        vertical-align: top;\n",
       "    }\n",
       "\n",
       "    .dataframe thead th {\n",
       "        text-align: right;\n",
       "    }\n",
       "</style>\n",
       "<table border=\"1\" class=\"dataframe\">\n",
       "  <thead>\n",
       "    <tr style=\"text-align: right;\">\n",
       "      <th>Category</th>\n",
       "      <th>Category 1</th>\n",
       "      <th>Category 2</th>\n",
       "      <th>Category 3</th>\n",
       "    </tr>\n",
       "    <tr>\n",
       "      <th>Date</th>\n",
       "      <th></th>\n",
       "      <th></th>\n",
       "      <th></th>\n",
       "    </tr>\n",
       "  </thead>\n",
       "  <tbody>\n",
       "    <tr>\n",
       "      <th>2022-01-01</th>\n",
       "      <td>300.0</td>\n",
       "      <td>150.0</td>\n",
       "      <td>0.0</td>\n",
       "    </tr>\n",
       "    <tr>\n",
       "      <th>2022-02-01</th>\n",
       "      <td>0.0</td>\n",
       "      <td>220.0</td>\n",
       "      <td>280.0</td>\n",
       "    </tr>\n",
       "    <tr>\n",
       "      <th>2022-03-01</th>\n",
       "      <td>250.0</td>\n",
       "      <td>350.0</td>\n",
       "      <td>0.0</td>\n",
       "    </tr>\n",
       "    <tr>\n",
       "      <th>2022-04-01</th>\n",
       "      <td>300.0</td>\n",
       "      <td>0.0</td>\n",
       "      <td>210.0</td>\n",
       "    </tr>\n",
       "    <tr>\n",
       "      <th>2022-05-01</th>\n",
       "      <td>180.0</td>\n",
       "      <td>0.0</td>\n",
       "      <td>380.0</td>\n",
       "    </tr>\n",
       "    <tr>\n",
       "      <th>2022-06-01</th>\n",
       "      <td>390.0</td>\n",
       "      <td>0.0</td>\n",
       "      <td>190.0</td>\n",
       "    </tr>\n",
       "    <tr>\n",
       "      <th>2022-07-01</th>\n",
       "      <td>0.0</td>\n",
       "      <td>650.0</td>\n",
       "      <td>0.0</td>\n",
       "    </tr>\n",
       "    <tr>\n",
       "      <th>2022-08-01</th>\n",
       "      <td>270.0</td>\n",
       "      <td>450.0</td>\n",
       "      <td>0.0</td>\n",
       "    </tr>\n",
       "    <tr>\n",
       "      <th>2022-09-01</th>\n",
       "      <td>500.0</td>\n",
       "      <td>290.0</td>\n",
       "      <td>0.0</td>\n",
       "    </tr>\n",
       "    <tr>\n",
       "      <th>2022-10-01</th>\n",
       "      <td>0.0</td>\n",
       "      <td>0.0</td>\n",
       "      <td>850.0</td>\n",
       "    </tr>\n",
       "  </tbody>\n",
       "</table>\n",
       "</div>"
      ],
      "text/plain": [
       "Category    Category 1  Category 2  Category 3\n",
       "Date                                          \n",
       "2022-01-01       300.0       150.0         0.0\n",
       "2022-02-01         0.0       220.0       280.0\n",
       "2022-03-01       250.0       350.0         0.0\n",
       "2022-04-01       300.0         0.0       210.0\n",
       "2022-05-01       180.0         0.0       380.0\n",
       "2022-06-01       390.0         0.0       190.0\n",
       "2022-07-01         0.0       650.0         0.0\n",
       "2022-08-01       270.0       450.0         0.0\n",
       "2022-09-01       500.0       290.0         0.0\n",
       "2022-10-01         0.0         0.0       850.0"
      ]
     },
     "execution_count": 13,
     "metadata": {},
     "output_type": "execute_result"
    }
   ],
   "source": [
    "# Pivot the data to create a table with 'Date' as the index and 'Category' as the columns\n",
    "sales_pivot = sales_grouped.pivot(index=\"Date\", columns=\"Category\", values=\"Sales\")\n",
    "sales_pivot = sales_pivot.fillna(0)\n",
    "sales_pivot"
   ]
  },
  {
   "cell_type": "code",
   "execution_count": 14,
   "id": "0c09aada-d84d-483d-9a42-9a1fc3eb1a5f",
   "metadata": {},
   "outputs": [
    {
     "data": {
      "image/png": "[encoded data removed]",
      "text/plain": [
       "<Figure size 640x480 with 1 Axes>"
      ]
     },
     "metadata": {},
     "output_type": "display_data"
    }
   ],
   "source": [
    "# Plot the stacked bar graph\n",
    "import matplotlib.pyplot as plt\n",
    "\n",
    "sales_pivot.plot(kind='barh', stacked=True)\n",
    "\n",
    "plt.title('Sales by Category over Time')\n",
    "plt.xlabel('Date')\n",
    "plt.ylabel('Sales')\n",
    "\n",
    "plt.show()"
   ]
  },
  {
   "cell_type": "markdown",
   "id": "d45fc46f-14cd-4eea-a306-fa28ab74eecc",
   "metadata": {},
   "source": [
    "### 11. You are given a CSV file containing student data that includes the student ID and their test score. Write a Python program that reads the CSV file, calculates the mean, median, and mode of the test scores, and displays the results in a table.\n",
    "\n",
    "#### The program should do the following\n",
    "* Prompt the user to enter the file path of the CSV file containing the student data\n",
    "* Read the CSV file into a Pandas DataFrame\n",
    "* Calculate the mean, median, and mode of the test scores using Pandas tools\n",
    "* Display the mean, median, and mode in a table.\n",
    "\n",
    "#### Assume the CSV file contains the following columns\n",
    "* Student ID: The ID of the student\n",
    "* Test Score: The score of the student's test.\n",
    "\n",
    "#### Example usage of the program:\n",
    "Enter the file path of the CSV file containing the student data: student_data.csv\n",
    "\n",
    "| Statistic | Value |\n",
    "|-|-|\n",
    "|Mean|79.6|\n",
    "|Median|82|\n",
    "|Mode|85, 90|\n",
    "\n",
    "#### Assume that the CSV file student_data.csv contains the following data:\n",
    "|Student ID|Test Score|\n",
    "|-|-|\n",
    "|1|85|\n",
    "|2|90|\n",
    "|3|80|\n",
    "|4|75|\n",
    "|5|85|\n",
    "|6|82|\n",
    "|7|78|\n",
    "|8|85|\n",
    "|9|90|\n",
    "|10|85|\n",
    "\n",
    "The program should calculate the mean, median, and mode of the test scores and display the results in a table."
   ]
  },
  {
   "cell_type": "code",
   "execution_count": 15,
   "id": "07ac33d2-a6dc-4672-a46c-c2fb9879d4d7",
   "metadata": {},
   "outputs": [
    {
     "name": "stdin",
     "output_type": "stream",
     "text": [
      "Enetr the file path for your student data:  student_data.csv\n"
     ]
    }
   ],
   "source": [
    "# taking input from user for file path\n",
    "FilePath = input(\"Enetr the file path for your student data: \")  # student_data.csv"
   ]
  },
  {
   "cell_type": "code",
   "execution_count": 21,
   "id": "667773b7-98a6-4277-8f3c-8529b8711af7",
   "metadata": {},
   "outputs": [
    {
     "data": {
      "text/html": [
       "<div>\n",
       "<style scoped>\n",
       "    .dataframe tbody tr th:only-of-type {\n",
       "        vertical-align: middle;\n",
       "    }\n",
       "\n",
       "    .dataframe tbody tr th {\n",
       "        vertical-align: top;\n",
       "    }\n",
       "\n",
       "    .dataframe thead th {\n",
       "        text-align: right;\n",
       "    }\n",
       "</style>\n",
       "<table border=\"1\" class=\"dataframe\">\n",
       "  <thead>\n",
       "    <tr style=\"text-align: right;\">\n",
       "      <th></th>\n",
       "      <th>Value</th>\n",
       "    </tr>\n",
       "    <tr>\n",
       "      <th>Statistic</th>\n",
       "      <th></th>\n",
       "    </tr>\n",
       "  </thead>\n",
       "  <tbody>\n",
       "    <tr>\n",
       "      <th>Mean</th>\n",
       "      <td>83.5</td>\n",
       "    </tr>\n",
       "    <tr>\n",
       "      <th>Median</th>\n",
       "      <td>85.0</td>\n",
       "    </tr>\n",
       "    <tr>\n",
       "      <th>Mode</th>\n",
       "      <td>[85]</td>\n",
       "    </tr>\n",
       "  </tbody>\n",
       "</table>\n",
       "</div>"
      ],
      "text/plain": [
       "          Value\n",
       "Statistic      \n",
       "Mean       83.5\n",
       "Median     85.0\n",
       "Mode       [85]"
      ]
     },
     "execution_count": 21,
     "metadata": {},
     "output_type": "execute_result"
    }
   ],
   "source": [
    "import pandas as pd\n",
    "\n",
    "# reading file into pandas dataframe\n",
    "student_df = pd.read_csv(FilePath)\n",
    "\n",
    "# Calculate the mean, median, and mode of the test scores using Pandas tools\n",
    "mean = student_df[\"Test Score\"].mean()\n",
    "median = student_df[\"Test Score\"].median()\n",
    "mode = student_df[\"Test Score\"].mode().values\n",
    "\n",
    "result_dict = {\"Statistic\" : [\"Mean\", \"Median\", \"Mode\"] , \"Value\" : [mean, median, mode]}\n",
    "result_df = pd.DataFrame(result_dict).set_index(\"Statistic\")\n",
    "result_df"
   ]
  },
  {
   "cell_type": "code",
   "execution_count": null,
   "id": "0b3c6a63-4c12-4682-91b6-5beded947954",
   "metadata": {},
   "outputs": [],
   "source": []
  }
 ],
 "metadata": {
  "kernelspec": {
   "display_name": "Python 3 (ipykernel)",
   "language": "python",
   "name": "python3"
  },
  "language_info": {
   "codemirror_mode": {
    "name": "ipython",
    "version": 3
   },
   "file_extension": ".py",
   "mimetype": "text/x-python",
   "name": "python",
   "nbconvert_exporter": "python",
   "pygments_lexer": "ipython3",
   "version": "3.10.8"
  }
 },
 "nbformat": 4,
 "nbformat_minor": 5
}
