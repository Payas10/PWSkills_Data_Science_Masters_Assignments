{
 "cells": [
  {
   "cell_type": "markdown",
   "id": "4e388f7e-dfef-4498-9cdc-85b23238b7a7",
   "metadata": {},
   "source": [
    "# Assignment 8 - Feb 7' 23"
   ]
  },
  {
   "cell_type": "markdown",
   "id": "5eece619-acba-4859-845c-acb88e0d6092",
   "metadata": {
    "tags": []
   },
   "source": [
    "### 1. You are writing code for a company. The requirement of the company is that you create a python function that will check whether the password entered by the user is correct or not. The function should take the password as input and return the string “Valid Password” if the entered password follows the below-given password guidelines else it should return “Invalid Password”.\n",
    "* Note: \n",
    "> 1. The Password should contain at least two uppercase letters and at least two lowercase letters.\n",
    "> 2. The Password should contain at least a number and three special characters.\n",
    "> 3. The length of the password should be 10 characters long."
   ]
  },
  {
   "cell_type": "code",
   "execution_count": 23,
   "id": "189bd909-352b-4d68-bd97-4508bc36c09d",
   "metadata": {},
   "outputs": [
    {
     "name": "stdout",
     "output_type": "stream",
     "text": [
      "Rules to create password: \n",
      " \n",
      "1. The Password should contain at least two uppercase letters and at least two lowercase letters.\n",
      "2. The Password should contain at least a number and three special characters.\n",
      "3. The length of the password should be 10 characters long. \n",
      "\n"
     ]
    },
    {
     "name": "stdin",
     "output_type": "stream",
     "text": [
      "Create Password:  @PW#ski11$\n"
     ]
    },
    {
     "name": "stdout",
     "output_type": "stream",
     "text": [
      "Valid Password\n"
     ]
    }
   ],
   "source": [
    "# function that will check whether the password entered by the user is correct or not.\n",
    "\n",
    "print(\"\"\"Rules to create password: \\n \n",
    "1. The Password should contain at least two uppercase letters and at least two lowercase letters.\n",
    "2. The Password should contain at least a number and three special characters.\n",
    "3. The length of the password should be 10 characters long. \\n\"\"\")\n",
    "\n",
    "# Function to validate the password according to rules.\n",
    "\n",
    "def valid_pass(pass_word):\n",
    "    count_upper = 0\n",
    "    count_lower = 0\n",
    "    count_special = 0\n",
    "    count_num = 0\n",
    "    if int(len(pass_word)) == 10:\n",
    "        for c in pass_word:\n",
    "            if c.isalpha() == True:\n",
    "                if c.isupper() == True:\n",
    "                    count_upper = count_upper + 1\n",
    "                else:\n",
    "                    if c.islower() == True:\n",
    "                        count_lower = count_lower + 1\n",
    "            elif c.isnumeric() == True:\n",
    "                count_num = count_num + 1\n",
    "            elif c.isalpha() == False and c.isnumeric() == False and c.isspace() == False:\n",
    "                count_special = count_special + 1\n",
    "            else:\n",
    "                return \"Invalid Password !!! space are not allowed in password\"\n",
    "                break\n",
    "         \n",
    "        if count_upper >= 2 and count_lower >=2 and count_num >=1 and count_special == 3:\n",
    "            return \"Valid Password\"\n",
    "        else:\n",
    "            return \"Invalid Password! Refer Rules to create password.\"\n",
    "    \n",
    "    else:\n",
    "        return \"Invalid Password!!! password should be 10 characters long\"\n",
    "                    \n",
    "   \n",
    "\n",
    "password = input(\"Create Password: \")\n",
    "print(valid_pass(password))"
   ]
  },
  {
   "cell_type": "code",
   "execution_count": 28,
   "id": "e13208f1-1283-4449-91b6-b9dcab4bdf80",
   "metadata": {},
   "outputs": [
    {
     "name": "stdout",
     "output_type": "stream",
     "text": [
      "Rules to create password: \n",
      " \n",
      "1. The Password should contain at least two uppercase letters and at least two lowercase letters.\n",
      "2. The Password should contain at least a number and three special characters.\n",
      "3. The length of the password should be 10 characters long. \n",
      "\n"
     ]
    },
    {
     "name": "stdin",
     "output_type": "stream",
     "text": [
      "Create Password:  @PWski11$\n"
     ]
    },
    {
     "name": "stdout",
     "output_type": "stream",
     "text": [
      "Invalid Password!!! password should be 10 characters long\n"
     ]
    }
   ],
   "source": [
    "print(\"\"\"Rules to create password: \\n \n",
    "1. The Password should contain at least two uppercase letters and at least two lowercase letters.\n",
    "2. The Password should contain at least a number and three special characters.\n",
    "3. The length of the password should be 10 characters long. \\n\"\"\")\n",
    "password = input(\"Create Password: \")\n",
    "print(valid_pass(password))"
   ]
  },
  {
   "cell_type": "code",
   "execution_count": 27,
   "id": "fdf22ab0-b39e-4b4f-b060-60cfd85497f1",
   "metadata": {},
   "outputs": [
    {
     "name": "stdout",
     "output_type": "stream",
     "text": [
      "Rules to create password: \n",
      " \n",
      "1. The Password should contain at least two uppercase letters and at least two lowercase letters.\n",
      "2. The Password should contain at least a number and three special characters.\n",
      "3. The length of the password should be 10 characters long. \n",
      "\n"
     ]
    },
    {
     "name": "stdin",
     "output_type": "stream",
     "text": [
      "Create Password:  @PW ski11$\n"
     ]
    },
    {
     "name": "stdout",
     "output_type": "stream",
     "text": [
      "Invalid Password !!! space are not allowed in password\n"
     ]
    }
   ],
   "source": [
    "print(\"\"\"Rules to create password: \\n \n",
    "1. The Password should contain at least two uppercase letters and at least two lowercase letters.\n",
    "2. The Password should contain at least a number and three special characters.\n",
    "3. The length of the password should be 10 characters long. \\n\"\"\")\n",
    "password = input(\"Create Password: \")\n",
    "print(valid_pass(password))"
   ]
  },
  {
   "cell_type": "code",
   "execution_count": 29,
   "id": "928916b4-3c5b-4aad-8475-a7de3dce5d0f",
   "metadata": {},
   "outputs": [
    {
     "name": "stdout",
     "output_type": "stream",
     "text": [
      "Rules to create password: \n",
      " \n",
      "1. The Password should contain at least two uppercase letters and at least two lowercase letters.\n",
      "2. The Password should contain at least a number and three special characters.\n",
      "3. The length of the password should be 10 characters long. \n",
      "\n"
     ]
    },
    {
     "name": "stdin",
     "output_type": "stream",
     "text": [
      "Create Password:  @PW#skill$\n"
     ]
    },
    {
     "name": "stdout",
     "output_type": "stream",
     "text": [
      "Invalid Password! Refer Rules to create password.\n"
     ]
    }
   ],
   "source": [
    "print(\"\"\"Rules to create password: \\n \n",
    "1. The Password should contain at least two uppercase letters and at least two lowercase letters.\n",
    "2. The Password should contain at least a number and three special characters.\n",
    "3. The length of the password should be 10 characters long. \\n\"\"\")\n",
    "password = input(\"Create Password: \")\n",
    "print(valid_pass(password))"
   ]
  },
  {
   "cell_type": "markdown",
   "id": "d267f910-2577-4bae-841a-ee12f9b85b12",
   "metadata": {},
   "source": [
    "### 2.  Solve the below-given questions using at least one of the following: \n",
    "\n",
    "1. Lambda function\n",
    "2. Filter function\n",
    "3. Map function\n",
    "4. List Comprehension\n",
    "> * Check if the string starts with a particular letter\n",
    "> * Check if the string is numeric\n",
    "> * Sort a list of tuples having fruit names and their quantity.[(\"mango\",99),(\"orange\",80), (\"grapes\", 1000)]\n",
    "> * Find the squares of numbers from 1 to 10\n",
    "> * Find the cube root of numbers from 1 to 10\n",
    "> * Check if a given number is even\n",
    "> * Filter odd numbers from the given list.[1,2,3,4,5,6,7,8,9,10]\n",
    "> * Sort a list of integers into positive and negative integers lists.[1,2,3,4,5,6,-1,-2,-3,-4,-5,0]"
   ]
  },
  {
   "cell_type": "code",
   "execution_count": 96,
   "id": "e538c129-9a18-4e83-8f1c-11dc0ff031eb",
   "metadata": {},
   "outputs": [
    {
     "name": "stdin",
     "output_type": "stream",
     "text": [
      "Enter string to check if it starts with h:  hello\n"
     ]
    },
    {
     "name": "stdout",
     "output_type": "stream",
     "text": [
      "Yes the string starts with h\n"
     ]
    }
   ],
   "source": [
    "# check if string start with h\n",
    "\n",
    "s = input(\"Enter string to check if it starts with h: \")\n",
    "check = lambda s :  s.startswith('h')\n",
    "if check(s) == True:\n",
    "    print(\"Yes the string starts with h\")\n",
    "else:\n",
    "    print(\"No the string doesn't starts with h\")"
   ]
  },
  {
   "cell_type": "code",
   "execution_count": 55,
   "id": "39fee885-cf16-4a3d-907b-2fb44d0b07bd",
   "metadata": {},
   "outputs": [
    {
     "name": "stdin",
     "output_type": "stream",
     "text": [
      "Enter string to check if it starts with h:  12345\n"
     ]
    },
    {
     "name": "stdout",
     "output_type": "stream",
     "text": [
      "Yes the string is numeric\n"
     ]
    }
   ],
   "source": [
    "# check if the string is numeric\n",
    "\n",
    "s = input(\"Enter string to check if it starts with h: \")\n",
    "check = lambda s :  s.isnumeric()\n",
    "if check(s) == True:\n",
    "    print(\"Yes the string is numeric\")\n",
    "else:\n",
    "    print(\"No the string is not numeric\")"
   ]
  },
  {
   "cell_type": "code",
   "execution_count": 62,
   "id": "e7f3daa1-1fac-4e11-b927-fdba127e3204",
   "metadata": {},
   "outputs": [
    {
     "name": "stdout",
     "output_type": "stream",
     "text": [
      "Original list is: [('mango', 99), ('orange', 80), ('grapes', 1000)]\n",
      "Sorted list is: [('orange', 80), ('mango', 99), ('grapes', 1000)]\n"
     ]
    }
   ],
   "source": [
    "# Sort a list of tuples having fruit names and their quantity.\n",
    "\n",
    "fruits_list = [(\"mango\",99),(\"orange\",80), (\"grapes\", 1000)]\n",
    "print(f\"Original list is: {fruits_list}\")\n",
    "fruits_list.sort(key = lambda t : t[1] )\n",
    "print(f\"Sorted list is: {fruits_list}\")"
   ]
  },
  {
   "cell_type": "code",
   "execution_count": 74,
   "id": "0bebde50-802b-4733-8f13-db89666c6554",
   "metadata": {},
   "outputs": [
    {
     "name": "stdout",
     "output_type": "stream",
     "text": [
      "Square of numbers from 1 to 10 using list comprehension: [1, 4, 9, 16, 25, 36, 49, 64, 81, 100]\n",
      "Square of numbers from 1 to 10 using map and lambda: [1, 4, 9, 16, 25, 36, 49, 64, 81, 100]\n"
     ]
    }
   ],
   "source": [
    "# squares of numbers from 1 to 10 using list comprehension\n",
    "print(f\"Square of numbers from 1 to 10 using list comprehension: {[i**2 for i in range(1,11)]}\")\n",
    "\n",
    "# squares of numbers from 1 to 10 using map and lambda\n",
    "l = [i for i in range(1, 11)]\n",
    "sq = list(map(lambda x : x**2, l))\n",
    "print(f\"Square of numbers from 1 to 10 using map and lambda: {sq}\")"
   ]
  },
  {
   "cell_type": "code",
   "execution_count": 78,
   "id": "5c1fd198-001d-4b80-881d-ca3ca874756d",
   "metadata": {},
   "outputs": [
    {
     "name": "stdout",
     "output_type": "stream",
     "text": [
      "Cube root of numbers from 1 to 10 using list comprehension: [1.0, 1.26, 1.44, 1.59, 1.71, 1.82, 1.91, 2.0, 2.08, 2.15]\n",
      "Cube root of numbers from 1 to 10 using map and lambda: [1.0, 1.26, 1.44, 1.59, 1.71, 1.82, 1.91, 2.0, 2.08, 2.15]\n"
     ]
    }
   ],
   "source": [
    "# cube root of numbers from 1 to 10 using list comprehension\n",
    "print(f\"Cube root of numbers from 1 to 10 using list comprehension: {[round(i**(1/3),2) for i in range(1,11)]}\")\n",
    "\n",
    "# cube root of numbers from 1 to 10 using map and lambda\n",
    "l = [i for i in range(1,11)]\n",
    "cbrt = list(map(lambda x : round(x**(1/3), 2), l))\n",
    "print(f\"Cube root of numbers from 1 to 10 using map and lambda: {cbrt}\")"
   ]
  },
  {
   "cell_type": "code",
   "execution_count": null,
   "id": "bbd0d4cb-d35e-4f65-b98b-1a1ced093e87",
   "metadata": {},
   "outputs": [
    {
     "name": "stdin",
     "output_type": "stream",
     "text": [
      "Enter any number: 512\n"
     ]
    },
    {
     "name": "stdout",
     "output_type": "stream",
     "text": [
      "512 is even \n",
      "\n"
     ]
    }
   ],
   "source": [
    "# Checking if a given number is even or odd by lambda function\n",
    "\n",
    "num = int(input(\"Enter any number:\"))\n",
    "result = lambda x : f\"{x} is even \\n\" if x%2 == 0 else f\"{x} is odd \\n\"\n",
    "print(result(num))"
   ]
  },
  {
   "cell_type": "code",
   "execution_count": 94,
   "id": "264bcc69-fde8-43ff-9f96-573015c66f45",
   "metadata": {},
   "outputs": [
    {
     "name": "stdout",
     "output_type": "stream",
     "text": [
      "Given list is: [1, 2, 3, 4, 5, 6, 7, 8, 9, 10]\n",
      "even nos. from the list: [1, 3, 5, 7, 9]\n"
     ]
    }
   ],
   "source": [
    "# Filter odd numbers from the given list by using lambda and filter function\n",
    "\n",
    "num_list = [1,2,3,4,5,6,7,8,9,10]\n",
    "print(f\"Given list is: {num_list}\")\n",
    "odd = list(filter(lambda n : n%2 != 0 , num_list))\n",
    "print(f\"even nos. from the list: {odd}\")"
   ]
  },
  {
   "cell_type": "code",
   "execution_count": 98,
   "id": "0c8d1bcc-a104-4615-b830-9c04441a8972",
   "metadata": {},
   "outputs": [
    {
     "name": "stdout",
     "output_type": "stream",
     "text": [
      "Given list is: [1, 2, 3, 4, 5, 6, -1, -2, -3, -4, -5, 0]\n",
      "list of positive integers is: [1, 2, 3, 4, 5, 6]\n",
      "list of negative integers is: [-1, -2, -3, -4, -5]\n"
     ]
    }
   ],
   "source": [
    "# Sorting a list of integers into positive and negative integers lists using filter and lambda\n",
    "\n",
    "lst = [1,2,3,4,5,6,-1,-2,-3,-4,-5,0]\n",
    "print(f\"Given list is: {lst}\")\n",
    "positive = list(filter(lambda x : x > 0, lst))\n",
    "negative = list(filter(lambda x : x < 0, lst))\n",
    "print(f\"list of positive integers is: {positive}\")\n",
    "print(f\"list of negative integers is: {negative}\")"
   ]
  },
  {
   "cell_type": "code",
   "execution_count": null,
   "id": "bf707267-4b7e-42f2-8ecc-288cc735db57",
   "metadata": {},
   "outputs": [],
   "source": []
  }
 ],
 "metadata": {
  "kernelspec": {
   "display_name": "Python 3 (ipykernel)",
   "language": "python",
   "name": "python3"
  },
  "language_info": {
   "codemirror_mode": {
    "name": "ipython",
    "version": 3
   },
   "file_extension": ".py",
   "mimetype": "text/x-python",
   "name": "python",
   "nbconvert_exporter": "python",
   "pygments_lexer": "ipython3",
   "version": "3.10.8"
  }
 },
 "nbformat": 4,
 "nbformat_minor": 5
}
